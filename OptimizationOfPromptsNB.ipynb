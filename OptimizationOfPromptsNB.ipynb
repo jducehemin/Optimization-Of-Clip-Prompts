{
  "nbformat": 4,
  "nbformat_minor": 0,
  "metadata": {
    "colab": {
      "provenance": [],
      "gpuType": "T4",
      "collapsed_sections": [
        "jtpMXhQdazrK"
      ],
      "toc_visible": true
    },
    "kernelspec": {
      "name": "python3",
      "display_name": "Python 3"
    },
    "language_info": {
      "name": "python"
    },
    "accelerator": "GPU",
    "widgets": {
      "application/vnd.jupyter.widget-state+json": {
        "6dbb4f56df184dddb2a6910cddfaaf78": {
          "model_module": "@jupyter-widgets/controls",
          "model_name": "HBoxModel",
          "model_module_version": "1.5.0",
          "state": {
            "_dom_classes": [],
            "_model_module": "@jupyter-widgets/controls",
            "_model_module_version": "1.5.0",
            "_model_name": "HBoxModel",
            "_view_count": null,
            "_view_module": "@jupyter-widgets/controls",
            "_view_module_version": "1.5.0",
            "_view_name": "HBoxView",
            "box_style": "",
            "children": [
              "IPY_MODEL_3761b45acd62437384f4a3ae28ef4ef4",
              "IPY_MODEL_2b2f8509b7ac4ba696b2ee4cf4be4f1a",
              "IPY_MODEL_f39add19d17c47dda617f22f3d2000ee"
            ],
            "layout": "IPY_MODEL_038a57f7b0244cd2b4353f2445714e22"
          }
        },
        "3761b45acd62437384f4a3ae28ef4ef4": {
          "model_module": "@jupyter-widgets/controls",
          "model_name": "HTMLModel",
          "model_module_version": "1.5.0",
          "state": {
            "_dom_classes": [],
            "_model_module": "@jupyter-widgets/controls",
            "_model_module_version": "1.5.0",
            "_model_name": "HTMLModel",
            "_view_count": null,
            "_view_module": "@jupyter-widgets/controls",
            "_view_module_version": "1.5.0",
            "_view_name": "HTMLView",
            "description": "",
            "description_tooltip": null,
            "layout": "IPY_MODEL_a8f4db5991824742b0dc61ff6388268c",
            "placeholder": "​",
            "style": "IPY_MODEL_613317e2bbcb477a971b6e27eecfd874",
            "value": "tokenizer_config.json: 100%"
          }
        },
        "2b2f8509b7ac4ba696b2ee4cf4be4f1a": {
          "model_module": "@jupyter-widgets/controls",
          "model_name": "FloatProgressModel",
          "model_module_version": "1.5.0",
          "state": {
            "_dom_classes": [],
            "_model_module": "@jupyter-widgets/controls",
            "_model_module_version": "1.5.0",
            "_model_name": "FloatProgressModel",
            "_view_count": null,
            "_view_module": "@jupyter-widgets/controls",
            "_view_module_version": "1.5.0",
            "_view_name": "ProgressView",
            "bar_style": "success",
            "description": "",
            "description_tooltip": null,
            "layout": "IPY_MODEL_306bbd82ea6b4f5b9c460384d80049b1",
            "max": 140874,
            "min": 0,
            "orientation": "horizontal",
            "style": "IPY_MODEL_0f149d98aa6c4c4f95645a31a59868e8",
            "value": 140874
          }
        },
        "f39add19d17c47dda617f22f3d2000ee": {
          "model_module": "@jupyter-widgets/controls",
          "model_name": "HTMLModel",
          "model_module_version": "1.5.0",
          "state": {
            "_dom_classes": [],
            "_model_module": "@jupyter-widgets/controls",
            "_model_module_version": "1.5.0",
            "_model_name": "HTMLModel",
            "_view_count": null,
            "_view_module": "@jupyter-widgets/controls",
            "_view_module_version": "1.5.0",
            "_view_name": "HTMLView",
            "description": "",
            "description_tooltip": null,
            "layout": "IPY_MODEL_75eae03486be416283dbde587a02bddd",
            "placeholder": "​",
            "style": "IPY_MODEL_4f7c044c19854a29b5341319d880b4f8",
            "value": " 141k/141k [00:00&lt;00:00, 651kB/s]"
          }
        },
        "038a57f7b0244cd2b4353f2445714e22": {
          "model_module": "@jupyter-widgets/base",
          "model_name": "LayoutModel",
          "model_module_version": "1.2.0",
          "state": {
            "_model_module": "@jupyter-widgets/base",
            "_model_module_version": "1.2.0",
            "_model_name": "LayoutModel",
            "_view_count": null,
            "_view_module": "@jupyter-widgets/base",
            "_view_module_version": "1.2.0",
            "_view_name": "LayoutView",
            "align_content": null,
            "align_items": null,
            "align_self": null,
            "border": null,
            "bottom": null,
            "display": null,
            "flex": null,
            "flex_flow": null,
            "grid_area": null,
            "grid_auto_columns": null,
            "grid_auto_flow": null,
            "grid_auto_rows": null,
            "grid_column": null,
            "grid_gap": null,
            "grid_row": null,
            "grid_template_areas": null,
            "grid_template_columns": null,
            "grid_template_rows": null,
            "height": null,
            "justify_content": null,
            "justify_items": null,
            "left": null,
            "margin": null,
            "max_height": null,
            "max_width": null,
            "min_height": null,
            "min_width": null,
            "object_fit": null,
            "object_position": null,
            "order": null,
            "overflow": null,
            "overflow_x": null,
            "overflow_y": null,
            "padding": null,
            "right": null,
            "top": null,
            "visibility": null,
            "width": null
          }
        },
        "a8f4db5991824742b0dc61ff6388268c": {
          "model_module": "@jupyter-widgets/base",
          "model_name": "LayoutModel",
          "model_module_version": "1.2.0",
          "state": {
            "_model_module": "@jupyter-widgets/base",
            "_model_module_version": "1.2.0",
            "_model_name": "LayoutModel",
            "_view_count": null,
            "_view_module": "@jupyter-widgets/base",
            "_view_module_version": "1.2.0",
            "_view_name": "LayoutView",
            "align_content": null,
            "align_items": null,
            "align_self": null,
            "border": null,
            "bottom": null,
            "display": null,
            "flex": null,
            "flex_flow": null,
            "grid_area": null,
            "grid_auto_columns": null,
            "grid_auto_flow": null,
            "grid_auto_rows": null,
            "grid_column": null,
            "grid_gap": null,
            "grid_row": null,
            "grid_template_areas": null,
            "grid_template_columns": null,
            "grid_template_rows": null,
            "height": null,
            "justify_content": null,
            "justify_items": null,
            "left": null,
            "margin": null,
            "max_height": null,
            "max_width": null,
            "min_height": null,
            "min_width": null,
            "object_fit": null,
            "object_position": null,
            "order": null,
            "overflow": null,
            "overflow_x": null,
            "overflow_y": null,
            "padding": null,
            "right": null,
            "top": null,
            "visibility": null,
            "width": null
          }
        },
        "613317e2bbcb477a971b6e27eecfd874": {
          "model_module": "@jupyter-widgets/controls",
          "model_name": "DescriptionStyleModel",
          "model_module_version": "1.5.0",
          "state": {
            "_model_module": "@jupyter-widgets/controls",
            "_model_module_version": "1.5.0",
            "_model_name": "DescriptionStyleModel",
            "_view_count": null,
            "_view_module": "@jupyter-widgets/base",
            "_view_module_version": "1.2.0",
            "_view_name": "StyleView",
            "description_width": ""
          }
        },
        "306bbd82ea6b4f5b9c460384d80049b1": {
          "model_module": "@jupyter-widgets/base",
          "model_name": "LayoutModel",
          "model_module_version": "1.2.0",
          "state": {
            "_model_module": "@jupyter-widgets/base",
            "_model_module_version": "1.2.0",
            "_model_name": "LayoutModel",
            "_view_count": null,
            "_view_module": "@jupyter-widgets/base",
            "_view_module_version": "1.2.0",
            "_view_name": "LayoutView",
            "align_content": null,
            "align_items": null,
            "align_self": null,
            "border": null,
            "bottom": null,
            "display": null,
            "flex": null,
            "flex_flow": null,
            "grid_area": null,
            "grid_auto_columns": null,
            "grid_auto_flow": null,
            "grid_auto_rows": null,
            "grid_column": null,
            "grid_gap": null,
            "grid_row": null,
            "grid_template_areas": null,
            "grid_template_columns": null,
            "grid_template_rows": null,
            "height": null,
            "justify_content": null,
            "justify_items": null,
            "left": null,
            "margin": null,
            "max_height": null,
            "max_width": null,
            "min_height": null,
            "min_width": null,
            "object_fit": null,
            "object_position": null,
            "order": null,
            "overflow": null,
            "overflow_x": null,
            "overflow_y": null,
            "padding": null,
            "right": null,
            "top": null,
            "visibility": null,
            "width": null
          }
        },
        "0f149d98aa6c4c4f95645a31a59868e8": {
          "model_module": "@jupyter-widgets/controls",
          "model_name": "ProgressStyleModel",
          "model_module_version": "1.5.0",
          "state": {
            "_model_module": "@jupyter-widgets/controls",
            "_model_module_version": "1.5.0",
            "_model_name": "ProgressStyleModel",
            "_view_count": null,
            "_view_module": "@jupyter-widgets/base",
            "_view_module_version": "1.2.0",
            "_view_name": "StyleView",
            "bar_color": null,
            "description_width": ""
          }
        },
        "75eae03486be416283dbde587a02bddd": {
          "model_module": "@jupyter-widgets/base",
          "model_name": "LayoutModel",
          "model_module_version": "1.2.0",
          "state": {
            "_model_module": "@jupyter-widgets/base",
            "_model_module_version": "1.2.0",
            "_model_name": "LayoutModel",
            "_view_count": null,
            "_view_module": "@jupyter-widgets/base",
            "_view_module_version": "1.2.0",
            "_view_name": "LayoutView",
            "align_content": null,
            "align_items": null,
            "align_self": null,
            "border": null,
            "bottom": null,
            "display": null,
            "flex": null,
            "flex_flow": null,
            "grid_area": null,
            "grid_auto_columns": null,
            "grid_auto_flow": null,
            "grid_auto_rows": null,
            "grid_column": null,
            "grid_gap": null,
            "grid_row": null,
            "grid_template_areas": null,
            "grid_template_columns": null,
            "grid_template_rows": null,
            "height": null,
            "justify_content": null,
            "justify_items": null,
            "left": null,
            "margin": null,
            "max_height": null,
            "max_width": null,
            "min_height": null,
            "min_width": null,
            "object_fit": null,
            "object_position": null,
            "order": null,
            "overflow": null,
            "overflow_x": null,
            "overflow_y": null,
            "padding": null,
            "right": null,
            "top": null,
            "visibility": null,
            "width": null
          }
        },
        "4f7c044c19854a29b5341319d880b4f8": {
          "model_module": "@jupyter-widgets/controls",
          "model_name": "DescriptionStyleModel",
          "model_module_version": "1.5.0",
          "state": {
            "_model_module": "@jupyter-widgets/controls",
            "_model_module_version": "1.5.0",
            "_model_name": "DescriptionStyleModel",
            "_view_count": null,
            "_view_module": "@jupyter-widgets/base",
            "_view_module_version": "1.2.0",
            "_view_name": "StyleView",
            "description_width": ""
          }
        },
        "b1ec96fec95c4aa88ee72b4ed86ee775": {
          "model_module": "@jupyter-widgets/controls",
          "model_name": "HBoxModel",
          "model_module_version": "1.5.0",
          "state": {
            "_dom_classes": [],
            "_model_module": "@jupyter-widgets/controls",
            "_model_module_version": "1.5.0",
            "_model_name": "HBoxModel",
            "_view_count": null,
            "_view_module": "@jupyter-widgets/controls",
            "_view_module_version": "1.5.0",
            "_view_name": "HBoxView",
            "box_style": "",
            "children": [
              "IPY_MODEL_9479c510983942ce82a7c9afef7795ea",
              "IPY_MODEL_14d178f16dc2492a9eaef2078beee3cd",
              "IPY_MODEL_8a7da3445ef445ebbcd657fa77af434c"
            ],
            "layout": "IPY_MODEL_61643dffc8734b579328a22fb0fc5090"
          }
        },
        "9479c510983942ce82a7c9afef7795ea": {
          "model_module": "@jupyter-widgets/controls",
          "model_name": "HTMLModel",
          "model_module_version": "1.5.0",
          "state": {
            "_dom_classes": [],
            "_model_module": "@jupyter-widgets/controls",
            "_model_module_version": "1.5.0",
            "_model_name": "HTMLModel",
            "_view_count": null,
            "_view_module": "@jupyter-widgets/controls",
            "_view_module_version": "1.5.0",
            "_view_name": "HTMLView",
            "description": "",
            "description_tooltip": null,
            "layout": "IPY_MODEL_9b0ac7ba2fec4ad68b541333561fcb0c",
            "placeholder": "​",
            "style": "IPY_MODEL_6b645f2eccfa4f14a2bf48ea22d13715",
            "value": "tokenizer.model: 100%"
          }
        },
        "14d178f16dc2492a9eaef2078beee3cd": {
          "model_module": "@jupyter-widgets/controls",
          "model_name": "FloatProgressModel",
          "model_module_version": "1.5.0",
          "state": {
            "_dom_classes": [],
            "_model_module": "@jupyter-widgets/controls",
            "_model_module_version": "1.5.0",
            "_model_name": "FloatProgressModel",
            "_view_count": null,
            "_view_module": "@jupyter-widgets/controls",
            "_view_module_version": "1.5.0",
            "_view_name": "ProgressView",
            "bar_style": "success",
            "description": "",
            "description_tooltip": null,
            "layout": "IPY_MODEL_37ac04e9f14448779ad931685ed5c8a2",
            "max": 587404,
            "min": 0,
            "orientation": "horizontal",
            "style": "IPY_MODEL_ecc576e2f71647fbbb1a6253cbe75aa0",
            "value": 587404
          }
        },
        "8a7da3445ef445ebbcd657fa77af434c": {
          "model_module": "@jupyter-widgets/controls",
          "model_name": "HTMLModel",
          "model_module_version": "1.5.0",
          "state": {
            "_dom_classes": [],
            "_model_module": "@jupyter-widgets/controls",
            "_model_module_version": "1.5.0",
            "_model_name": "HTMLModel",
            "_view_count": null,
            "_view_module": "@jupyter-widgets/controls",
            "_view_module_version": "1.5.0",
            "_view_name": "HTMLView",
            "description": "",
            "description_tooltip": null,
            "layout": "IPY_MODEL_68bdf98d5e6a484a8686da2ad0d62dc1",
            "placeholder": "​",
            "style": "IPY_MODEL_7fdab822c9fb4a21934e83757d5812ae",
            "value": " 587k/587k [00:00&lt;00:00, 25.7MB/s]"
          }
        },
        "61643dffc8734b579328a22fb0fc5090": {
          "model_module": "@jupyter-widgets/base",
          "model_name": "LayoutModel",
          "model_module_version": "1.2.0",
          "state": {
            "_model_module": "@jupyter-widgets/base",
            "_model_module_version": "1.2.0",
            "_model_name": "LayoutModel",
            "_view_count": null,
            "_view_module": "@jupyter-widgets/base",
            "_view_module_version": "1.2.0",
            "_view_name": "LayoutView",
            "align_content": null,
            "align_items": null,
            "align_self": null,
            "border": null,
            "bottom": null,
            "display": null,
            "flex": null,
            "flex_flow": null,
            "grid_area": null,
            "grid_auto_columns": null,
            "grid_auto_flow": null,
            "grid_auto_rows": null,
            "grid_column": null,
            "grid_gap": null,
            "grid_row": null,
            "grid_template_areas": null,
            "grid_template_columns": null,
            "grid_template_rows": null,
            "height": null,
            "justify_content": null,
            "justify_items": null,
            "left": null,
            "margin": null,
            "max_height": null,
            "max_width": null,
            "min_height": null,
            "min_width": null,
            "object_fit": null,
            "object_position": null,
            "order": null,
            "overflow": null,
            "overflow_x": null,
            "overflow_y": null,
            "padding": null,
            "right": null,
            "top": null,
            "visibility": null,
            "width": null
          }
        },
        "9b0ac7ba2fec4ad68b541333561fcb0c": {
          "model_module": "@jupyter-widgets/base",
          "model_name": "LayoutModel",
          "model_module_version": "1.2.0",
          "state": {
            "_model_module": "@jupyter-widgets/base",
            "_model_module_version": "1.2.0",
            "_model_name": "LayoutModel",
            "_view_count": null,
            "_view_module": "@jupyter-widgets/base",
            "_view_module_version": "1.2.0",
            "_view_name": "LayoutView",
            "align_content": null,
            "align_items": null,
            "align_self": null,
            "border": null,
            "bottom": null,
            "display": null,
            "flex": null,
            "flex_flow": null,
            "grid_area": null,
            "grid_auto_columns": null,
            "grid_auto_flow": null,
            "grid_auto_rows": null,
            "grid_column": null,
            "grid_gap": null,
            "grid_row": null,
            "grid_template_areas": null,
            "grid_template_columns": null,
            "grid_template_rows": null,
            "height": null,
            "justify_content": null,
            "justify_items": null,
            "left": null,
            "margin": null,
            "max_height": null,
            "max_width": null,
            "min_height": null,
            "min_width": null,
            "object_fit": null,
            "object_position": null,
            "order": null,
            "overflow": null,
            "overflow_x": null,
            "overflow_y": null,
            "padding": null,
            "right": null,
            "top": null,
            "visibility": null,
            "width": null
          }
        },
        "6b645f2eccfa4f14a2bf48ea22d13715": {
          "model_module": "@jupyter-widgets/controls",
          "model_name": "DescriptionStyleModel",
          "model_module_version": "1.5.0",
          "state": {
            "_model_module": "@jupyter-widgets/controls",
            "_model_module_version": "1.5.0",
            "_model_name": "DescriptionStyleModel",
            "_view_count": null,
            "_view_module": "@jupyter-widgets/base",
            "_view_module_version": "1.2.0",
            "_view_name": "StyleView",
            "description_width": ""
          }
        },
        "37ac04e9f14448779ad931685ed5c8a2": {
          "model_module": "@jupyter-widgets/base",
          "model_name": "LayoutModel",
          "model_module_version": "1.2.0",
          "state": {
            "_model_module": "@jupyter-widgets/base",
            "_model_module_version": "1.2.0",
            "_model_name": "LayoutModel",
            "_view_count": null,
            "_view_module": "@jupyter-widgets/base",
            "_view_module_version": "1.2.0",
            "_view_name": "LayoutView",
            "align_content": null,
            "align_items": null,
            "align_self": null,
            "border": null,
            "bottom": null,
            "display": null,
            "flex": null,
            "flex_flow": null,
            "grid_area": null,
            "grid_auto_columns": null,
            "grid_auto_flow": null,
            "grid_auto_rows": null,
            "grid_column": null,
            "grid_gap": null,
            "grid_row": null,
            "grid_template_areas": null,
            "grid_template_columns": null,
            "grid_template_rows": null,
            "height": null,
            "justify_content": null,
            "justify_items": null,
            "left": null,
            "margin": null,
            "max_height": null,
            "max_width": null,
            "min_height": null,
            "min_width": null,
            "object_fit": null,
            "object_position": null,
            "order": null,
            "overflow": null,
            "overflow_x": null,
            "overflow_y": null,
            "padding": null,
            "right": null,
            "top": null,
            "visibility": null,
            "width": null
          }
        },
        "ecc576e2f71647fbbb1a6253cbe75aa0": {
          "model_module": "@jupyter-widgets/controls",
          "model_name": "ProgressStyleModel",
          "model_module_version": "1.5.0",
          "state": {
            "_model_module": "@jupyter-widgets/controls",
            "_model_module_version": "1.5.0",
            "_model_name": "ProgressStyleModel",
            "_view_count": null,
            "_view_module": "@jupyter-widgets/base",
            "_view_module_version": "1.2.0",
            "_view_name": "StyleView",
            "bar_color": null,
            "description_width": ""
          }
        },
        "68bdf98d5e6a484a8686da2ad0d62dc1": {
          "model_module": "@jupyter-widgets/base",
          "model_name": "LayoutModel",
          "model_module_version": "1.2.0",
          "state": {
            "_model_module": "@jupyter-widgets/base",
            "_model_module_version": "1.2.0",
            "_model_name": "LayoutModel",
            "_view_count": null,
            "_view_module": "@jupyter-widgets/base",
            "_view_module_version": "1.2.0",
            "_view_name": "LayoutView",
            "align_content": null,
            "align_items": null,
            "align_self": null,
            "border": null,
            "bottom": null,
            "display": null,
            "flex": null,
            "flex_flow": null,
            "grid_area": null,
            "grid_auto_columns": null,
            "grid_auto_flow": null,
            "grid_auto_rows": null,
            "grid_column": null,
            "grid_gap": null,
            "grid_row": null,
            "grid_template_areas": null,
            "grid_template_columns": null,
            "grid_template_rows": null,
            "height": null,
            "justify_content": null,
            "justify_items": null,
            "left": null,
            "margin": null,
            "max_height": null,
            "max_width": null,
            "min_height": null,
            "min_width": null,
            "object_fit": null,
            "object_position": null,
            "order": null,
            "overflow": null,
            "overflow_x": null,
            "overflow_y": null,
            "padding": null,
            "right": null,
            "top": null,
            "visibility": null,
            "width": null
          }
        },
        "7fdab822c9fb4a21934e83757d5812ae": {
          "model_module": "@jupyter-widgets/controls",
          "model_name": "DescriptionStyleModel",
          "model_module_version": "1.5.0",
          "state": {
            "_model_module": "@jupyter-widgets/controls",
            "_model_module_version": "1.5.0",
            "_model_name": "DescriptionStyleModel",
            "_view_count": null,
            "_view_module": "@jupyter-widgets/base",
            "_view_module_version": "1.2.0",
            "_view_name": "StyleView",
            "description_width": ""
          }
        },
        "5d735150544c4c598c635b359eca750c": {
          "model_module": "@jupyter-widgets/controls",
          "model_name": "HBoxModel",
          "model_module_version": "1.5.0",
          "state": {
            "_dom_classes": [],
            "_model_module": "@jupyter-widgets/controls",
            "_model_module_version": "1.5.0",
            "_model_name": "HBoxModel",
            "_view_count": null,
            "_view_module": "@jupyter-widgets/controls",
            "_view_module_version": "1.5.0",
            "_view_name": "HBoxView",
            "box_style": "",
            "children": [
              "IPY_MODEL_efa9d138489b47ca9f7f1ca0a3d5ea7e",
              "IPY_MODEL_69dba01ba1bf48af94781525a109df55",
              "IPY_MODEL_935e9680d87749229537ca4053fd9b3c"
            ],
            "layout": "IPY_MODEL_5127e403e16f49aaaa4972758ac605d8"
          }
        },
        "efa9d138489b47ca9f7f1ca0a3d5ea7e": {
          "model_module": "@jupyter-widgets/controls",
          "model_name": "HTMLModel",
          "model_module_version": "1.5.0",
          "state": {
            "_dom_classes": [],
            "_model_module": "@jupyter-widgets/controls",
            "_model_module_version": "1.5.0",
            "_model_name": "HTMLModel",
            "_view_count": null,
            "_view_module": "@jupyter-widgets/controls",
            "_view_module_version": "1.5.0",
            "_view_name": "HTMLView",
            "description": "",
            "description_tooltip": null,
            "layout": "IPY_MODEL_00821636ad3142ae814143f430bb202d",
            "placeholder": "​",
            "style": "IPY_MODEL_a4c3540434f14236a17fbe037e2899a3",
            "value": "tokenizer.json: 100%"
          }
        },
        "69dba01ba1bf48af94781525a109df55": {
          "model_module": "@jupyter-widgets/controls",
          "model_name": "FloatProgressModel",
          "model_module_version": "1.5.0",
          "state": {
            "_dom_classes": [],
            "_model_module": "@jupyter-widgets/controls",
            "_model_module_version": "1.5.0",
            "_model_name": "FloatProgressModel",
            "_view_count": null,
            "_view_module": "@jupyter-widgets/controls",
            "_view_module_version": "1.5.0",
            "_view_name": "ProgressView",
            "bar_style": "success",
            "description": "",
            "description_tooltip": null,
            "layout": "IPY_MODEL_92b61778f7ae45c7acf6e79507c07af6",
            "max": 1961548,
            "min": 0,
            "orientation": "horizontal",
            "style": "IPY_MODEL_e73251ce8dcb437da0ca080c0f591d63",
            "value": 1961548
          }
        },
        "935e9680d87749229537ca4053fd9b3c": {
          "model_module": "@jupyter-widgets/controls",
          "model_name": "HTMLModel",
          "model_module_version": "1.5.0",
          "state": {
            "_dom_classes": [],
            "_model_module": "@jupyter-widgets/controls",
            "_model_module_version": "1.5.0",
            "_model_name": "HTMLModel",
            "_view_count": null,
            "_view_module": "@jupyter-widgets/controls",
            "_view_module_version": "1.5.0",
            "_view_name": "HTMLView",
            "description": "",
            "description_tooltip": null,
            "layout": "IPY_MODEL_b081191391154c709752b533dadfd2d8",
            "placeholder": "​",
            "style": "IPY_MODEL_5413ba386fd84533b6f374054be3951c",
            "value": " 1.96M/1.96M [00:00&lt;00:00, 4.52MB/s]"
          }
        },
        "5127e403e16f49aaaa4972758ac605d8": {
          "model_module": "@jupyter-widgets/base",
          "model_name": "LayoutModel",
          "model_module_version": "1.2.0",
          "state": {
            "_model_module": "@jupyter-widgets/base",
            "_model_module_version": "1.2.0",
            "_model_name": "LayoutModel",
            "_view_count": null,
            "_view_module": "@jupyter-widgets/base",
            "_view_module_version": "1.2.0",
            "_view_name": "LayoutView",
            "align_content": null,
            "align_items": null,
            "align_self": null,
            "border": null,
            "bottom": null,
            "display": null,
            "flex": null,
            "flex_flow": null,
            "grid_area": null,
            "grid_auto_columns": null,
            "grid_auto_flow": null,
            "grid_auto_rows": null,
            "grid_column": null,
            "grid_gap": null,
            "grid_row": null,
            "grid_template_areas": null,
            "grid_template_columns": null,
            "grid_template_rows": null,
            "height": null,
            "justify_content": null,
            "justify_items": null,
            "left": null,
            "margin": null,
            "max_height": null,
            "max_width": null,
            "min_height": null,
            "min_width": null,
            "object_fit": null,
            "object_position": null,
            "order": null,
            "overflow": null,
            "overflow_x": null,
            "overflow_y": null,
            "padding": null,
            "right": null,
            "top": null,
            "visibility": null,
            "width": null
          }
        },
        "00821636ad3142ae814143f430bb202d": {
          "model_module": "@jupyter-widgets/base",
          "model_name": "LayoutModel",
          "model_module_version": "1.2.0",
          "state": {
            "_model_module": "@jupyter-widgets/base",
            "_model_module_version": "1.2.0",
            "_model_name": "LayoutModel",
            "_view_count": null,
            "_view_module": "@jupyter-widgets/base",
            "_view_module_version": "1.2.0",
            "_view_name": "LayoutView",
            "align_content": null,
            "align_items": null,
            "align_self": null,
            "border": null,
            "bottom": null,
            "display": null,
            "flex": null,
            "flex_flow": null,
            "grid_area": null,
            "grid_auto_columns": null,
            "grid_auto_flow": null,
            "grid_auto_rows": null,
            "grid_column": null,
            "grid_gap": null,
            "grid_row": null,
            "grid_template_areas": null,
            "grid_template_columns": null,
            "grid_template_rows": null,
            "height": null,
            "justify_content": null,
            "justify_items": null,
            "left": null,
            "margin": null,
            "max_height": null,
            "max_width": null,
            "min_height": null,
            "min_width": null,
            "object_fit": null,
            "object_position": null,
            "order": null,
            "overflow": null,
            "overflow_x": null,
            "overflow_y": null,
            "padding": null,
            "right": null,
            "top": null,
            "visibility": null,
            "width": null
          }
        },
        "a4c3540434f14236a17fbe037e2899a3": {
          "model_module": "@jupyter-widgets/controls",
          "model_name": "DescriptionStyleModel",
          "model_module_version": "1.5.0",
          "state": {
            "_model_module": "@jupyter-widgets/controls",
            "_model_module_version": "1.5.0",
            "_model_name": "DescriptionStyleModel",
            "_view_count": null,
            "_view_module": "@jupyter-widgets/base",
            "_view_module_version": "1.2.0",
            "_view_name": "StyleView",
            "description_width": ""
          }
        },
        "92b61778f7ae45c7acf6e79507c07af6": {
          "model_module": "@jupyter-widgets/base",
          "model_name": "LayoutModel",
          "model_module_version": "1.2.0",
          "state": {
            "_model_module": "@jupyter-widgets/base",
            "_model_module_version": "1.2.0",
            "_model_name": "LayoutModel",
            "_view_count": null,
            "_view_module": "@jupyter-widgets/base",
            "_view_module_version": "1.2.0",
            "_view_name": "LayoutView",
            "align_content": null,
            "align_items": null,
            "align_self": null,
            "border": null,
            "bottom": null,
            "display": null,
            "flex": null,
            "flex_flow": null,
            "grid_area": null,
            "grid_auto_columns": null,
            "grid_auto_flow": null,
            "grid_auto_rows": null,
            "grid_column": null,
            "grid_gap": null,
            "grid_row": null,
            "grid_template_areas": null,
            "grid_template_columns": null,
            "grid_template_rows": null,
            "height": null,
            "justify_content": null,
            "justify_items": null,
            "left": null,
            "margin": null,
            "max_height": null,
            "max_width": null,
            "min_height": null,
            "min_width": null,
            "object_fit": null,
            "object_position": null,
            "order": null,
            "overflow": null,
            "overflow_x": null,
            "overflow_y": null,
            "padding": null,
            "right": null,
            "top": null,
            "visibility": null,
            "width": null
          }
        },
        "e73251ce8dcb437da0ca080c0f591d63": {
          "model_module": "@jupyter-widgets/controls",
          "model_name": "ProgressStyleModel",
          "model_module_version": "1.5.0",
          "state": {
            "_model_module": "@jupyter-widgets/controls",
            "_model_module_version": "1.5.0",
            "_model_name": "ProgressStyleModel",
            "_view_count": null,
            "_view_module": "@jupyter-widgets/base",
            "_view_module_version": "1.2.0",
            "_view_name": "StyleView",
            "bar_color": null,
            "description_width": ""
          }
        },
        "b081191391154c709752b533dadfd2d8": {
          "model_module": "@jupyter-widgets/base",
          "model_name": "LayoutModel",
          "model_module_version": "1.2.0",
          "state": {
            "_model_module": "@jupyter-widgets/base",
            "_model_module_version": "1.2.0",
            "_model_name": "LayoutModel",
            "_view_count": null,
            "_view_module": "@jupyter-widgets/base",
            "_view_module_version": "1.2.0",
            "_view_name": "LayoutView",
            "align_content": null,
            "align_items": null,
            "align_self": null,
            "border": null,
            "bottom": null,
            "display": null,
            "flex": null,
            "flex_flow": null,
            "grid_area": null,
            "grid_auto_columns": null,
            "grid_auto_flow": null,
            "grid_auto_rows": null,
            "grid_column": null,
            "grid_gap": null,
            "grid_row": null,
            "grid_template_areas": null,
            "grid_template_columns": null,
            "grid_template_rows": null,
            "height": null,
            "justify_content": null,
            "justify_items": null,
            "left": null,
            "margin": null,
            "max_height": null,
            "max_width": null,
            "min_height": null,
            "min_width": null,
            "object_fit": null,
            "object_position": null,
            "order": null,
            "overflow": null,
            "overflow_x": null,
            "overflow_y": null,
            "padding": null,
            "right": null,
            "top": null,
            "visibility": null,
            "width": null
          }
        },
        "5413ba386fd84533b6f374054be3951c": {
          "model_module": "@jupyter-widgets/controls",
          "model_name": "DescriptionStyleModel",
          "model_module_version": "1.5.0",
          "state": {
            "_model_module": "@jupyter-widgets/controls",
            "_model_module_version": "1.5.0",
            "_model_name": "DescriptionStyleModel",
            "_view_count": null,
            "_view_module": "@jupyter-widgets/base",
            "_view_module_version": "1.2.0",
            "_view_name": "StyleView",
            "description_width": ""
          }
        },
        "04a47e44e5074cd29552786cec7242e4": {
          "model_module": "@jupyter-widgets/controls",
          "model_name": "HBoxModel",
          "model_module_version": "1.5.0",
          "state": {
            "_dom_classes": [],
            "_model_module": "@jupyter-widgets/controls",
            "_model_module_version": "1.5.0",
            "_model_name": "HBoxModel",
            "_view_count": null,
            "_view_module": "@jupyter-widgets/controls",
            "_view_module_version": "1.5.0",
            "_view_name": "HBoxView",
            "box_style": "",
            "children": [
              "IPY_MODEL_05cc33e4c2344a5bb0c0a48d7e3d3dda",
              "IPY_MODEL_2c5bd806922e440cbd5ac2e48019c246",
              "IPY_MODEL_3e4e4814f8304244981652cbbee194b7"
            ],
            "layout": "IPY_MODEL_c076665869de4c5ca466d86e25bfe9e2"
          }
        },
        "05cc33e4c2344a5bb0c0a48d7e3d3dda": {
          "model_module": "@jupyter-widgets/controls",
          "model_name": "HTMLModel",
          "model_module_version": "1.5.0",
          "state": {
            "_dom_classes": [],
            "_model_module": "@jupyter-widgets/controls",
            "_model_module_version": "1.5.0",
            "_model_name": "HTMLModel",
            "_view_count": null,
            "_view_module": "@jupyter-widgets/controls",
            "_view_module_version": "1.5.0",
            "_view_name": "HTMLView",
            "description": "",
            "description_tooltip": null,
            "layout": "IPY_MODEL_e5d1b50311e143c8933c1320066b9344",
            "placeholder": "​",
            "style": "IPY_MODEL_906fdc9b140c4d6cba0dcf8e173982b2",
            "value": "special_tokens_map.json: 100%"
          }
        },
        "2c5bd806922e440cbd5ac2e48019c246": {
          "model_module": "@jupyter-widgets/controls",
          "model_name": "FloatProgressModel",
          "model_module_version": "1.5.0",
          "state": {
            "_dom_classes": [],
            "_model_module": "@jupyter-widgets/controls",
            "_model_module_version": "1.5.0",
            "_model_name": "FloatProgressModel",
            "_view_count": null,
            "_view_module": "@jupyter-widgets/controls",
            "_view_module_version": "1.5.0",
            "_view_name": "ProgressView",
            "bar_style": "success",
            "description": "",
            "description_tooltip": null,
            "layout": "IPY_MODEL_657f0848e25949ce938283cf8a7e0bfa",
            "max": 414,
            "min": 0,
            "orientation": "horizontal",
            "style": "IPY_MODEL_8f84b164c97b46b9ad3003ecbb6a3cb6",
            "value": 414
          }
        },
        "3e4e4814f8304244981652cbbee194b7": {
          "model_module": "@jupyter-widgets/controls",
          "model_name": "HTMLModel",
          "model_module_version": "1.5.0",
          "state": {
            "_dom_classes": [],
            "_model_module": "@jupyter-widgets/controls",
            "_model_module_version": "1.5.0",
            "_model_name": "HTMLModel",
            "_view_count": null,
            "_view_module": "@jupyter-widgets/controls",
            "_view_module_version": "1.5.0",
            "_view_name": "HTMLView",
            "description": "",
            "description_tooltip": null,
            "layout": "IPY_MODEL_6a1cd4c4686b4cfa83b7c16aacf7716f",
            "placeholder": "​",
            "style": "IPY_MODEL_5e71b0e71d3d45ee991f4b42fbad8759",
            "value": " 414/414 [00:00&lt;00:00, 47.1kB/s]"
          }
        },
        "c076665869de4c5ca466d86e25bfe9e2": {
          "model_module": "@jupyter-widgets/base",
          "model_name": "LayoutModel",
          "model_module_version": "1.2.0",
          "state": {
            "_model_module": "@jupyter-widgets/base",
            "_model_module_version": "1.2.0",
            "_model_name": "LayoutModel",
            "_view_count": null,
            "_view_module": "@jupyter-widgets/base",
            "_view_module_version": "1.2.0",
            "_view_name": "LayoutView",
            "align_content": null,
            "align_items": null,
            "align_self": null,
            "border": null,
            "bottom": null,
            "display": null,
            "flex": null,
            "flex_flow": null,
            "grid_area": null,
            "grid_auto_columns": null,
            "grid_auto_flow": null,
            "grid_auto_rows": null,
            "grid_column": null,
            "grid_gap": null,
            "grid_row": null,
            "grid_template_areas": null,
            "grid_template_columns": null,
            "grid_template_rows": null,
            "height": null,
            "justify_content": null,
            "justify_items": null,
            "left": null,
            "margin": null,
            "max_height": null,
            "max_width": null,
            "min_height": null,
            "min_width": null,
            "object_fit": null,
            "object_position": null,
            "order": null,
            "overflow": null,
            "overflow_x": null,
            "overflow_y": null,
            "padding": null,
            "right": null,
            "top": null,
            "visibility": null,
            "width": null
          }
        },
        "e5d1b50311e143c8933c1320066b9344": {
          "model_module": "@jupyter-widgets/base",
          "model_name": "LayoutModel",
          "model_module_version": "1.2.0",
          "state": {
            "_model_module": "@jupyter-widgets/base",
            "_model_module_version": "1.2.0",
            "_model_name": "LayoutModel",
            "_view_count": null,
            "_view_module": "@jupyter-widgets/base",
            "_view_module_version": "1.2.0",
            "_view_name": "LayoutView",
            "align_content": null,
            "align_items": null,
            "align_self": null,
            "border": null,
            "bottom": null,
            "display": null,
            "flex": null,
            "flex_flow": null,
            "grid_area": null,
            "grid_auto_columns": null,
            "grid_auto_flow": null,
            "grid_auto_rows": null,
            "grid_column": null,
            "grid_gap": null,
            "grid_row": null,
            "grid_template_areas": null,
            "grid_template_columns": null,
            "grid_template_rows": null,
            "height": null,
            "justify_content": null,
            "justify_items": null,
            "left": null,
            "margin": null,
            "max_height": null,
            "max_width": null,
            "min_height": null,
            "min_width": null,
            "object_fit": null,
            "object_position": null,
            "order": null,
            "overflow": null,
            "overflow_x": null,
            "overflow_y": null,
            "padding": null,
            "right": null,
            "top": null,
            "visibility": null,
            "width": null
          }
        },
        "906fdc9b140c4d6cba0dcf8e173982b2": {
          "model_module": "@jupyter-widgets/controls",
          "model_name": "DescriptionStyleModel",
          "model_module_version": "1.5.0",
          "state": {
            "_model_module": "@jupyter-widgets/controls",
            "_model_module_version": "1.5.0",
            "_model_name": "DescriptionStyleModel",
            "_view_count": null,
            "_view_module": "@jupyter-widgets/base",
            "_view_module_version": "1.2.0",
            "_view_name": "StyleView",
            "description_width": ""
          }
        },
        "657f0848e25949ce938283cf8a7e0bfa": {
          "model_module": "@jupyter-widgets/base",
          "model_name": "LayoutModel",
          "model_module_version": "1.2.0",
          "state": {
            "_model_module": "@jupyter-widgets/base",
            "_model_module_version": "1.2.0",
            "_model_name": "LayoutModel",
            "_view_count": null,
            "_view_module": "@jupyter-widgets/base",
            "_view_module_version": "1.2.0",
            "_view_name": "LayoutView",
            "align_content": null,
            "align_items": null,
            "align_self": null,
            "border": null,
            "bottom": null,
            "display": null,
            "flex": null,
            "flex_flow": null,
            "grid_area": null,
            "grid_auto_columns": null,
            "grid_auto_flow": null,
            "grid_auto_rows": null,
            "grid_column": null,
            "grid_gap": null,
            "grid_row": null,
            "grid_template_areas": null,
            "grid_template_columns": null,
            "grid_template_rows": null,
            "height": null,
            "justify_content": null,
            "justify_items": null,
            "left": null,
            "margin": null,
            "max_height": null,
            "max_width": null,
            "min_height": null,
            "min_width": null,
            "object_fit": null,
            "object_position": null,
            "order": null,
            "overflow": null,
            "overflow_x": null,
            "overflow_y": null,
            "padding": null,
            "right": null,
            "top": null,
            "visibility": null,
            "width": null
          }
        },
        "8f84b164c97b46b9ad3003ecbb6a3cb6": {
          "model_module": "@jupyter-widgets/controls",
          "model_name": "ProgressStyleModel",
          "model_module_version": "1.5.0",
          "state": {
            "_model_module": "@jupyter-widgets/controls",
            "_model_module_version": "1.5.0",
            "_model_name": "ProgressStyleModel",
            "_view_count": null,
            "_view_module": "@jupyter-widgets/base",
            "_view_module_version": "1.2.0",
            "_view_name": "StyleView",
            "bar_color": null,
            "description_width": ""
          }
        },
        "6a1cd4c4686b4cfa83b7c16aacf7716f": {
          "model_module": "@jupyter-widgets/base",
          "model_name": "LayoutModel",
          "model_module_version": "1.2.0",
          "state": {
            "_model_module": "@jupyter-widgets/base",
            "_model_module_version": "1.2.0",
            "_model_name": "LayoutModel",
            "_view_count": null,
            "_view_module": "@jupyter-widgets/base",
            "_view_module_version": "1.2.0",
            "_view_name": "LayoutView",
            "align_content": null,
            "align_items": null,
            "align_self": null,
            "border": null,
            "bottom": null,
            "display": null,
            "flex": null,
            "flex_flow": null,
            "grid_area": null,
            "grid_auto_columns": null,
            "grid_auto_flow": null,
            "grid_auto_rows": null,
            "grid_column": null,
            "grid_gap": null,
            "grid_row": null,
            "grid_template_areas": null,
            "grid_template_columns": null,
            "grid_template_rows": null,
            "height": null,
            "justify_content": null,
            "justify_items": null,
            "left": null,
            "margin": null,
            "max_height": null,
            "max_width": null,
            "min_height": null,
            "min_width": null,
            "object_fit": null,
            "object_position": null,
            "order": null,
            "overflow": null,
            "overflow_x": null,
            "overflow_y": null,
            "padding": null,
            "right": null,
            "top": null,
            "visibility": null,
            "width": null
          }
        },
        "5e71b0e71d3d45ee991f4b42fbad8759": {
          "model_module": "@jupyter-widgets/controls",
          "model_name": "DescriptionStyleModel",
          "model_module_version": "1.5.0",
          "state": {
            "_model_module": "@jupyter-widgets/controls",
            "_model_module_version": "1.5.0",
            "_model_name": "DescriptionStyleModel",
            "_view_count": null,
            "_view_module": "@jupyter-widgets/base",
            "_view_module_version": "1.2.0",
            "_view_name": "StyleView",
            "description_width": ""
          }
        },
        "cf1772d318c542f3a91ca45e539d5531": {
          "model_module": "@jupyter-widgets/controls",
          "model_name": "HBoxModel",
          "model_module_version": "1.5.0",
          "state": {
            "_dom_classes": [],
            "_model_module": "@jupyter-widgets/controls",
            "_model_module_version": "1.5.0",
            "_model_name": "HBoxModel",
            "_view_count": null,
            "_view_module": "@jupyter-widgets/controls",
            "_view_module_version": "1.5.0",
            "_view_name": "HBoxView",
            "box_style": "",
            "children": [
              "IPY_MODEL_ff26a951233f488696fbc10641486aae",
              "IPY_MODEL_b84bf01f9fd34cceb4144f03e9404a87",
              "IPY_MODEL_60211ca990644f7aa8b9ee7119dc1819"
            ],
            "layout": "IPY_MODEL_14d48032d7a046518055d2ade795c271"
          }
        },
        "ff26a951233f488696fbc10641486aae": {
          "model_module": "@jupyter-widgets/controls",
          "model_name": "HTMLModel",
          "model_module_version": "1.5.0",
          "state": {
            "_dom_classes": [],
            "_model_module": "@jupyter-widgets/controls",
            "_model_module_version": "1.5.0",
            "_model_name": "HTMLModel",
            "_view_count": null,
            "_view_module": "@jupyter-widgets/controls",
            "_view_module_version": "1.5.0",
            "_view_name": "HTMLView",
            "description": "",
            "description_tooltip": null,
            "layout": "IPY_MODEL_b45350ed14c74ab89f72a16093307c8a",
            "placeholder": "​",
            "style": "IPY_MODEL_eeffe181c5db4d76b02116f5144bc5df",
            "value": "config.json: 100%"
          }
        },
        "b84bf01f9fd34cceb4144f03e9404a87": {
          "model_module": "@jupyter-widgets/controls",
          "model_name": "FloatProgressModel",
          "model_module_version": "1.5.0",
          "state": {
            "_dom_classes": [],
            "_model_module": "@jupyter-widgets/controls",
            "_model_module_version": "1.5.0",
            "_model_name": "FloatProgressModel",
            "_view_count": null,
            "_view_module": "@jupyter-widgets/controls",
            "_view_module_version": "1.5.0",
            "_view_name": "ProgressView",
            "bar_style": "success",
            "description": "",
            "description_tooltip": null,
            "layout": "IPY_MODEL_839e4e67f1d34691b53667cd7bfdafaa",
            "max": 601,
            "min": 0,
            "orientation": "horizontal",
            "style": "IPY_MODEL_8b162547e0514676a95aad12a4fa82b0",
            "value": 601
          }
        },
        "60211ca990644f7aa8b9ee7119dc1819": {
          "model_module": "@jupyter-widgets/controls",
          "model_name": "HTMLModel",
          "model_module_version": "1.5.0",
          "state": {
            "_dom_classes": [],
            "_model_module": "@jupyter-widgets/controls",
            "_model_module_version": "1.5.0",
            "_model_name": "HTMLModel",
            "_view_count": null,
            "_view_module": "@jupyter-widgets/controls",
            "_view_module_version": "1.5.0",
            "_view_name": "HTMLView",
            "description": "",
            "description_tooltip": null,
            "layout": "IPY_MODEL_ce2f80ee43a747c6a42623b8c7dee040",
            "placeholder": "​",
            "style": "IPY_MODEL_db4d867c53794120aaa4efc4812cd9f2",
            "value": " 601/601 [00:00&lt;00:00, 38.9kB/s]"
          }
        },
        "14d48032d7a046518055d2ade795c271": {
          "model_module": "@jupyter-widgets/base",
          "model_name": "LayoutModel",
          "model_module_version": "1.2.0",
          "state": {
            "_model_module": "@jupyter-widgets/base",
            "_model_module_version": "1.2.0",
            "_model_name": "LayoutModel",
            "_view_count": null,
            "_view_module": "@jupyter-widgets/base",
            "_view_module_version": "1.2.0",
            "_view_name": "LayoutView",
            "align_content": null,
            "align_items": null,
            "align_self": null,
            "border": null,
            "bottom": null,
            "display": null,
            "flex": null,
            "flex_flow": null,
            "grid_area": null,
            "grid_auto_columns": null,
            "grid_auto_flow": null,
            "grid_auto_rows": null,
            "grid_column": null,
            "grid_gap": null,
            "grid_row": null,
            "grid_template_areas": null,
            "grid_template_columns": null,
            "grid_template_rows": null,
            "height": null,
            "justify_content": null,
            "justify_items": null,
            "left": null,
            "margin": null,
            "max_height": null,
            "max_width": null,
            "min_height": null,
            "min_width": null,
            "object_fit": null,
            "object_position": null,
            "order": null,
            "overflow": null,
            "overflow_x": null,
            "overflow_y": null,
            "padding": null,
            "right": null,
            "top": null,
            "visibility": null,
            "width": null
          }
        },
        "b45350ed14c74ab89f72a16093307c8a": {
          "model_module": "@jupyter-widgets/base",
          "model_name": "LayoutModel",
          "model_module_version": "1.2.0",
          "state": {
            "_model_module": "@jupyter-widgets/base",
            "_model_module_version": "1.2.0",
            "_model_name": "LayoutModel",
            "_view_count": null,
            "_view_module": "@jupyter-widgets/base",
            "_view_module_version": "1.2.0",
            "_view_name": "LayoutView",
            "align_content": null,
            "align_items": null,
            "align_self": null,
            "border": null,
            "bottom": null,
            "display": null,
            "flex": null,
            "flex_flow": null,
            "grid_area": null,
            "grid_auto_columns": null,
            "grid_auto_flow": null,
            "grid_auto_rows": null,
            "grid_column": null,
            "grid_gap": null,
            "grid_row": null,
            "grid_template_areas": null,
            "grid_template_columns": null,
            "grid_template_rows": null,
            "height": null,
            "justify_content": null,
            "justify_items": null,
            "left": null,
            "margin": null,
            "max_height": null,
            "max_width": null,
            "min_height": null,
            "min_width": null,
            "object_fit": null,
            "object_position": null,
            "order": null,
            "overflow": null,
            "overflow_x": null,
            "overflow_y": null,
            "padding": null,
            "right": null,
            "top": null,
            "visibility": null,
            "width": null
          }
        },
        "eeffe181c5db4d76b02116f5144bc5df": {
          "model_module": "@jupyter-widgets/controls",
          "model_name": "DescriptionStyleModel",
          "model_module_version": "1.5.0",
          "state": {
            "_model_module": "@jupyter-widgets/controls",
            "_model_module_version": "1.5.0",
            "_model_name": "DescriptionStyleModel",
            "_view_count": null,
            "_view_module": "@jupyter-widgets/base",
            "_view_module_version": "1.2.0",
            "_view_name": "StyleView",
            "description_width": ""
          }
        },
        "839e4e67f1d34691b53667cd7bfdafaa": {
          "model_module": "@jupyter-widgets/base",
          "model_name": "LayoutModel",
          "model_module_version": "1.2.0",
          "state": {
            "_model_module": "@jupyter-widgets/base",
            "_model_module_version": "1.2.0",
            "_model_name": "LayoutModel",
            "_view_count": null,
            "_view_module": "@jupyter-widgets/base",
            "_view_module_version": "1.2.0",
            "_view_name": "LayoutView",
            "align_content": null,
            "align_items": null,
            "align_self": null,
            "border": null,
            "bottom": null,
            "display": null,
            "flex": null,
            "flex_flow": null,
            "grid_area": null,
            "grid_auto_columns": null,
            "grid_auto_flow": null,
            "grid_auto_rows": null,
            "grid_column": null,
            "grid_gap": null,
            "grid_row": null,
            "grid_template_areas": null,
            "grid_template_columns": null,
            "grid_template_rows": null,
            "height": null,
            "justify_content": null,
            "justify_items": null,
            "left": null,
            "margin": null,
            "max_height": null,
            "max_width": null,
            "min_height": null,
            "min_width": null,
            "object_fit": null,
            "object_position": null,
            "order": null,
            "overflow": null,
            "overflow_x": null,
            "overflow_y": null,
            "padding": null,
            "right": null,
            "top": null,
            "visibility": null,
            "width": null
          }
        },
        "8b162547e0514676a95aad12a4fa82b0": {
          "model_module": "@jupyter-widgets/controls",
          "model_name": "ProgressStyleModel",
          "model_module_version": "1.5.0",
          "state": {
            "_model_module": "@jupyter-widgets/controls",
            "_model_module_version": "1.5.0",
            "_model_name": "ProgressStyleModel",
            "_view_count": null,
            "_view_module": "@jupyter-widgets/base",
            "_view_module_version": "1.2.0",
            "_view_name": "StyleView",
            "bar_color": null,
            "description_width": ""
          }
        },
        "ce2f80ee43a747c6a42623b8c7dee040": {
          "model_module": "@jupyter-widgets/base",
          "model_name": "LayoutModel",
          "model_module_version": "1.2.0",
          "state": {
            "_model_module": "@jupyter-widgets/base",
            "_model_module_version": "1.2.0",
            "_model_name": "LayoutModel",
            "_view_count": null,
            "_view_module": "@jupyter-widgets/base",
            "_view_module_version": "1.2.0",
            "_view_name": "LayoutView",
            "align_content": null,
            "align_items": null,
            "align_self": null,
            "border": null,
            "bottom": null,
            "display": null,
            "flex": null,
            "flex_flow": null,
            "grid_area": null,
            "grid_auto_columns": null,
            "grid_auto_flow": null,
            "grid_auto_rows": null,
            "grid_column": null,
            "grid_gap": null,
            "grid_row": null,
            "grid_template_areas": null,
            "grid_template_columns": null,
            "grid_template_rows": null,
            "height": null,
            "justify_content": null,
            "justify_items": null,
            "left": null,
            "margin": null,
            "max_height": null,
            "max_width": null,
            "min_height": null,
            "min_width": null,
            "object_fit": null,
            "object_position": null,
            "order": null,
            "overflow": null,
            "overflow_x": null,
            "overflow_y": null,
            "padding": null,
            "right": null,
            "top": null,
            "visibility": null,
            "width": null
          }
        },
        "db4d867c53794120aaa4efc4812cd9f2": {
          "model_module": "@jupyter-widgets/controls",
          "model_name": "DescriptionStyleModel",
          "model_module_version": "1.5.0",
          "state": {
            "_model_module": "@jupyter-widgets/controls",
            "_model_module_version": "1.5.0",
            "_model_name": "DescriptionStyleModel",
            "_view_count": null,
            "_view_module": "@jupyter-widgets/base",
            "_view_module_version": "1.2.0",
            "_view_name": "StyleView",
            "description_width": ""
          }
        },
        "88d1fa61931d4c92a7a576d57659cab6": {
          "model_module": "@jupyter-widgets/controls",
          "model_name": "HBoxModel",
          "model_module_version": "1.5.0",
          "state": {
            "_dom_classes": [],
            "_model_module": "@jupyter-widgets/controls",
            "_model_module_version": "1.5.0",
            "_model_name": "HBoxModel",
            "_view_count": null,
            "_view_module": "@jupyter-widgets/controls",
            "_view_module_version": "1.5.0",
            "_view_name": "HBoxView",
            "box_style": "",
            "children": [
              "IPY_MODEL_82a0211b0cd348baafa5300ad8f07551",
              "IPY_MODEL_71d9639df8144afbbf79bd71c3f92fc3",
              "IPY_MODEL_7cee058bc28543f691181edcff57d097"
            ],
            "layout": "IPY_MODEL_4bbcc911895b48459a7b69c24acae674"
          }
        },
        "82a0211b0cd348baafa5300ad8f07551": {
          "model_module": "@jupyter-widgets/controls",
          "model_name": "HTMLModel",
          "model_module_version": "1.5.0",
          "state": {
            "_dom_classes": [],
            "_model_module": "@jupyter-widgets/controls",
            "_model_module_version": "1.5.0",
            "_model_name": "HTMLModel",
            "_view_count": null,
            "_view_module": "@jupyter-widgets/controls",
            "_view_module_version": "1.5.0",
            "_view_name": "HTMLView",
            "description": "",
            "description_tooltip": null,
            "layout": "IPY_MODEL_b2794805000c4af4b617ebed1864fc69",
            "placeholder": "​",
            "style": "IPY_MODEL_9f318cf55a06472c83a4411cd2b31173",
            "value": "model.safetensors.index.json: 100%"
          }
        },
        "71d9639df8144afbbf79bd71c3f92fc3": {
          "model_module": "@jupyter-widgets/controls",
          "model_name": "FloatProgressModel",
          "model_module_version": "1.5.0",
          "state": {
            "_dom_classes": [],
            "_model_module": "@jupyter-widgets/controls",
            "_model_module_version": "1.5.0",
            "_model_name": "FloatProgressModel",
            "_view_count": null,
            "_view_module": "@jupyter-widgets/controls",
            "_view_module_version": "1.5.0",
            "_view_name": "ProgressView",
            "bar_style": "success",
            "description": "",
            "description_tooltip": null,
            "layout": "IPY_MODEL_e51c8038e4244500baf1963b7fbd9ea8",
            "max": 23950,
            "min": 0,
            "orientation": "horizontal",
            "style": "IPY_MODEL_5072671e776a427b97b4bfbf9ee30b4f",
            "value": 23950
          }
        },
        "7cee058bc28543f691181edcff57d097": {
          "model_module": "@jupyter-widgets/controls",
          "model_name": "HTMLModel",
          "model_module_version": "1.5.0",
          "state": {
            "_dom_classes": [],
            "_model_module": "@jupyter-widgets/controls",
            "_model_module_version": "1.5.0",
            "_model_name": "HTMLModel",
            "_view_count": null,
            "_view_module": "@jupyter-widgets/controls",
            "_view_module_version": "1.5.0",
            "_view_name": "HTMLView",
            "description": "",
            "description_tooltip": null,
            "layout": "IPY_MODEL_ff9d697251ab410097dc58bbaec81025",
            "placeholder": "​",
            "style": "IPY_MODEL_8b6bd2b2606d4e12954c4faf43244eef",
            "value": " 23.9k/23.9k [00:00&lt;00:00, 2.06MB/s]"
          }
        },
        "4bbcc911895b48459a7b69c24acae674": {
          "model_module": "@jupyter-widgets/base",
          "model_name": "LayoutModel",
          "model_module_version": "1.2.0",
          "state": {
            "_model_module": "@jupyter-widgets/base",
            "_model_module_version": "1.2.0",
            "_model_name": "LayoutModel",
            "_view_count": null,
            "_view_module": "@jupyter-widgets/base",
            "_view_module_version": "1.2.0",
            "_view_name": "LayoutView",
            "align_content": null,
            "align_items": null,
            "align_self": null,
            "border": null,
            "bottom": null,
            "display": null,
            "flex": null,
            "flex_flow": null,
            "grid_area": null,
            "grid_auto_columns": null,
            "grid_auto_flow": null,
            "grid_auto_rows": null,
            "grid_column": null,
            "grid_gap": null,
            "grid_row": null,
            "grid_template_areas": null,
            "grid_template_columns": null,
            "grid_template_rows": null,
            "height": null,
            "justify_content": null,
            "justify_items": null,
            "left": null,
            "margin": null,
            "max_height": null,
            "max_width": null,
            "min_height": null,
            "min_width": null,
            "object_fit": null,
            "object_position": null,
            "order": null,
            "overflow": null,
            "overflow_x": null,
            "overflow_y": null,
            "padding": null,
            "right": null,
            "top": null,
            "visibility": null,
            "width": null
          }
        },
        "b2794805000c4af4b617ebed1864fc69": {
          "model_module": "@jupyter-widgets/base",
          "model_name": "LayoutModel",
          "model_module_version": "1.2.0",
          "state": {
            "_model_module": "@jupyter-widgets/base",
            "_model_module_version": "1.2.0",
            "_model_name": "LayoutModel",
            "_view_count": null,
            "_view_module": "@jupyter-widgets/base",
            "_view_module_version": "1.2.0",
            "_view_name": "LayoutView",
            "align_content": null,
            "align_items": null,
            "align_self": null,
            "border": null,
            "bottom": null,
            "display": null,
            "flex": null,
            "flex_flow": null,
            "grid_area": null,
            "grid_auto_columns": null,
            "grid_auto_flow": null,
            "grid_auto_rows": null,
            "grid_column": null,
            "grid_gap": null,
            "grid_row": null,
            "grid_template_areas": null,
            "grid_template_columns": null,
            "grid_template_rows": null,
            "height": null,
            "justify_content": null,
            "justify_items": null,
            "left": null,
            "margin": null,
            "max_height": null,
            "max_width": null,
            "min_height": null,
            "min_width": null,
            "object_fit": null,
            "object_position": null,
            "order": null,
            "overflow": null,
            "overflow_x": null,
            "overflow_y": null,
            "padding": null,
            "right": null,
            "top": null,
            "visibility": null,
            "width": null
          }
        },
        "9f318cf55a06472c83a4411cd2b31173": {
          "model_module": "@jupyter-widgets/controls",
          "model_name": "DescriptionStyleModel",
          "model_module_version": "1.5.0",
          "state": {
            "_model_module": "@jupyter-widgets/controls",
            "_model_module_version": "1.5.0",
            "_model_name": "DescriptionStyleModel",
            "_view_count": null,
            "_view_module": "@jupyter-widgets/base",
            "_view_module_version": "1.2.0",
            "_view_name": "StyleView",
            "description_width": ""
          }
        },
        "e51c8038e4244500baf1963b7fbd9ea8": {
          "model_module": "@jupyter-widgets/base",
          "model_name": "LayoutModel",
          "model_module_version": "1.2.0",
          "state": {
            "_model_module": "@jupyter-widgets/base",
            "_model_module_version": "1.2.0",
            "_model_name": "LayoutModel",
            "_view_count": null,
            "_view_module": "@jupyter-widgets/base",
            "_view_module_version": "1.2.0",
            "_view_name": "LayoutView",
            "align_content": null,
            "align_items": null,
            "align_self": null,
            "border": null,
            "bottom": null,
            "display": null,
            "flex": null,
            "flex_flow": null,
            "grid_area": null,
            "grid_auto_columns": null,
            "grid_auto_flow": null,
            "grid_auto_rows": null,
            "grid_column": null,
            "grid_gap": null,
            "grid_row": null,
            "grid_template_areas": null,
            "grid_template_columns": null,
            "grid_template_rows": null,
            "height": null,
            "justify_content": null,
            "justify_items": null,
            "left": null,
            "margin": null,
            "max_height": null,
            "max_width": null,
            "min_height": null,
            "min_width": null,
            "object_fit": null,
            "object_position": null,
            "order": null,
            "overflow": null,
            "overflow_x": null,
            "overflow_y": null,
            "padding": null,
            "right": null,
            "top": null,
            "visibility": null,
            "width": null
          }
        },
        "5072671e776a427b97b4bfbf9ee30b4f": {
          "model_module": "@jupyter-widgets/controls",
          "model_name": "ProgressStyleModel",
          "model_module_version": "1.5.0",
          "state": {
            "_model_module": "@jupyter-widgets/controls",
            "_model_module_version": "1.5.0",
            "_model_name": "ProgressStyleModel",
            "_view_count": null,
            "_view_module": "@jupyter-widgets/base",
            "_view_module_version": "1.2.0",
            "_view_name": "StyleView",
            "bar_color": null,
            "description_width": ""
          }
        },
        "ff9d697251ab410097dc58bbaec81025": {
          "model_module": "@jupyter-widgets/base",
          "model_name": "LayoutModel",
          "model_module_version": "1.2.0",
          "state": {
            "_model_module": "@jupyter-widgets/base",
            "_model_module_version": "1.2.0",
            "_model_name": "LayoutModel",
            "_view_count": null,
            "_view_module": "@jupyter-widgets/base",
            "_view_module_version": "1.2.0",
            "_view_name": "LayoutView",
            "align_content": null,
            "align_items": null,
            "align_self": null,
            "border": null,
            "bottom": null,
            "display": null,
            "flex": null,
            "flex_flow": null,
            "grid_area": null,
            "grid_auto_columns": null,
            "grid_auto_flow": null,
            "grid_auto_rows": null,
            "grid_column": null,
            "grid_gap": null,
            "grid_row": null,
            "grid_template_areas": null,
            "grid_template_columns": null,
            "grid_template_rows": null,
            "height": null,
            "justify_content": null,
            "justify_items": null,
            "left": null,
            "margin": null,
            "max_height": null,
            "max_width": null,
            "min_height": null,
            "min_width": null,
            "object_fit": null,
            "object_position": null,
            "order": null,
            "overflow": null,
            "overflow_x": null,
            "overflow_y": null,
            "padding": null,
            "right": null,
            "top": null,
            "visibility": null,
            "width": null
          }
        },
        "8b6bd2b2606d4e12954c4faf43244eef": {
          "model_module": "@jupyter-widgets/controls",
          "model_name": "DescriptionStyleModel",
          "model_module_version": "1.5.0",
          "state": {
            "_model_module": "@jupyter-widgets/controls",
            "_model_module_version": "1.5.0",
            "_model_name": "DescriptionStyleModel",
            "_view_count": null,
            "_view_module": "@jupyter-widgets/base",
            "_view_module_version": "1.2.0",
            "_view_name": "StyleView",
            "description_width": ""
          }
        },
        "75f7dc28dcec4a2eb97643b39e662953": {
          "model_module": "@jupyter-widgets/controls",
          "model_name": "HBoxModel",
          "model_module_version": "1.5.0",
          "state": {
            "_dom_classes": [],
            "_model_module": "@jupyter-widgets/controls",
            "_model_module_version": "1.5.0",
            "_model_name": "HBoxModel",
            "_view_count": null,
            "_view_module": "@jupyter-widgets/controls",
            "_view_module_version": "1.5.0",
            "_view_name": "HBoxView",
            "box_style": "",
            "children": [
              "IPY_MODEL_98420fb369d84329a5202f0e9f2ffc11",
              "IPY_MODEL_0126d2a325b241598c9812a4608f4253",
              "IPY_MODEL_9a3c8a5dabbd48f7842eeef1a7ff262b"
            ],
            "layout": "IPY_MODEL_47d652725fcd409b9d1767ecce271f3e"
          }
        },
        "98420fb369d84329a5202f0e9f2ffc11": {
          "model_module": "@jupyter-widgets/controls",
          "model_name": "HTMLModel",
          "model_module_version": "1.5.0",
          "state": {
            "_dom_classes": [],
            "_model_module": "@jupyter-widgets/controls",
            "_model_module_version": "1.5.0",
            "_model_name": "HTMLModel",
            "_view_count": null,
            "_view_module": "@jupyter-widgets/controls",
            "_view_module_version": "1.5.0",
            "_view_name": "HTMLView",
            "description": "",
            "description_tooltip": null,
            "layout": "IPY_MODEL_552b5f9bc9b640a6ac9913e6176aca2d",
            "placeholder": "​",
            "style": "IPY_MODEL_8387d0dd8b1a4956acb2c30474c854aa",
            "value": "Fetching 3 files: 100%"
          }
        },
        "0126d2a325b241598c9812a4608f4253": {
          "model_module": "@jupyter-widgets/controls",
          "model_name": "FloatProgressModel",
          "model_module_version": "1.5.0",
          "state": {
            "_dom_classes": [],
            "_model_module": "@jupyter-widgets/controls",
            "_model_module_version": "1.5.0",
            "_model_name": "FloatProgressModel",
            "_view_count": null,
            "_view_module": "@jupyter-widgets/controls",
            "_view_module_version": "1.5.0",
            "_view_name": "ProgressView",
            "bar_style": "success",
            "description": "",
            "description_tooltip": null,
            "layout": "IPY_MODEL_2dfdd7c560be4b6fb1c6ea92fc806c62",
            "max": 3,
            "min": 0,
            "orientation": "horizontal",
            "style": "IPY_MODEL_3caf3713ab114dd08796892a5dad511d",
            "value": 3
          }
        },
        "9a3c8a5dabbd48f7842eeef1a7ff262b": {
          "model_module": "@jupyter-widgets/controls",
          "model_name": "HTMLModel",
          "model_module_version": "1.5.0",
          "state": {
            "_dom_classes": [],
            "_model_module": "@jupyter-widgets/controls",
            "_model_module_version": "1.5.0",
            "_model_name": "HTMLModel",
            "_view_count": null,
            "_view_module": "@jupyter-widgets/controls",
            "_view_module_version": "1.5.0",
            "_view_name": "HTMLView",
            "description": "",
            "description_tooltip": null,
            "layout": "IPY_MODEL_9a734eb4f40b4aadb0603ffab4f0caf9",
            "placeholder": "​",
            "style": "IPY_MODEL_1c55b0a255004a14b1ae65511975311d",
            "value": " 3/3 [02:50&lt;00:00, 170.65s/it]"
          }
        },
        "47d652725fcd409b9d1767ecce271f3e": {
          "model_module": "@jupyter-widgets/base",
          "model_name": "LayoutModel",
          "model_module_version": "1.2.0",
          "state": {
            "_model_module": "@jupyter-widgets/base",
            "_model_module_version": "1.2.0",
            "_model_name": "LayoutModel",
            "_view_count": null,
            "_view_module": "@jupyter-widgets/base",
            "_view_module_version": "1.2.0",
            "_view_name": "LayoutView",
            "align_content": null,
            "align_items": null,
            "align_self": null,
            "border": null,
            "bottom": null,
            "display": null,
            "flex": null,
            "flex_flow": null,
            "grid_area": null,
            "grid_auto_columns": null,
            "grid_auto_flow": null,
            "grid_auto_rows": null,
            "grid_column": null,
            "grid_gap": null,
            "grid_row": null,
            "grid_template_areas": null,
            "grid_template_columns": null,
            "grid_template_rows": null,
            "height": null,
            "justify_content": null,
            "justify_items": null,
            "left": null,
            "margin": null,
            "max_height": null,
            "max_width": null,
            "min_height": null,
            "min_width": null,
            "object_fit": null,
            "object_position": null,
            "order": null,
            "overflow": null,
            "overflow_x": null,
            "overflow_y": null,
            "padding": null,
            "right": null,
            "top": null,
            "visibility": null,
            "width": null
          }
        },
        "552b5f9bc9b640a6ac9913e6176aca2d": {
          "model_module": "@jupyter-widgets/base",
          "model_name": "LayoutModel",
          "model_module_version": "1.2.0",
          "state": {
            "_model_module": "@jupyter-widgets/base",
            "_model_module_version": "1.2.0",
            "_model_name": "LayoutModel",
            "_view_count": null,
            "_view_module": "@jupyter-widgets/base",
            "_view_module_version": "1.2.0",
            "_view_name": "LayoutView",
            "align_content": null,
            "align_items": null,
            "align_self": null,
            "border": null,
            "bottom": null,
            "display": null,
            "flex": null,
            "flex_flow": null,
            "grid_area": null,
            "grid_auto_columns": null,
            "grid_auto_flow": null,
            "grid_auto_rows": null,
            "grid_column": null,
            "grid_gap": null,
            "grid_row": null,
            "grid_template_areas": null,
            "grid_template_columns": null,
            "grid_template_rows": null,
            "height": null,
            "justify_content": null,
            "justify_items": null,
            "left": null,
            "margin": null,
            "max_height": null,
            "max_width": null,
            "min_height": null,
            "min_width": null,
            "object_fit": null,
            "object_position": null,
            "order": null,
            "overflow": null,
            "overflow_x": null,
            "overflow_y": null,
            "padding": null,
            "right": null,
            "top": null,
            "visibility": null,
            "width": null
          }
        },
        "8387d0dd8b1a4956acb2c30474c854aa": {
          "model_module": "@jupyter-widgets/controls",
          "model_name": "DescriptionStyleModel",
          "model_module_version": "1.5.0",
          "state": {
            "_model_module": "@jupyter-widgets/controls",
            "_model_module_version": "1.5.0",
            "_model_name": "DescriptionStyleModel",
            "_view_count": null,
            "_view_module": "@jupyter-widgets/base",
            "_view_module_version": "1.2.0",
            "_view_name": "StyleView",
            "description_width": ""
          }
        },
        "2dfdd7c560be4b6fb1c6ea92fc806c62": {
          "model_module": "@jupyter-widgets/base",
          "model_name": "LayoutModel",
          "model_module_version": "1.2.0",
          "state": {
            "_model_module": "@jupyter-widgets/base",
            "_model_module_version": "1.2.0",
            "_model_name": "LayoutModel",
            "_view_count": null,
            "_view_module": "@jupyter-widgets/base",
            "_view_module_version": "1.2.0",
            "_view_name": "LayoutView",
            "align_content": null,
            "align_items": null,
            "align_self": null,
            "border": null,
            "bottom": null,
            "display": null,
            "flex": null,
            "flex_flow": null,
            "grid_area": null,
            "grid_auto_columns": null,
            "grid_auto_flow": null,
            "grid_auto_rows": null,
            "grid_column": null,
            "grid_gap": null,
            "grid_row": null,
            "grid_template_areas": null,
            "grid_template_columns": null,
            "grid_template_rows": null,
            "height": null,
            "justify_content": null,
            "justify_items": null,
            "left": null,
            "margin": null,
            "max_height": null,
            "max_width": null,
            "min_height": null,
            "min_width": null,
            "object_fit": null,
            "object_position": null,
            "order": null,
            "overflow": null,
            "overflow_x": null,
            "overflow_y": null,
            "padding": null,
            "right": null,
            "top": null,
            "visibility": null,
            "width": null
          }
        },
        "3caf3713ab114dd08796892a5dad511d": {
          "model_module": "@jupyter-widgets/controls",
          "model_name": "ProgressStyleModel",
          "model_module_version": "1.5.0",
          "state": {
            "_model_module": "@jupyter-widgets/controls",
            "_model_module_version": "1.5.0",
            "_model_name": "ProgressStyleModel",
            "_view_count": null,
            "_view_module": "@jupyter-widgets/base",
            "_view_module_version": "1.2.0",
            "_view_name": "StyleView",
            "bar_color": null,
            "description_width": ""
          }
        },
        "9a734eb4f40b4aadb0603ffab4f0caf9": {
          "model_module": "@jupyter-widgets/base",
          "model_name": "LayoutModel",
          "model_module_version": "1.2.0",
          "state": {
            "_model_module": "@jupyter-widgets/base",
            "_model_module_version": "1.2.0",
            "_model_name": "LayoutModel",
            "_view_count": null,
            "_view_module": "@jupyter-widgets/base",
            "_view_module_version": "1.2.0",
            "_view_name": "LayoutView",
            "align_content": null,
            "align_items": null,
            "align_self": null,
            "border": null,
            "bottom": null,
            "display": null,
            "flex": null,
            "flex_flow": null,
            "grid_area": null,
            "grid_auto_columns": null,
            "grid_auto_flow": null,
            "grid_auto_rows": null,
            "grid_column": null,
            "grid_gap": null,
            "grid_row": null,
            "grid_template_areas": null,
            "grid_template_columns": null,
            "grid_template_rows": null,
            "height": null,
            "justify_content": null,
            "justify_items": null,
            "left": null,
            "margin": null,
            "max_height": null,
            "max_width": null,
            "min_height": null,
            "min_width": null,
            "object_fit": null,
            "object_position": null,
            "order": null,
            "overflow": null,
            "overflow_x": null,
            "overflow_y": null,
            "padding": null,
            "right": null,
            "top": null,
            "visibility": null,
            "width": null
          }
        },
        "1c55b0a255004a14b1ae65511975311d": {
          "model_module": "@jupyter-widgets/controls",
          "model_name": "DescriptionStyleModel",
          "model_module_version": "1.5.0",
          "state": {
            "_model_module": "@jupyter-widgets/controls",
            "_model_module_version": "1.5.0",
            "_model_name": "DescriptionStyleModel",
            "_view_count": null,
            "_view_module": "@jupyter-widgets/base",
            "_view_module_version": "1.2.0",
            "_view_name": "StyleView",
            "description_width": ""
          }
        },
        "c586ada67f5d487281a5e5dea0e1fe34": {
          "model_module": "@jupyter-widgets/controls",
          "model_name": "HBoxModel",
          "model_module_version": "1.5.0",
          "state": {
            "_dom_classes": [],
            "_model_module": "@jupyter-widgets/controls",
            "_model_module_version": "1.5.0",
            "_model_name": "HBoxModel",
            "_view_count": null,
            "_view_module": "@jupyter-widgets/controls",
            "_view_module_version": "1.5.0",
            "_view_name": "HBoxView",
            "box_style": "",
            "children": [
              "IPY_MODEL_6769c0731c0c4a539c2e81b42ccfa37d",
              "IPY_MODEL_4ab104711167482dbc0b97c96eb5854c",
              "IPY_MODEL_470df170af164df283558fd5110a222d"
            ],
            "layout": "IPY_MODEL_75978a05a1ed4271b5711e78c1c5ca90"
          }
        },
        "6769c0731c0c4a539c2e81b42ccfa37d": {
          "model_module": "@jupyter-widgets/controls",
          "model_name": "HTMLModel",
          "model_module_version": "1.5.0",
          "state": {
            "_dom_classes": [],
            "_model_module": "@jupyter-widgets/controls",
            "_model_module_version": "1.5.0",
            "_model_name": "HTMLModel",
            "_view_count": null,
            "_view_module": "@jupyter-widgets/controls",
            "_view_module_version": "1.5.0",
            "_view_name": "HTMLView",
            "description": "",
            "description_tooltip": null,
            "layout": "IPY_MODEL_8565046d92e240509730d01d6e6354d3",
            "placeholder": "​",
            "style": "IPY_MODEL_4293f51ded3543d4880af50c04e46dca",
            "value": "model-00001-of-00003.safetensors: 100%"
          }
        },
        "4ab104711167482dbc0b97c96eb5854c": {
          "model_module": "@jupyter-widgets/controls",
          "model_name": "FloatProgressModel",
          "model_module_version": "1.5.0",
          "state": {
            "_dom_classes": [],
            "_model_module": "@jupyter-widgets/controls",
            "_model_module_version": "1.5.0",
            "_model_name": "FloatProgressModel",
            "_view_count": null,
            "_view_module": "@jupyter-widgets/controls",
            "_view_module_version": "1.5.0",
            "_view_name": "ProgressView",
            "bar_style": "success",
            "description": "",
            "description_tooltip": null,
            "layout": "IPY_MODEL_a1742461226141deb9cf6ba76117bfa4",
            "max": 4949453792,
            "min": 0,
            "orientation": "horizontal",
            "style": "IPY_MODEL_200ab1298f4d4b59b91c2077501ea545",
            "value": 4949453792
          }
        },
        "470df170af164df283558fd5110a222d": {
          "model_module": "@jupyter-widgets/controls",
          "model_name": "HTMLModel",
          "model_module_version": "1.5.0",
          "state": {
            "_dom_classes": [],
            "_model_module": "@jupyter-widgets/controls",
            "_model_module_version": "1.5.0",
            "_model_name": "HTMLModel",
            "_view_count": null,
            "_view_module": "@jupyter-widgets/controls",
            "_view_module_version": "1.5.0",
            "_view_name": "HTMLView",
            "description": "",
            "description_tooltip": null,
            "layout": "IPY_MODEL_fce2e8acf08e44fc88c89e2f23df9458",
            "placeholder": "​",
            "style": "IPY_MODEL_b1e02d9e1e8e4a769648e9df07031be6",
            "value": " 4.95G/4.95G [02:50&lt;00:00, 68.3MB/s]"
          }
        },
        "75978a05a1ed4271b5711e78c1c5ca90": {
          "model_module": "@jupyter-widgets/base",
          "model_name": "LayoutModel",
          "model_module_version": "1.2.0",
          "state": {
            "_model_module": "@jupyter-widgets/base",
            "_model_module_version": "1.2.0",
            "_model_name": "LayoutModel",
            "_view_count": null,
            "_view_module": "@jupyter-widgets/base",
            "_view_module_version": "1.2.0",
            "_view_name": "LayoutView",
            "align_content": null,
            "align_items": null,
            "align_self": null,
            "border": null,
            "bottom": null,
            "display": null,
            "flex": null,
            "flex_flow": null,
            "grid_area": null,
            "grid_auto_columns": null,
            "grid_auto_flow": null,
            "grid_auto_rows": null,
            "grid_column": null,
            "grid_gap": null,
            "grid_row": null,
            "grid_template_areas": null,
            "grid_template_columns": null,
            "grid_template_rows": null,
            "height": null,
            "justify_content": null,
            "justify_items": null,
            "left": null,
            "margin": null,
            "max_height": null,
            "max_width": null,
            "min_height": null,
            "min_width": null,
            "object_fit": null,
            "object_position": null,
            "order": null,
            "overflow": null,
            "overflow_x": null,
            "overflow_y": null,
            "padding": null,
            "right": null,
            "top": null,
            "visibility": null,
            "width": null
          }
        },
        "8565046d92e240509730d01d6e6354d3": {
          "model_module": "@jupyter-widgets/base",
          "model_name": "LayoutModel",
          "model_module_version": "1.2.0",
          "state": {
            "_model_module": "@jupyter-widgets/base",
            "_model_module_version": "1.2.0",
            "_model_name": "LayoutModel",
            "_view_count": null,
            "_view_module": "@jupyter-widgets/base",
            "_view_module_version": "1.2.0",
            "_view_name": "LayoutView",
            "align_content": null,
            "align_items": null,
            "align_self": null,
            "border": null,
            "bottom": null,
            "display": null,
            "flex": null,
            "flex_flow": null,
            "grid_area": null,
            "grid_auto_columns": null,
            "grid_auto_flow": null,
            "grid_auto_rows": null,
            "grid_column": null,
            "grid_gap": null,
            "grid_row": null,
            "grid_template_areas": null,
            "grid_template_columns": null,
            "grid_template_rows": null,
            "height": null,
            "justify_content": null,
            "justify_items": null,
            "left": null,
            "margin": null,
            "max_height": null,
            "max_width": null,
            "min_height": null,
            "min_width": null,
            "object_fit": null,
            "object_position": null,
            "order": null,
            "overflow": null,
            "overflow_x": null,
            "overflow_y": null,
            "padding": null,
            "right": null,
            "top": null,
            "visibility": null,
            "width": null
          }
        },
        "4293f51ded3543d4880af50c04e46dca": {
          "model_module": "@jupyter-widgets/controls",
          "model_name": "DescriptionStyleModel",
          "model_module_version": "1.5.0",
          "state": {
            "_model_module": "@jupyter-widgets/controls",
            "_model_module_version": "1.5.0",
            "_model_name": "DescriptionStyleModel",
            "_view_count": null,
            "_view_module": "@jupyter-widgets/base",
            "_view_module_version": "1.2.0",
            "_view_name": "StyleView",
            "description_width": ""
          }
        },
        "a1742461226141deb9cf6ba76117bfa4": {
          "model_module": "@jupyter-widgets/base",
          "model_name": "LayoutModel",
          "model_module_version": "1.2.0",
          "state": {
            "_model_module": "@jupyter-widgets/base",
            "_model_module_version": "1.2.0",
            "_model_name": "LayoutModel",
            "_view_count": null,
            "_view_module": "@jupyter-widgets/base",
            "_view_module_version": "1.2.0",
            "_view_name": "LayoutView",
            "align_content": null,
            "align_items": null,
            "align_self": null,
            "border": null,
            "bottom": null,
            "display": null,
            "flex": null,
            "flex_flow": null,
            "grid_area": null,
            "grid_auto_columns": null,
            "grid_auto_flow": null,
            "grid_auto_rows": null,
            "grid_column": null,
            "grid_gap": null,
            "grid_row": null,
            "grid_template_areas": null,
            "grid_template_columns": null,
            "grid_template_rows": null,
            "height": null,
            "justify_content": null,
            "justify_items": null,
            "left": null,
            "margin": null,
            "max_height": null,
            "max_width": null,
            "min_height": null,
            "min_width": null,
            "object_fit": null,
            "object_position": null,
            "order": null,
            "overflow": null,
            "overflow_x": null,
            "overflow_y": null,
            "padding": null,
            "right": null,
            "top": null,
            "visibility": null,
            "width": null
          }
        },
        "200ab1298f4d4b59b91c2077501ea545": {
          "model_module": "@jupyter-widgets/controls",
          "model_name": "ProgressStyleModel",
          "model_module_version": "1.5.0",
          "state": {
            "_model_module": "@jupyter-widgets/controls",
            "_model_module_version": "1.5.0",
            "_model_name": "ProgressStyleModel",
            "_view_count": null,
            "_view_module": "@jupyter-widgets/base",
            "_view_module_version": "1.2.0",
            "_view_name": "StyleView",
            "bar_color": null,
            "description_width": ""
          }
        },
        "fce2e8acf08e44fc88c89e2f23df9458": {
          "model_module": "@jupyter-widgets/base",
          "model_name": "LayoutModel",
          "model_module_version": "1.2.0",
          "state": {
            "_model_module": "@jupyter-widgets/base",
            "_model_module_version": "1.2.0",
            "_model_name": "LayoutModel",
            "_view_count": null,
            "_view_module": "@jupyter-widgets/base",
            "_view_module_version": "1.2.0",
            "_view_name": "LayoutView",
            "align_content": null,
            "align_items": null,
            "align_self": null,
            "border": null,
            "bottom": null,
            "display": null,
            "flex": null,
            "flex_flow": null,
            "grid_area": null,
            "grid_auto_columns": null,
            "grid_auto_flow": null,
            "grid_auto_rows": null,
            "grid_column": null,
            "grid_gap": null,
            "grid_row": null,
            "grid_template_areas": null,
            "grid_template_columns": null,
            "grid_template_rows": null,
            "height": null,
            "justify_content": null,
            "justify_items": null,
            "left": null,
            "margin": null,
            "max_height": null,
            "max_width": null,
            "min_height": null,
            "min_width": null,
            "object_fit": null,
            "object_position": null,
            "order": null,
            "overflow": null,
            "overflow_x": null,
            "overflow_y": null,
            "padding": null,
            "right": null,
            "top": null,
            "visibility": null,
            "width": null
          }
        },
        "b1e02d9e1e8e4a769648e9df07031be6": {
          "model_module": "@jupyter-widgets/controls",
          "model_name": "DescriptionStyleModel",
          "model_module_version": "1.5.0",
          "state": {
            "_model_module": "@jupyter-widgets/controls",
            "_model_module_version": "1.5.0",
            "_model_name": "DescriptionStyleModel",
            "_view_count": null,
            "_view_module": "@jupyter-widgets/base",
            "_view_module_version": "1.2.0",
            "_view_name": "StyleView",
            "description_width": ""
          }
        },
        "c5231e706e59488083594b2cb8e28c21": {
          "model_module": "@jupyter-widgets/controls",
          "model_name": "HBoxModel",
          "model_module_version": "1.5.0",
          "state": {
            "_dom_classes": [],
            "_model_module": "@jupyter-widgets/controls",
            "_model_module_version": "1.5.0",
            "_model_name": "HBoxModel",
            "_view_count": null,
            "_view_module": "@jupyter-widgets/controls",
            "_view_module_version": "1.5.0",
            "_view_name": "HBoxView",
            "box_style": "",
            "children": [
              "IPY_MODEL_d13b46fb0f644abfabf98ce455e1a0c1",
              "IPY_MODEL_7012927a9274439ebabfcc6acbe8444b",
              "IPY_MODEL_1cd0c4485f8443ea8cc31f22d5a953d2"
            ],
            "layout": "IPY_MODEL_cb514c36dda84bdb9c9569616bc6af79"
          }
        },
        "d13b46fb0f644abfabf98ce455e1a0c1": {
          "model_module": "@jupyter-widgets/controls",
          "model_name": "HTMLModel",
          "model_module_version": "1.5.0",
          "state": {
            "_dom_classes": [],
            "_model_module": "@jupyter-widgets/controls",
            "_model_module_version": "1.5.0",
            "_model_name": "HTMLModel",
            "_view_count": null,
            "_view_module": "@jupyter-widgets/controls",
            "_view_module_version": "1.5.0",
            "_view_name": "HTMLView",
            "description": "",
            "description_tooltip": null,
            "layout": "IPY_MODEL_d46fc86b5a0b4bcebfe1a569c367e8ac",
            "placeholder": "​",
            "style": "IPY_MODEL_1a0a83db1b5844c0a22d236371d3461f",
            "value": "model-00002-of-00003.safetensors: 100%"
          }
        },
        "7012927a9274439ebabfcc6acbe8444b": {
          "model_module": "@jupyter-widgets/controls",
          "model_name": "FloatProgressModel",
          "model_module_version": "1.5.0",
          "state": {
            "_dom_classes": [],
            "_model_module": "@jupyter-widgets/controls",
            "_model_module_version": "1.5.0",
            "_model_name": "FloatProgressModel",
            "_view_count": null,
            "_view_module": "@jupyter-widgets/controls",
            "_view_module_version": "1.5.0",
            "_view_name": "ProgressView",
            "bar_style": "success",
            "description": "",
            "description_tooltip": null,
            "layout": "IPY_MODEL_636e3e0b4a614ffeb91f1f7cb4d73b52",
            "max": 4999819336,
            "min": 0,
            "orientation": "horizontal",
            "style": "IPY_MODEL_ea2eb95f208448cb96466a3fe30fd4ea",
            "value": 4999819336
          }
        },
        "1cd0c4485f8443ea8cc31f22d5a953d2": {
          "model_module": "@jupyter-widgets/controls",
          "model_name": "HTMLModel",
          "model_module_version": "1.5.0",
          "state": {
            "_dom_classes": [],
            "_model_module": "@jupyter-widgets/controls",
            "_model_module_version": "1.5.0",
            "_model_name": "HTMLModel",
            "_view_count": null,
            "_view_module": "@jupyter-widgets/controls",
            "_view_module_version": "1.5.0",
            "_view_name": "HTMLView",
            "description": "",
            "description_tooltip": null,
            "layout": "IPY_MODEL_27d9dafc39b94b31b81b60247b8dd139",
            "placeholder": "​",
            "style": "IPY_MODEL_434eaf4364f94e6689e2e2e35afc5989",
            "value": " 5.00G/5.00G [02:50&lt;00:00, 87.7MB/s]"
          }
        },
        "cb514c36dda84bdb9c9569616bc6af79": {
          "model_module": "@jupyter-widgets/base",
          "model_name": "LayoutModel",
          "model_module_version": "1.2.0",
          "state": {
            "_model_module": "@jupyter-widgets/base",
            "_model_module_version": "1.2.0",
            "_model_name": "LayoutModel",
            "_view_count": null,
            "_view_module": "@jupyter-widgets/base",
            "_view_module_version": "1.2.0",
            "_view_name": "LayoutView",
            "align_content": null,
            "align_items": null,
            "align_self": null,
            "border": null,
            "bottom": null,
            "display": null,
            "flex": null,
            "flex_flow": null,
            "grid_area": null,
            "grid_auto_columns": null,
            "grid_auto_flow": null,
            "grid_auto_rows": null,
            "grid_column": null,
            "grid_gap": null,
            "grid_row": null,
            "grid_template_areas": null,
            "grid_template_columns": null,
            "grid_template_rows": null,
            "height": null,
            "justify_content": null,
            "justify_items": null,
            "left": null,
            "margin": null,
            "max_height": null,
            "max_width": null,
            "min_height": null,
            "min_width": null,
            "object_fit": null,
            "object_position": null,
            "order": null,
            "overflow": null,
            "overflow_x": null,
            "overflow_y": null,
            "padding": null,
            "right": null,
            "top": null,
            "visibility": null,
            "width": null
          }
        },
        "d46fc86b5a0b4bcebfe1a569c367e8ac": {
          "model_module": "@jupyter-widgets/base",
          "model_name": "LayoutModel",
          "model_module_version": "1.2.0",
          "state": {
            "_model_module": "@jupyter-widgets/base",
            "_model_module_version": "1.2.0",
            "_model_name": "LayoutModel",
            "_view_count": null,
            "_view_module": "@jupyter-widgets/base",
            "_view_module_version": "1.2.0",
            "_view_name": "LayoutView",
            "align_content": null,
            "align_items": null,
            "align_self": null,
            "border": null,
            "bottom": null,
            "display": null,
            "flex": null,
            "flex_flow": null,
            "grid_area": null,
            "grid_auto_columns": null,
            "grid_auto_flow": null,
            "grid_auto_rows": null,
            "grid_column": null,
            "grid_gap": null,
            "grid_row": null,
            "grid_template_areas": null,
            "grid_template_columns": null,
            "grid_template_rows": null,
            "height": null,
            "justify_content": null,
            "justify_items": null,
            "left": null,
            "margin": null,
            "max_height": null,
            "max_width": null,
            "min_height": null,
            "min_width": null,
            "object_fit": null,
            "object_position": null,
            "order": null,
            "overflow": null,
            "overflow_x": null,
            "overflow_y": null,
            "padding": null,
            "right": null,
            "top": null,
            "visibility": null,
            "width": null
          }
        },
        "1a0a83db1b5844c0a22d236371d3461f": {
          "model_module": "@jupyter-widgets/controls",
          "model_name": "DescriptionStyleModel",
          "model_module_version": "1.5.0",
          "state": {
            "_model_module": "@jupyter-widgets/controls",
            "_model_module_version": "1.5.0",
            "_model_name": "DescriptionStyleModel",
            "_view_count": null,
            "_view_module": "@jupyter-widgets/base",
            "_view_module_version": "1.2.0",
            "_view_name": "StyleView",
            "description_width": ""
          }
        },
        "636e3e0b4a614ffeb91f1f7cb4d73b52": {
          "model_module": "@jupyter-widgets/base",
          "model_name": "LayoutModel",
          "model_module_version": "1.2.0",
          "state": {
            "_model_module": "@jupyter-widgets/base",
            "_model_module_version": "1.2.0",
            "_model_name": "LayoutModel",
            "_view_count": null,
            "_view_module": "@jupyter-widgets/base",
            "_view_module_version": "1.2.0",
            "_view_name": "LayoutView",
            "align_content": null,
            "align_items": null,
            "align_self": null,
            "border": null,
            "bottom": null,
            "display": null,
            "flex": null,
            "flex_flow": null,
            "grid_area": null,
            "grid_auto_columns": null,
            "grid_auto_flow": null,
            "grid_auto_rows": null,
            "grid_column": null,
            "grid_gap": null,
            "grid_row": null,
            "grid_template_areas": null,
            "grid_template_columns": null,
            "grid_template_rows": null,
            "height": null,
            "justify_content": null,
            "justify_items": null,
            "left": null,
            "margin": null,
            "max_height": null,
            "max_width": null,
            "min_height": null,
            "min_width": null,
            "object_fit": null,
            "object_position": null,
            "order": null,
            "overflow": null,
            "overflow_x": null,
            "overflow_y": null,
            "padding": null,
            "right": null,
            "top": null,
            "visibility": null,
            "width": null
          }
        },
        "ea2eb95f208448cb96466a3fe30fd4ea": {
          "model_module": "@jupyter-widgets/controls",
          "model_name": "ProgressStyleModel",
          "model_module_version": "1.5.0",
          "state": {
            "_model_module": "@jupyter-widgets/controls",
            "_model_module_version": "1.5.0",
            "_model_name": "ProgressStyleModel",
            "_view_count": null,
            "_view_module": "@jupyter-widgets/base",
            "_view_module_version": "1.2.0",
            "_view_name": "StyleView",
            "bar_color": null,
            "description_width": ""
          }
        },
        "27d9dafc39b94b31b81b60247b8dd139": {
          "model_module": "@jupyter-widgets/base",
          "model_name": "LayoutModel",
          "model_module_version": "1.2.0",
          "state": {
            "_model_module": "@jupyter-widgets/base",
            "_model_module_version": "1.2.0",
            "_model_name": "LayoutModel",
            "_view_count": null,
            "_view_module": "@jupyter-widgets/base",
            "_view_module_version": "1.2.0",
            "_view_name": "LayoutView",
            "align_content": null,
            "align_items": null,
            "align_self": null,
            "border": null,
            "bottom": null,
            "display": null,
            "flex": null,
            "flex_flow": null,
            "grid_area": null,
            "grid_auto_columns": null,
            "grid_auto_flow": null,
            "grid_auto_rows": null,
            "grid_column": null,
            "grid_gap": null,
            "grid_row": null,
            "grid_template_areas": null,
            "grid_template_columns": null,
            "grid_template_rows": null,
            "height": null,
            "justify_content": null,
            "justify_items": null,
            "left": null,
            "margin": null,
            "max_height": null,
            "max_width": null,
            "min_height": null,
            "min_width": null,
            "object_fit": null,
            "object_position": null,
            "order": null,
            "overflow": null,
            "overflow_x": null,
            "overflow_y": null,
            "padding": null,
            "right": null,
            "top": null,
            "visibility": null,
            "width": null
          }
        },
        "434eaf4364f94e6689e2e2e35afc5989": {
          "model_module": "@jupyter-widgets/controls",
          "model_name": "DescriptionStyleModel",
          "model_module_version": "1.5.0",
          "state": {
            "_model_module": "@jupyter-widgets/controls",
            "_model_module_version": "1.5.0",
            "_model_name": "DescriptionStyleModel",
            "_view_count": null,
            "_view_module": "@jupyter-widgets/base",
            "_view_module_version": "1.2.0",
            "_view_name": "StyleView",
            "description_width": ""
          }
        },
        "ffbd4485ef774ecfbebc58584d6cfdf5": {
          "model_module": "@jupyter-widgets/controls",
          "model_name": "HBoxModel",
          "model_module_version": "1.5.0",
          "state": {
            "_dom_classes": [],
            "_model_module": "@jupyter-widgets/controls",
            "_model_module_version": "1.5.0",
            "_model_name": "HBoxModel",
            "_view_count": null,
            "_view_module": "@jupyter-widgets/controls",
            "_view_module_version": "1.5.0",
            "_view_name": "HBoxView",
            "box_style": "",
            "children": [
              "IPY_MODEL_079258aa02a74350a71a801b2dc4b9c5",
              "IPY_MODEL_3802c70d726e444fbae16cea9d2bde2e",
              "IPY_MODEL_59078733ee9a4b53b572e30babbc41a3"
            ],
            "layout": "IPY_MODEL_16f7aaa0f2c8440d96f005132f6cca2d"
          }
        },
        "079258aa02a74350a71a801b2dc4b9c5": {
          "model_module": "@jupyter-widgets/controls",
          "model_name": "HTMLModel",
          "model_module_version": "1.5.0",
          "state": {
            "_dom_classes": [],
            "_model_module": "@jupyter-widgets/controls",
            "_model_module_version": "1.5.0",
            "_model_name": "HTMLModel",
            "_view_count": null,
            "_view_module": "@jupyter-widgets/controls",
            "_view_module_version": "1.5.0",
            "_view_name": "HTMLView",
            "description": "",
            "description_tooltip": null,
            "layout": "IPY_MODEL_ac04d27f973f4f36a9e3a04208d4cb8a",
            "placeholder": "​",
            "style": "IPY_MODEL_4a4379e7ac2d43b4a9f89d56b0a84a05",
            "value": "model-00003-of-00003.safetensors: 100%"
          }
        },
        "3802c70d726e444fbae16cea9d2bde2e": {
          "model_module": "@jupyter-widgets/controls",
          "model_name": "FloatProgressModel",
          "model_module_version": "1.5.0",
          "state": {
            "_dom_classes": [],
            "_model_module": "@jupyter-widgets/controls",
            "_model_module_version": "1.5.0",
            "_model_name": "FloatProgressModel",
            "_view_count": null,
            "_view_module": "@jupyter-widgets/controls",
            "_view_module_version": "1.5.0",
            "_view_name": "ProgressView",
            "bar_style": "success",
            "description": "",
            "description_tooltip": null,
            "layout": "IPY_MODEL_df2c3b32170a4069809e82e003eedb0f",
            "max": 4546807800,
            "min": 0,
            "orientation": "horizontal",
            "style": "IPY_MODEL_c189eea33244457d8d4459ac1a633cab",
            "value": 4546807800
          }
        },
        "59078733ee9a4b53b572e30babbc41a3": {
          "model_module": "@jupyter-widgets/controls",
          "model_name": "HTMLModel",
          "model_module_version": "1.5.0",
          "state": {
            "_dom_classes": [],
            "_model_module": "@jupyter-widgets/controls",
            "_model_module_version": "1.5.0",
            "_model_name": "HTMLModel",
            "_view_count": null,
            "_view_module": "@jupyter-widgets/controls",
            "_view_module_version": "1.5.0",
            "_view_name": "HTMLView",
            "description": "",
            "description_tooltip": null,
            "layout": "IPY_MODEL_803e44d7be144e608bd95c35004f0441",
            "placeholder": "​",
            "style": "IPY_MODEL_f31cc5bca252480d8d3aefbf8c0222e3",
            "value": " 4.55G/4.55G [02:45&lt;00:00, 64.7MB/s]"
          }
        },
        "16f7aaa0f2c8440d96f005132f6cca2d": {
          "model_module": "@jupyter-widgets/base",
          "model_name": "LayoutModel",
          "model_module_version": "1.2.0",
          "state": {
            "_model_module": "@jupyter-widgets/base",
            "_model_module_version": "1.2.0",
            "_model_name": "LayoutModel",
            "_view_count": null,
            "_view_module": "@jupyter-widgets/base",
            "_view_module_version": "1.2.0",
            "_view_name": "LayoutView",
            "align_content": null,
            "align_items": null,
            "align_self": null,
            "border": null,
            "bottom": null,
            "display": null,
            "flex": null,
            "flex_flow": null,
            "grid_area": null,
            "grid_auto_columns": null,
            "grid_auto_flow": null,
            "grid_auto_rows": null,
            "grid_column": null,
            "grid_gap": null,
            "grid_row": null,
            "grid_template_areas": null,
            "grid_template_columns": null,
            "grid_template_rows": null,
            "height": null,
            "justify_content": null,
            "justify_items": null,
            "left": null,
            "margin": null,
            "max_height": null,
            "max_width": null,
            "min_height": null,
            "min_width": null,
            "object_fit": null,
            "object_position": null,
            "order": null,
            "overflow": null,
            "overflow_x": null,
            "overflow_y": null,
            "padding": null,
            "right": null,
            "top": null,
            "visibility": null,
            "width": null
          }
        },
        "ac04d27f973f4f36a9e3a04208d4cb8a": {
          "model_module": "@jupyter-widgets/base",
          "model_name": "LayoutModel",
          "model_module_version": "1.2.0",
          "state": {
            "_model_module": "@jupyter-widgets/base",
            "_model_module_version": "1.2.0",
            "_model_name": "LayoutModel",
            "_view_count": null,
            "_view_module": "@jupyter-widgets/base",
            "_view_module_version": "1.2.0",
            "_view_name": "LayoutView",
            "align_content": null,
            "align_items": null,
            "align_self": null,
            "border": null,
            "bottom": null,
            "display": null,
            "flex": null,
            "flex_flow": null,
            "grid_area": null,
            "grid_auto_columns": null,
            "grid_auto_flow": null,
            "grid_auto_rows": null,
            "grid_column": null,
            "grid_gap": null,
            "grid_row": null,
            "grid_template_areas": null,
            "grid_template_columns": null,
            "grid_template_rows": null,
            "height": null,
            "justify_content": null,
            "justify_items": null,
            "left": null,
            "margin": null,
            "max_height": null,
            "max_width": null,
            "min_height": null,
            "min_width": null,
            "object_fit": null,
            "object_position": null,
            "order": null,
            "overflow": null,
            "overflow_x": null,
            "overflow_y": null,
            "padding": null,
            "right": null,
            "top": null,
            "visibility": null,
            "width": null
          }
        },
        "4a4379e7ac2d43b4a9f89d56b0a84a05": {
          "model_module": "@jupyter-widgets/controls",
          "model_name": "DescriptionStyleModel",
          "model_module_version": "1.5.0",
          "state": {
            "_model_module": "@jupyter-widgets/controls",
            "_model_module_version": "1.5.0",
            "_model_name": "DescriptionStyleModel",
            "_view_count": null,
            "_view_module": "@jupyter-widgets/base",
            "_view_module_version": "1.2.0",
            "_view_name": "StyleView",
            "description_width": ""
          }
        },
        "df2c3b32170a4069809e82e003eedb0f": {
          "model_module": "@jupyter-widgets/base",
          "model_name": "LayoutModel",
          "model_module_version": "1.2.0",
          "state": {
            "_model_module": "@jupyter-widgets/base",
            "_model_module_version": "1.2.0",
            "_model_name": "LayoutModel",
            "_view_count": null,
            "_view_module": "@jupyter-widgets/base",
            "_view_module_version": "1.2.0",
            "_view_name": "LayoutView",
            "align_content": null,
            "align_items": null,
            "align_self": null,
            "border": null,
            "bottom": null,
            "display": null,
            "flex": null,
            "flex_flow": null,
            "grid_area": null,
            "grid_auto_columns": null,
            "grid_auto_flow": null,
            "grid_auto_rows": null,
            "grid_column": null,
            "grid_gap": null,
            "grid_row": null,
            "grid_template_areas": null,
            "grid_template_columns": null,
            "grid_template_rows": null,
            "height": null,
            "justify_content": null,
            "justify_items": null,
            "left": null,
            "margin": null,
            "max_height": null,
            "max_width": null,
            "min_height": null,
            "min_width": null,
            "object_fit": null,
            "object_position": null,
            "order": null,
            "overflow": null,
            "overflow_x": null,
            "overflow_y": null,
            "padding": null,
            "right": null,
            "top": null,
            "visibility": null,
            "width": null
          }
        },
        "c189eea33244457d8d4459ac1a633cab": {
          "model_module": "@jupyter-widgets/controls",
          "model_name": "ProgressStyleModel",
          "model_module_version": "1.5.0",
          "state": {
            "_model_module": "@jupyter-widgets/controls",
            "_model_module_version": "1.5.0",
            "_model_name": "ProgressStyleModel",
            "_view_count": null,
            "_view_module": "@jupyter-widgets/base",
            "_view_module_version": "1.2.0",
            "_view_name": "StyleView",
            "bar_color": null,
            "description_width": ""
          }
        },
        "803e44d7be144e608bd95c35004f0441": {
          "model_module": "@jupyter-widgets/base",
          "model_name": "LayoutModel",
          "model_module_version": "1.2.0",
          "state": {
            "_model_module": "@jupyter-widgets/base",
            "_model_module_version": "1.2.0",
            "_model_name": "LayoutModel",
            "_view_count": null,
            "_view_module": "@jupyter-widgets/base",
            "_view_module_version": "1.2.0",
            "_view_name": "LayoutView",
            "align_content": null,
            "align_items": null,
            "align_self": null,
            "border": null,
            "bottom": null,
            "display": null,
            "flex": null,
            "flex_flow": null,
            "grid_area": null,
            "grid_auto_columns": null,
            "grid_auto_flow": null,
            "grid_auto_rows": null,
            "grid_column": null,
            "grid_gap": null,
            "grid_row": null,
            "grid_template_areas": null,
            "grid_template_columns": null,
            "grid_template_rows": null,
            "height": null,
            "justify_content": null,
            "justify_items": null,
            "left": null,
            "margin": null,
            "max_height": null,
            "max_width": null,
            "min_height": null,
            "min_width": null,
            "object_fit": null,
            "object_position": null,
            "order": null,
            "overflow": null,
            "overflow_x": null,
            "overflow_y": null,
            "padding": null,
            "right": null,
            "top": null,
            "visibility": null,
            "width": null
          }
        },
        "f31cc5bca252480d8d3aefbf8c0222e3": {
          "model_module": "@jupyter-widgets/controls",
          "model_name": "DescriptionStyleModel",
          "model_module_version": "1.5.0",
          "state": {
            "_model_module": "@jupyter-widgets/controls",
            "_model_module_version": "1.5.0",
            "_model_name": "DescriptionStyleModel",
            "_view_count": null,
            "_view_module": "@jupyter-widgets/base",
            "_view_module_version": "1.2.0",
            "_view_name": "StyleView",
            "description_width": ""
          }
        },
        "9abdeb6048764a0ba6fd9db1fc9e93ed": {
          "model_module": "@jupyter-widgets/controls",
          "model_name": "HBoxModel",
          "model_module_version": "1.5.0",
          "state": {
            "_dom_classes": [],
            "_model_module": "@jupyter-widgets/controls",
            "_model_module_version": "1.5.0",
            "_model_name": "HBoxModel",
            "_view_count": null,
            "_view_module": "@jupyter-widgets/controls",
            "_view_module_version": "1.5.0",
            "_view_name": "HBoxView",
            "box_style": "",
            "children": [
              "IPY_MODEL_b5bf0a9763344ccbb659ed24096822b2",
              "IPY_MODEL_0eef84a605fa42abb2d43a5610f75081",
              "IPY_MODEL_c47cbaf356054602b78f83403b663d61"
            ],
            "layout": "IPY_MODEL_92caba9d85c74de6a8c72120ccce2239"
          }
        },
        "b5bf0a9763344ccbb659ed24096822b2": {
          "model_module": "@jupyter-widgets/controls",
          "model_name": "HTMLModel",
          "model_module_version": "1.5.0",
          "state": {
            "_dom_classes": [],
            "_model_module": "@jupyter-widgets/controls",
            "_model_module_version": "1.5.0",
            "_model_name": "HTMLModel",
            "_view_count": null,
            "_view_module": "@jupyter-widgets/controls",
            "_view_module_version": "1.5.0",
            "_view_name": "HTMLView",
            "description": "",
            "description_tooltip": null,
            "layout": "IPY_MODEL_dc84cb8111304a4eb2d0608303213576",
            "placeholder": "​",
            "style": "IPY_MODEL_86ea515893ab48a9b8ea5e7972d81534",
            "value": "Loading checkpoint shards: 100%"
          }
        },
        "0eef84a605fa42abb2d43a5610f75081": {
          "model_module": "@jupyter-widgets/controls",
          "model_name": "FloatProgressModel",
          "model_module_version": "1.5.0",
          "state": {
            "_dom_classes": [],
            "_model_module": "@jupyter-widgets/controls",
            "_model_module_version": "1.5.0",
            "_model_name": "FloatProgressModel",
            "_view_count": null,
            "_view_module": "@jupyter-widgets/controls",
            "_view_module_version": "1.5.0",
            "_view_name": "ProgressView",
            "bar_style": "success",
            "description": "",
            "description_tooltip": null,
            "layout": "IPY_MODEL_6b7ca6a175c348c9a078ce6f7b6eed06",
            "max": 3,
            "min": 0,
            "orientation": "horizontal",
            "style": "IPY_MODEL_c1afcf7d395b4a3186f79c19c52153d4",
            "value": 3
          }
        },
        "c47cbaf356054602b78f83403b663d61": {
          "model_module": "@jupyter-widgets/controls",
          "model_name": "HTMLModel",
          "model_module_version": "1.5.0",
          "state": {
            "_dom_classes": [],
            "_model_module": "@jupyter-widgets/controls",
            "_model_module_version": "1.5.0",
            "_model_name": "HTMLModel",
            "_view_count": null,
            "_view_module": "@jupyter-widgets/controls",
            "_view_module_version": "1.5.0",
            "_view_name": "HTMLView",
            "description": "",
            "description_tooltip": null,
            "layout": "IPY_MODEL_4b37b9470f694a419c74f66eeaf841fc",
            "placeholder": "​",
            "style": "IPY_MODEL_6bf2982bab5346559bddfdf3899ce2a5",
            "value": " 3/3 [01:06&lt;00:00, 21.74s/it]"
          }
        },
        "92caba9d85c74de6a8c72120ccce2239": {
          "model_module": "@jupyter-widgets/base",
          "model_name": "LayoutModel",
          "model_module_version": "1.2.0",
          "state": {
            "_model_module": "@jupyter-widgets/base",
            "_model_module_version": "1.2.0",
            "_model_name": "LayoutModel",
            "_view_count": null,
            "_view_module": "@jupyter-widgets/base",
            "_view_module_version": "1.2.0",
            "_view_name": "LayoutView",
            "align_content": null,
            "align_items": null,
            "align_self": null,
            "border": null,
            "bottom": null,
            "display": null,
            "flex": null,
            "flex_flow": null,
            "grid_area": null,
            "grid_auto_columns": null,
            "grid_auto_flow": null,
            "grid_auto_rows": null,
            "grid_column": null,
            "grid_gap": null,
            "grid_row": null,
            "grid_template_areas": null,
            "grid_template_columns": null,
            "grid_template_rows": null,
            "height": null,
            "justify_content": null,
            "justify_items": null,
            "left": null,
            "margin": null,
            "max_height": null,
            "max_width": null,
            "min_height": null,
            "min_width": null,
            "object_fit": null,
            "object_position": null,
            "order": null,
            "overflow": null,
            "overflow_x": null,
            "overflow_y": null,
            "padding": null,
            "right": null,
            "top": null,
            "visibility": null,
            "width": null
          }
        },
        "dc84cb8111304a4eb2d0608303213576": {
          "model_module": "@jupyter-widgets/base",
          "model_name": "LayoutModel",
          "model_module_version": "1.2.0",
          "state": {
            "_model_module": "@jupyter-widgets/base",
            "_model_module_version": "1.2.0",
            "_model_name": "LayoutModel",
            "_view_count": null,
            "_view_module": "@jupyter-widgets/base",
            "_view_module_version": "1.2.0",
            "_view_name": "LayoutView",
            "align_content": null,
            "align_items": null,
            "align_self": null,
            "border": null,
            "bottom": null,
            "display": null,
            "flex": null,
            "flex_flow": null,
            "grid_area": null,
            "grid_auto_columns": null,
            "grid_auto_flow": null,
            "grid_auto_rows": null,
            "grid_column": null,
            "grid_gap": null,
            "grid_row": null,
            "grid_template_areas": null,
            "grid_template_columns": null,
            "grid_template_rows": null,
            "height": null,
            "justify_content": null,
            "justify_items": null,
            "left": null,
            "margin": null,
            "max_height": null,
            "max_width": null,
            "min_height": null,
            "min_width": null,
            "object_fit": null,
            "object_position": null,
            "order": null,
            "overflow": null,
            "overflow_x": null,
            "overflow_y": null,
            "padding": null,
            "right": null,
            "top": null,
            "visibility": null,
            "width": null
          }
        },
        "86ea515893ab48a9b8ea5e7972d81534": {
          "model_module": "@jupyter-widgets/controls",
          "model_name": "DescriptionStyleModel",
          "model_module_version": "1.5.0",
          "state": {
            "_model_module": "@jupyter-widgets/controls",
            "_model_module_version": "1.5.0",
            "_model_name": "DescriptionStyleModel",
            "_view_count": null,
            "_view_module": "@jupyter-widgets/base",
            "_view_module_version": "1.2.0",
            "_view_name": "StyleView",
            "description_width": ""
          }
        },
        "6b7ca6a175c348c9a078ce6f7b6eed06": {
          "model_module": "@jupyter-widgets/base",
          "model_name": "LayoutModel",
          "model_module_version": "1.2.0",
          "state": {
            "_model_module": "@jupyter-widgets/base",
            "_model_module_version": "1.2.0",
            "_model_name": "LayoutModel",
            "_view_count": null,
            "_view_module": "@jupyter-widgets/base",
            "_view_module_version": "1.2.0",
            "_view_name": "LayoutView",
            "align_content": null,
            "align_items": null,
            "align_self": null,
            "border": null,
            "bottom": null,
            "display": null,
            "flex": null,
            "flex_flow": null,
            "grid_area": null,
            "grid_auto_columns": null,
            "grid_auto_flow": null,
            "grid_auto_rows": null,
            "grid_column": null,
            "grid_gap": null,
            "grid_row": null,
            "grid_template_areas": null,
            "grid_template_columns": null,
            "grid_template_rows": null,
            "height": null,
            "justify_content": null,
            "justify_items": null,
            "left": null,
            "margin": null,
            "max_height": null,
            "max_width": null,
            "min_height": null,
            "min_width": null,
            "object_fit": null,
            "object_position": null,
            "order": null,
            "overflow": null,
            "overflow_x": null,
            "overflow_y": null,
            "padding": null,
            "right": null,
            "top": null,
            "visibility": null,
            "width": null
          }
        },
        "c1afcf7d395b4a3186f79c19c52153d4": {
          "model_module": "@jupyter-widgets/controls",
          "model_name": "ProgressStyleModel",
          "model_module_version": "1.5.0",
          "state": {
            "_model_module": "@jupyter-widgets/controls",
            "_model_module_version": "1.5.0",
            "_model_name": "ProgressStyleModel",
            "_view_count": null,
            "_view_module": "@jupyter-widgets/base",
            "_view_module_version": "1.2.0",
            "_view_name": "StyleView",
            "bar_color": null,
            "description_width": ""
          }
        },
        "4b37b9470f694a419c74f66eeaf841fc": {
          "model_module": "@jupyter-widgets/base",
          "model_name": "LayoutModel",
          "model_module_version": "1.2.0",
          "state": {
            "_model_module": "@jupyter-widgets/base",
            "_model_module_version": "1.2.0",
            "_model_name": "LayoutModel",
            "_view_count": null,
            "_view_module": "@jupyter-widgets/base",
            "_view_module_version": "1.2.0",
            "_view_name": "LayoutView",
            "align_content": null,
            "align_items": null,
            "align_self": null,
            "border": null,
            "bottom": null,
            "display": null,
            "flex": null,
            "flex_flow": null,
            "grid_area": null,
            "grid_auto_columns": null,
            "grid_auto_flow": null,
            "grid_auto_rows": null,
            "grid_column": null,
            "grid_gap": null,
            "grid_row": null,
            "grid_template_areas": null,
            "grid_template_columns": null,
            "grid_template_rows": null,
            "height": null,
            "justify_content": null,
            "justify_items": null,
            "left": null,
            "margin": null,
            "max_height": null,
            "max_width": null,
            "min_height": null,
            "min_width": null,
            "object_fit": null,
            "object_position": null,
            "order": null,
            "overflow": null,
            "overflow_x": null,
            "overflow_y": null,
            "padding": null,
            "right": null,
            "top": null,
            "visibility": null,
            "width": null
          }
        },
        "6bf2982bab5346559bddfdf3899ce2a5": {
          "model_module": "@jupyter-widgets/controls",
          "model_name": "DescriptionStyleModel",
          "model_module_version": "1.5.0",
          "state": {
            "_model_module": "@jupyter-widgets/controls",
            "_model_module_version": "1.5.0",
            "_model_name": "DescriptionStyleModel",
            "_view_count": null,
            "_view_module": "@jupyter-widgets/base",
            "_view_module_version": "1.2.0",
            "_view_name": "StyleView",
            "description_width": ""
          }
        },
        "8a1a1f925cb04fbb9a3226ec386903f5": {
          "model_module": "@jupyter-widgets/controls",
          "model_name": "HBoxModel",
          "model_module_version": "1.5.0",
          "state": {
            "_dom_classes": [],
            "_model_module": "@jupyter-widgets/controls",
            "_model_module_version": "1.5.0",
            "_model_name": "HBoxModel",
            "_view_count": null,
            "_view_module": "@jupyter-widgets/controls",
            "_view_module_version": "1.5.0",
            "_view_name": "HBoxView",
            "box_style": "",
            "children": [
              "IPY_MODEL_65150cf877de49efb95446e43ac4d93b",
              "IPY_MODEL_53780a56d6e44a0785ad15bf193a19ed",
              "IPY_MODEL_5c3746605722491b83dbf2cec09d8f25"
            ],
            "layout": "IPY_MODEL_ec6df2ab7a2348a0ba419c8a750b4d7b"
          }
        },
        "65150cf877de49efb95446e43ac4d93b": {
          "model_module": "@jupyter-widgets/controls",
          "model_name": "HTMLModel",
          "model_module_version": "1.5.0",
          "state": {
            "_dom_classes": [],
            "_model_module": "@jupyter-widgets/controls",
            "_model_module_version": "1.5.0",
            "_model_name": "HTMLModel",
            "_view_count": null,
            "_view_module": "@jupyter-widgets/controls",
            "_view_module_version": "1.5.0",
            "_view_name": "HTMLView",
            "description": "",
            "description_tooltip": null,
            "layout": "IPY_MODEL_95aace3ccd4e4dceb36cb16c8308ea47",
            "placeholder": "​",
            "style": "IPY_MODEL_c1ccf10f31584961af91a9369a385411",
            "value": "generation_config.json: 100%"
          }
        },
        "53780a56d6e44a0785ad15bf193a19ed": {
          "model_module": "@jupyter-widgets/controls",
          "model_name": "FloatProgressModel",
          "model_module_version": "1.5.0",
          "state": {
            "_dom_classes": [],
            "_model_module": "@jupyter-widgets/controls",
            "_model_module_version": "1.5.0",
            "_model_name": "FloatProgressModel",
            "_view_count": null,
            "_view_module": "@jupyter-widgets/controls",
            "_view_module_version": "1.5.0",
            "_view_name": "ProgressView",
            "bar_style": "success",
            "description": "",
            "description_tooltip": null,
            "layout": "IPY_MODEL_275075c089594318966073f75b362537",
            "max": 116,
            "min": 0,
            "orientation": "horizontal",
            "style": "IPY_MODEL_06d8aac5185748ed901dd217dd76a90e",
            "value": 116
          }
        },
        "5c3746605722491b83dbf2cec09d8f25": {
          "model_module": "@jupyter-widgets/controls",
          "model_name": "HTMLModel",
          "model_module_version": "1.5.0",
          "state": {
            "_dom_classes": [],
            "_model_module": "@jupyter-widgets/controls",
            "_model_module_version": "1.5.0",
            "_model_name": "HTMLModel",
            "_view_count": null,
            "_view_module": "@jupyter-widgets/controls",
            "_view_module_version": "1.5.0",
            "_view_name": "HTMLView",
            "description": "",
            "description_tooltip": null,
            "layout": "IPY_MODEL_8638a5110d894832b32fb9b86e957d71",
            "placeholder": "​",
            "style": "IPY_MODEL_cdfcda61d3084ceeadf9f07bc3e4494c",
            "value": " 116/116 [00:00&lt;00:00, 7.63kB/s]"
          }
        },
        "ec6df2ab7a2348a0ba419c8a750b4d7b": {
          "model_module": "@jupyter-widgets/base",
          "model_name": "LayoutModel",
          "model_module_version": "1.2.0",
          "state": {
            "_model_module": "@jupyter-widgets/base",
            "_model_module_version": "1.2.0",
            "_model_name": "LayoutModel",
            "_view_count": null,
            "_view_module": "@jupyter-widgets/base",
            "_view_module_version": "1.2.0",
            "_view_name": "LayoutView",
            "align_content": null,
            "align_items": null,
            "align_self": null,
            "border": null,
            "bottom": null,
            "display": null,
            "flex": null,
            "flex_flow": null,
            "grid_area": null,
            "grid_auto_columns": null,
            "grid_auto_flow": null,
            "grid_auto_rows": null,
            "grid_column": null,
            "grid_gap": null,
            "grid_row": null,
            "grid_template_areas": null,
            "grid_template_columns": null,
            "grid_template_rows": null,
            "height": null,
            "justify_content": null,
            "justify_items": null,
            "left": null,
            "margin": null,
            "max_height": null,
            "max_width": null,
            "min_height": null,
            "min_width": null,
            "object_fit": null,
            "object_position": null,
            "order": null,
            "overflow": null,
            "overflow_x": null,
            "overflow_y": null,
            "padding": null,
            "right": null,
            "top": null,
            "visibility": null,
            "width": null
          }
        },
        "95aace3ccd4e4dceb36cb16c8308ea47": {
          "model_module": "@jupyter-widgets/base",
          "model_name": "LayoutModel",
          "model_module_version": "1.2.0",
          "state": {
            "_model_module": "@jupyter-widgets/base",
            "_model_module_version": "1.2.0",
            "_model_name": "LayoutModel",
            "_view_count": null,
            "_view_module": "@jupyter-widgets/base",
            "_view_module_version": "1.2.0",
            "_view_name": "LayoutView",
            "align_content": null,
            "align_items": null,
            "align_self": null,
            "border": null,
            "bottom": null,
            "display": null,
            "flex": null,
            "flex_flow": null,
            "grid_area": null,
            "grid_auto_columns": null,
            "grid_auto_flow": null,
            "grid_auto_rows": null,
            "grid_column": null,
            "grid_gap": null,
            "grid_row": null,
            "grid_template_areas": null,
            "grid_template_columns": null,
            "grid_template_rows": null,
            "height": null,
            "justify_content": null,
            "justify_items": null,
            "left": null,
            "margin": null,
            "max_height": null,
            "max_width": null,
            "min_height": null,
            "min_width": null,
            "object_fit": null,
            "object_position": null,
            "order": null,
            "overflow": null,
            "overflow_x": null,
            "overflow_y": null,
            "padding": null,
            "right": null,
            "top": null,
            "visibility": null,
            "width": null
          }
        },
        "c1ccf10f31584961af91a9369a385411": {
          "model_module": "@jupyter-widgets/controls",
          "model_name": "DescriptionStyleModel",
          "model_module_version": "1.5.0",
          "state": {
            "_model_module": "@jupyter-widgets/controls",
            "_model_module_version": "1.5.0",
            "_model_name": "DescriptionStyleModel",
            "_view_count": null,
            "_view_module": "@jupyter-widgets/base",
            "_view_module_version": "1.2.0",
            "_view_name": "StyleView",
            "description_width": ""
          }
        },
        "275075c089594318966073f75b362537": {
          "model_module": "@jupyter-widgets/base",
          "model_name": "LayoutModel",
          "model_module_version": "1.2.0",
          "state": {
            "_model_module": "@jupyter-widgets/base",
            "_model_module_version": "1.2.0",
            "_model_name": "LayoutModel",
            "_view_count": null,
            "_view_module": "@jupyter-widgets/base",
            "_view_module_version": "1.2.0",
            "_view_name": "LayoutView",
            "align_content": null,
            "align_items": null,
            "align_self": null,
            "border": null,
            "bottom": null,
            "display": null,
            "flex": null,
            "flex_flow": null,
            "grid_area": null,
            "grid_auto_columns": null,
            "grid_auto_flow": null,
            "grid_auto_rows": null,
            "grid_column": null,
            "grid_gap": null,
            "grid_row": null,
            "grid_template_areas": null,
            "grid_template_columns": null,
            "grid_template_rows": null,
            "height": null,
            "justify_content": null,
            "justify_items": null,
            "left": null,
            "margin": null,
            "max_height": null,
            "max_width": null,
            "min_height": null,
            "min_width": null,
            "object_fit": null,
            "object_position": null,
            "order": null,
            "overflow": null,
            "overflow_x": null,
            "overflow_y": null,
            "padding": null,
            "right": null,
            "top": null,
            "visibility": null,
            "width": null
          }
        },
        "06d8aac5185748ed901dd217dd76a90e": {
          "model_module": "@jupyter-widgets/controls",
          "model_name": "ProgressStyleModel",
          "model_module_version": "1.5.0",
          "state": {
            "_model_module": "@jupyter-widgets/controls",
            "_model_module_version": "1.5.0",
            "_model_name": "ProgressStyleModel",
            "_view_count": null,
            "_view_module": "@jupyter-widgets/base",
            "_view_module_version": "1.2.0",
            "_view_name": "StyleView",
            "bar_color": null,
            "description_width": ""
          }
        },
        "8638a5110d894832b32fb9b86e957d71": {
          "model_module": "@jupyter-widgets/base",
          "model_name": "LayoutModel",
          "model_module_version": "1.2.0",
          "state": {
            "_model_module": "@jupyter-widgets/base",
            "_model_module_version": "1.2.0",
            "_model_name": "LayoutModel",
            "_view_count": null,
            "_view_module": "@jupyter-widgets/base",
            "_view_module_version": "1.2.0",
            "_view_name": "LayoutView",
            "align_content": null,
            "align_items": null,
            "align_self": null,
            "border": null,
            "bottom": null,
            "display": null,
            "flex": null,
            "flex_flow": null,
            "grid_area": null,
            "grid_auto_columns": null,
            "grid_auto_flow": null,
            "grid_auto_rows": null,
            "grid_column": null,
            "grid_gap": null,
            "grid_row": null,
            "grid_template_areas": null,
            "grid_template_columns": null,
            "grid_template_rows": null,
            "height": null,
            "justify_content": null,
            "justify_items": null,
            "left": null,
            "margin": null,
            "max_height": null,
            "max_width": null,
            "min_height": null,
            "min_width": null,
            "object_fit": null,
            "object_position": null,
            "order": null,
            "overflow": null,
            "overflow_x": null,
            "overflow_y": null,
            "padding": null,
            "right": null,
            "top": null,
            "visibility": null,
            "width": null
          }
        },
        "cdfcda61d3084ceeadf9f07bc3e4494c": {
          "model_module": "@jupyter-widgets/controls",
          "model_name": "DescriptionStyleModel",
          "model_module_version": "1.5.0",
          "state": {
            "_model_module": "@jupyter-widgets/controls",
            "_model_module_version": "1.5.0",
            "_model_name": "DescriptionStyleModel",
            "_view_count": null,
            "_view_module": "@jupyter-widgets/base",
            "_view_module_version": "1.2.0",
            "_view_name": "StyleView",
            "description_width": ""
          }
        }
      }
    }
  },
  "cells": [
    {
      "cell_type": "markdown",
      "source": [
        "# Projet Long - Zero-shot CLIP classifier sur CIFAR"
      ],
      "metadata": {
        "id": "FQsLV1pRbiYN"
      }
    },
    {
      "cell_type": "markdown",
      "source": [
        "## Setup"
      ],
      "metadata": {
        "id": "jBgvRTzebsm0"
      }
    },
    {
      "cell_type": "code",
      "source": [
        "!nvidia-smi -L"
      ],
      "metadata": {
        "colab": {
          "base_uri": "https://localhost:8080/"
        },
        "id": "f04piVDvIhsd",
        "outputId": "3744c664-e98d-46e2-e5b2-85dd2c9e7b0b"
      },
      "execution_count": null,
      "outputs": [
        {
          "output_type": "stream",
          "name": "stdout",
          "text": [
            "GPU 0: Tesla T4 (UUID: GPU-1313c0e3-5131-cd12-6e22-c09abedeb54b)\n"
          ]
        }
      ]
    },
    {
      "cell_type": "code",
      "source": [
        "! pip install ftfy regex tqdm\n",
        "! pip uninstall torch torchvision transformers mistral_inference -y\n",
        "! pip install torch==2.6.0 torchvision==0.21.0 transformers mistral_inference\n",
        "! pip install git+https://github.com/openai/CLIP.git"
      ],
      "metadata": {
        "colab": {
          "base_uri": "https://localhost:8080/"
        },
        "id": "1mBqFPcCbox7",
        "outputId": "406f2b62-1fa2-4873-8366-ac5508e7dfa5"
      },
      "execution_count": null,
      "outputs": [
        {
          "output_type": "stream",
          "name": "stdout",
          "text": [
            "Requirement already satisfied: ftfy in /usr/local/lib/python3.11/dist-packages (6.3.1)\n",
            "Requirement already satisfied: regex in /usr/local/lib/python3.11/dist-packages (2024.11.6)\n",
            "Requirement already satisfied: tqdm in /usr/local/lib/python3.11/dist-packages (4.67.1)\n",
            "Requirement already satisfied: wcwidth in /usr/local/lib/python3.11/dist-packages (from ftfy) (0.2.13)\n",
            "Found existing installation: torch 2.6.0\n",
            "Uninstalling torch-2.6.0:\n",
            "  Successfully uninstalled torch-2.6.0\n",
            "Found existing installation: torchvision 0.21.0\n",
            "Uninstalling torchvision-0.21.0:\n",
            "  Successfully uninstalled torchvision-0.21.0\n",
            "Found existing installation: transformers 4.50.0\n",
            "Uninstalling transformers-4.50.0:\n",
            "  Successfully uninstalled transformers-4.50.0\n",
            "Found existing installation: mistral_inference 1.6.0\n",
            "Uninstalling mistral_inference-1.6.0:\n",
            "  Successfully uninstalled mistral_inference-1.6.0\n",
            "Collecting torch==2.6.0\n",
            "  Using cached torch-2.6.0-cp311-cp311-manylinux1_x86_64.whl.metadata (28 kB)\n",
            "Collecting torchvision==0.21.0\n",
            "  Using cached torchvision-0.21.0-cp311-cp311-manylinux1_x86_64.whl.metadata (6.1 kB)\n",
            "Collecting transformers\n",
            "  Using cached transformers-4.50.0-py3-none-any.whl.metadata (39 kB)\n",
            "Collecting mistral_inference\n",
            "  Using cached mistral_inference-1.6.0-py3-none-any.whl.metadata (17 kB)\n",
            "Requirement already satisfied: filelock in /usr/local/lib/python3.11/dist-packages (from torch==2.6.0) (3.18.0)\n",
            "Requirement already satisfied: typing-extensions>=4.10.0 in /usr/local/lib/python3.11/dist-packages (from torch==2.6.0) (4.12.2)\n",
            "Requirement already satisfied: networkx in /usr/local/lib/python3.11/dist-packages (from torch==2.6.0) (3.4.2)\n",
            "Requirement already satisfied: jinja2 in /usr/local/lib/python3.11/dist-packages (from torch==2.6.0) (3.1.6)\n",
            "Requirement already satisfied: fsspec in /usr/local/lib/python3.11/dist-packages (from torch==2.6.0) (2025.3.0)\n",
            "Requirement already satisfied: nvidia-cuda-nvrtc-cu12==12.4.127 in /usr/local/lib/python3.11/dist-packages (from torch==2.6.0) (12.4.127)\n",
            "Requirement already satisfied: nvidia-cuda-runtime-cu12==12.4.127 in /usr/local/lib/python3.11/dist-packages (from torch==2.6.0) (12.4.127)\n",
            "Requirement already satisfied: nvidia-cuda-cupti-cu12==12.4.127 in /usr/local/lib/python3.11/dist-packages (from torch==2.6.0) (12.4.127)\n",
            "Requirement already satisfied: nvidia-cudnn-cu12==9.1.0.70 in /usr/local/lib/python3.11/dist-packages (from torch==2.6.0) (9.1.0.70)\n",
            "Requirement already satisfied: nvidia-cublas-cu12==12.4.5.8 in /usr/local/lib/python3.11/dist-packages (from torch==2.6.0) (12.4.5.8)\n",
            "Requirement already satisfied: nvidia-cufft-cu12==11.2.1.3 in /usr/local/lib/python3.11/dist-packages (from torch==2.6.0) (11.2.1.3)\n",
            "Requirement already satisfied: nvidia-curand-cu12==10.3.5.147 in /usr/local/lib/python3.11/dist-packages (from torch==2.6.0) (10.3.5.147)\n",
            "Requirement already satisfied: nvidia-cusolver-cu12==11.6.1.9 in /usr/local/lib/python3.11/dist-packages (from torch==2.6.0) (11.6.1.9)\n",
            "Requirement already satisfied: nvidia-cusparse-cu12==12.3.1.170 in /usr/local/lib/python3.11/dist-packages (from torch==2.6.0) (12.3.1.170)\n",
            "Requirement already satisfied: nvidia-cusparselt-cu12==0.6.2 in /usr/local/lib/python3.11/dist-packages (from torch==2.6.0) (0.6.2)\n",
            "Requirement already satisfied: nvidia-nccl-cu12==2.21.5 in /usr/local/lib/python3.11/dist-packages (from torch==2.6.0) (2.21.5)\n",
            "Requirement already satisfied: nvidia-nvtx-cu12==12.4.127 in /usr/local/lib/python3.11/dist-packages (from torch==2.6.0) (12.4.127)\n",
            "Requirement already satisfied: nvidia-nvjitlink-cu12==12.4.127 in /usr/local/lib/python3.11/dist-packages (from torch==2.6.0) (12.4.127)\n",
            "Requirement already satisfied: triton==3.2.0 in /usr/local/lib/python3.11/dist-packages (from torch==2.6.0) (3.2.0)\n",
            "Requirement already satisfied: sympy==1.13.1 in /usr/local/lib/python3.11/dist-packages (from torch==2.6.0) (1.13.1)\n",
            "Requirement already satisfied: numpy in /usr/local/lib/python3.11/dist-packages (from torchvision==0.21.0) (2.0.2)\n",
            "Requirement already satisfied: pillow!=8.3.*,>=5.3.0 in /usr/local/lib/python3.11/dist-packages (from torchvision==0.21.0) (11.1.0)\n",
            "Requirement already satisfied: mpmath<1.4,>=1.1.0 in /usr/local/lib/python3.11/dist-packages (from sympy==1.13.1->torch==2.6.0) (1.3.0)\n",
            "Requirement already satisfied: huggingface-hub<1.0,>=0.26.0 in /usr/local/lib/python3.11/dist-packages (from transformers) (0.29.3)\n",
            "Requirement already satisfied: packaging>=20.0 in /usr/local/lib/python3.11/dist-packages (from transformers) (24.2)\n",
            "Requirement already satisfied: pyyaml>=5.1 in /usr/local/lib/python3.11/dist-packages (from transformers) (6.0.2)\n",
            "Requirement already satisfied: regex!=2019.12.17 in /usr/local/lib/python3.11/dist-packages (from transformers) (2024.11.6)\n",
            "Requirement already satisfied: requests in /usr/local/lib/python3.11/dist-packages (from transformers) (2.32.3)\n",
            "Requirement already satisfied: tokenizers<0.22,>=0.21 in /usr/local/lib/python3.11/dist-packages (from transformers) (0.21.1)\n",
            "Requirement already satisfied: safetensors>=0.4.3 in /usr/local/lib/python3.11/dist-packages (from transformers) (0.5.3)\n",
            "Requirement already satisfied: tqdm>=4.27 in /usr/local/lib/python3.11/dist-packages (from transformers) (4.67.1)\n",
            "Requirement already satisfied: fire>=0.6.0 in /usr/local/lib/python3.11/dist-packages (from mistral_inference) (0.7.0)\n",
            "Requirement already satisfied: mistral_common>=1.5.4 in /usr/local/lib/python3.11/dist-packages (from mistral_inference) (1.5.4)\n",
            "Requirement already satisfied: simple-parsing>=0.1.5 in /usr/local/lib/python3.11/dist-packages (from mistral_inference) (0.1.7)\n",
            "Requirement already satisfied: xformers>=0.0.24 in /usr/local/lib/python3.11/dist-packages (from mistral_inference) (0.0.29.post3)\n",
            "Requirement already satisfied: termcolor in /usr/local/lib/python3.11/dist-packages (from fire>=0.6.0->mistral_inference) (2.5.0)\n",
            "Requirement already satisfied: jsonschema>=4.21.1 in /usr/local/lib/python3.11/dist-packages (from mistral_common>=1.5.4->mistral_inference) (4.23.0)\n",
            "Requirement already satisfied: pydantic<3.0,>=2.7 in /usr/local/lib/python3.11/dist-packages (from mistral_common>=1.5.4->mistral_inference) (2.10.6)\n",
            "Requirement already satisfied: sentencepiece>=0.2.0 in /usr/local/lib/python3.11/dist-packages (from mistral_common>=1.5.4->mistral_inference) (0.2.0)\n",
            "Requirement already satisfied: tiktoken>=0.7.0 in /usr/local/lib/python3.11/dist-packages (from mistral_common>=1.5.4->mistral_inference) (0.9.0)\n",
            "Requirement already satisfied: charset-normalizer<4,>=2 in /usr/local/lib/python3.11/dist-packages (from requests->transformers) (3.4.1)\n",
            "Requirement already satisfied: idna<4,>=2.5 in /usr/local/lib/python3.11/dist-packages (from requests->transformers) (3.10)\n",
            "Requirement already satisfied: urllib3<3,>=1.21.1 in /usr/local/lib/python3.11/dist-packages (from requests->transformers) (2.3.0)\n",
            "Requirement already satisfied: certifi>=2017.4.17 in /usr/local/lib/python3.11/dist-packages (from requests->transformers) (2025.1.31)\n",
            "Requirement already satisfied: docstring-parser<1.0,>=0.15 in /usr/local/lib/python3.11/dist-packages (from simple-parsing>=0.1.5->mistral_inference) (0.16)\n",
            "Requirement already satisfied: MarkupSafe>=2.0 in /usr/local/lib/python3.11/dist-packages (from jinja2->torch==2.6.0) (3.0.2)\n",
            "Requirement already satisfied: attrs>=22.2.0 in /usr/local/lib/python3.11/dist-packages (from jsonschema>=4.21.1->mistral_common>=1.5.4->mistral_inference) (25.3.0)\n",
            "Requirement already satisfied: jsonschema-specifications>=2023.03.6 in /usr/local/lib/python3.11/dist-packages (from jsonschema>=4.21.1->mistral_common>=1.5.4->mistral_inference) (2024.10.1)\n",
            "Requirement already satisfied: referencing>=0.28.4 in /usr/local/lib/python3.11/dist-packages (from jsonschema>=4.21.1->mistral_common>=1.5.4->mistral_inference) (0.36.2)\n",
            "Requirement already satisfied: rpds-py>=0.7.1 in /usr/local/lib/python3.11/dist-packages (from jsonschema>=4.21.1->mistral_common>=1.5.4->mistral_inference) (0.23.1)\n",
            "Requirement already satisfied: annotated-types>=0.6.0 in /usr/local/lib/python3.11/dist-packages (from pydantic<3.0,>=2.7->mistral_common>=1.5.4->mistral_inference) (0.7.0)\n",
            "Requirement already satisfied: pydantic-core==2.27.2 in /usr/local/lib/python3.11/dist-packages (from pydantic<3.0,>=2.7->mistral_common>=1.5.4->mistral_inference) (2.27.2)\n",
            "Using cached torch-2.6.0-cp311-cp311-manylinux1_x86_64.whl (766.7 MB)\n",
            "Using cached torchvision-0.21.0-cp311-cp311-manylinux1_x86_64.whl (7.2 MB)\n",
            "Using cached transformers-4.50.0-py3-none-any.whl (10.2 MB)\n",
            "Using cached mistral_inference-1.6.0-py3-none-any.whl (32 kB)\n",
            "Installing collected packages: torch, transformers, torchvision, mistral_inference\n",
            "Successfully installed mistral_inference-1.6.0 torch-2.6.0 torchvision-0.21.0 transformers-4.50.0\n",
            "Collecting git+https://github.com/openai/CLIP.git\n",
            "  Cloning https://github.com/openai/CLIP.git to /tmp/pip-req-build-akoke3zy\n",
            "  Running command git clone --filter=blob:none --quiet https://github.com/openai/CLIP.git /tmp/pip-req-build-akoke3zy\n",
            "  Resolved https://github.com/openai/CLIP.git to commit dcba3cb2e2827b402d2701e7e1c7d9fed8a20ef1\n",
            "  Preparing metadata (setup.py) ... \u001b[?25l\u001b[?25hdone\n",
            "Requirement already satisfied: ftfy in /usr/local/lib/python3.11/dist-packages (from clip==1.0) (6.3.1)\n",
            "Requirement already satisfied: packaging in /usr/local/lib/python3.11/dist-packages (from clip==1.0) (24.2)\n",
            "Requirement already satisfied: regex in /usr/local/lib/python3.11/dist-packages (from clip==1.0) (2024.11.6)\n",
            "Requirement already satisfied: tqdm in /usr/local/lib/python3.11/dist-packages (from clip==1.0) (4.67.1)\n",
            "Requirement already satisfied: torch in /usr/local/lib/python3.11/dist-packages (from clip==1.0) (2.6.0)\n",
            "Requirement already satisfied: torchvision in /usr/local/lib/python3.11/dist-packages (from clip==1.0) (0.21.0)\n",
            "Requirement already satisfied: wcwidth in /usr/local/lib/python3.11/dist-packages (from ftfy->clip==1.0) (0.2.13)\n",
            "Requirement already satisfied: filelock in /usr/local/lib/python3.11/dist-packages (from torch->clip==1.0) (3.18.0)\n",
            "Requirement already satisfied: typing-extensions>=4.10.0 in /usr/local/lib/python3.11/dist-packages (from torch->clip==1.0) (4.12.2)\n",
            "Requirement already satisfied: networkx in /usr/local/lib/python3.11/dist-packages (from torch->clip==1.0) (3.4.2)\n",
            "Requirement already satisfied: jinja2 in /usr/local/lib/python3.11/dist-packages (from torch->clip==1.0) (3.1.6)\n",
            "Requirement already satisfied: fsspec in /usr/local/lib/python3.11/dist-packages (from torch->clip==1.0) (2025.3.0)\n",
            "Requirement already satisfied: nvidia-cuda-nvrtc-cu12==12.4.127 in /usr/local/lib/python3.11/dist-packages (from torch->clip==1.0) (12.4.127)\n",
            "Requirement already satisfied: nvidia-cuda-runtime-cu12==12.4.127 in /usr/local/lib/python3.11/dist-packages (from torch->clip==1.0) (12.4.127)\n",
            "Requirement already satisfied: nvidia-cuda-cupti-cu12==12.4.127 in /usr/local/lib/python3.11/dist-packages (from torch->clip==1.0) (12.4.127)\n",
            "Requirement already satisfied: nvidia-cudnn-cu12==9.1.0.70 in /usr/local/lib/python3.11/dist-packages (from torch->clip==1.0) (9.1.0.70)\n",
            "Requirement already satisfied: nvidia-cublas-cu12==12.4.5.8 in /usr/local/lib/python3.11/dist-packages (from torch->clip==1.0) (12.4.5.8)\n",
            "Requirement already satisfied: nvidia-cufft-cu12==11.2.1.3 in /usr/local/lib/python3.11/dist-packages (from torch->clip==1.0) (11.2.1.3)\n",
            "Requirement already satisfied: nvidia-curand-cu12==10.3.5.147 in /usr/local/lib/python3.11/dist-packages (from torch->clip==1.0) (10.3.5.147)\n",
            "Requirement already satisfied: nvidia-cusolver-cu12==11.6.1.9 in /usr/local/lib/python3.11/dist-packages (from torch->clip==1.0) (11.6.1.9)\n",
            "Requirement already satisfied: nvidia-cusparse-cu12==12.3.1.170 in /usr/local/lib/python3.11/dist-packages (from torch->clip==1.0) (12.3.1.170)\n",
            "Requirement already satisfied: nvidia-cusparselt-cu12==0.6.2 in /usr/local/lib/python3.11/dist-packages (from torch->clip==1.0) (0.6.2)\n",
            "Requirement already satisfied: nvidia-nccl-cu12==2.21.5 in /usr/local/lib/python3.11/dist-packages (from torch->clip==1.0) (2.21.5)\n",
            "Requirement already satisfied: nvidia-nvtx-cu12==12.4.127 in /usr/local/lib/python3.11/dist-packages (from torch->clip==1.0) (12.4.127)\n",
            "Requirement already satisfied: nvidia-nvjitlink-cu12==12.4.127 in /usr/local/lib/python3.11/dist-packages (from torch->clip==1.0) (12.4.127)\n",
            "Requirement already satisfied: triton==3.2.0 in /usr/local/lib/python3.11/dist-packages (from torch->clip==1.0) (3.2.0)\n",
            "Requirement already satisfied: sympy==1.13.1 in /usr/local/lib/python3.11/dist-packages (from torch->clip==1.0) (1.13.1)\n",
            "Requirement already satisfied: mpmath<1.4,>=1.1.0 in /usr/local/lib/python3.11/dist-packages (from sympy==1.13.1->torch->clip==1.0) (1.3.0)\n",
            "Requirement already satisfied: numpy in /usr/local/lib/python3.11/dist-packages (from torchvision->clip==1.0) (2.0.2)\n",
            "Requirement already satisfied: pillow!=8.3.*,>=5.3.0 in /usr/local/lib/python3.11/dist-packages (from torchvision->clip==1.0) (11.1.0)\n",
            "Requirement already satisfied: MarkupSafe>=2.0 in /usr/local/lib/python3.11/dist-packages (from jinja2->torch->clip==1.0) (3.0.2)\n"
          ]
        }
      ]
    },
    {
      "cell_type": "code",
      "source": [
        "import numpy as np\n",
        "import torch\n",
        "\n",
        "print(\"Torch version:\", torch.__version__)\n",
        "\n",
        "assert list(map(int, torch.__version__.split(\"+\")[0].split(\".\"))) >= [1, 7, 1], \"PyTorch 1.7.1 or later is required\""
      ],
      "metadata": {
        "id": "aVTeZOGmbzJS",
        "colab": {
          "base_uri": "https://localhost:8080/"
        },
        "outputId": "713275f2-68b1-417b-9760-d9cad6a2255f"
      },
      "execution_count": null,
      "outputs": [
        {
          "output_type": "stream",
          "name": "stdout",
          "text": [
            "Torch version: 2.6.0+cu124\n"
          ]
        }
      ]
    },
    {
      "cell_type": "markdown",
      "source": [
        "## Load model"
      ],
      "metadata": {
        "id": "vhAQtK3UelEJ"
      }
    },
    {
      "cell_type": "code",
      "source": [
        "import clip"
      ],
      "metadata": {
        "id": "rm13kP7feksl"
      },
      "execution_count": null,
      "outputs": []
    },
    {
      "cell_type": "code",
      "source": [
        "clip.available_models()"
      ],
      "metadata": {
        "colab": {
          "base_uri": "https://localhost:8080/"
        },
        "id": "KhywUbjoej-1",
        "outputId": "b86bb7e5-548b-4494-f6a9-9da775748627"
      },
      "execution_count": null,
      "outputs": [
        {
          "output_type": "execute_result",
          "data": {
            "text/plain": [
              "['RN50',\n",
              " 'RN101',\n",
              " 'RN50x4',\n",
              " 'RN50x16',\n",
              " 'RN50x64',\n",
              " 'ViT-B/32',\n",
              " 'ViT-B/16',\n",
              " 'ViT-L/14',\n",
              " 'ViT-L/14@336px']"
            ]
          },
          "metadata": {},
          "execution_count": 8
        }
      ]
    },
    {
      "cell_type": "code",
      "source": [
        "model, preprocess = clip.load(\"RN50\")\n",
        "#model, preprocess = clip.load(\"ViT-B/16\")\n",
        "model.cuda().eval()\n",
        "input_resolution = model.visual.input_resolution\n",
        "context_length = model.context_length\n",
        "vocab_size = model.vocab_size\n",
        "\n",
        "print(\"Model parameters:\", f\"{np.sum([int(np.prod(p.shape)) for p in model.parameters()]):,}\")\n",
        "print(\"Input resolution:\", input_resolution)\n",
        "print(\"Context length:\", context_length)\n",
        "print(\"Vocab size:\", vocab_size)"
      ],
      "metadata": {
        "colab": {
          "base_uri": "https://localhost:8080/"
        },
        "id": "UpCWPixtesEZ",
        "outputId": "44859ed4-63b8-411c-a073-53f1cd4179c8"
      },
      "execution_count": null,
      "outputs": [
        {
          "output_type": "stream",
          "name": "stdout",
          "text": [
            "Model parameters: 102,007,137\n",
            "Input resolution: 224\n",
            "Context length: 77\n",
            "Vocab size: 49408\n"
          ]
        }
      ]
    },
    {
      "cell_type": "code",
      "source": [
        "import os\n",
        "\n",
        "from torchvision.datasets import CIFAR10\n",
        "\n",
        "cifar10 = CIFAR10(os.path.expanduser(\"~/.cache\"), transform=preprocess, download=True, train=False)"
      ],
      "metadata": {
        "id": "I2Na3-lBe04G"
      },
      "execution_count": null,
      "outputs": []
    },
    {
      "cell_type": "code",
      "source": [
        "cifar10"
      ],
      "metadata": {
        "id": "bZ9K_EtZfod5",
        "colab": {
          "base_uri": "https://localhost:8080/"
        },
        "outputId": "b1abb99d-e00f-4ef8-ae57-fa002f5b11b2"
      },
      "execution_count": null,
      "outputs": [
        {
          "output_type": "execute_result",
          "data": {
            "text/plain": [
              "Dataset CIFAR10\n",
              "    Number of datapoints: 10000\n",
              "    Root location: /root/.cache\n",
              "    Split: Test\n",
              "    StandardTransform\n",
              "Transform: Compose(\n",
              "               Resize(size=224, interpolation=bicubic, max_size=None, antialias=True)\n",
              "               CenterCrop(size=(224, 224))\n",
              "               <function _convert_image_to_rgb at 0x7aeb0ee42de0>\n",
              "               ToTensor()\n",
              "               Normalize(mean=(0.48145466, 0.4578275, 0.40821073), std=(0.26862954, 0.26130258, 0.27577711))\n",
              "           )"
            ]
          },
          "metadata": {},
          "execution_count": 11
        }
      ]
    },
    {
      "cell_type": "code",
      "source": [
        "len(cifar10)"
      ],
      "metadata": {
        "id": "KX2gCz7_fsL2",
        "colab": {
          "base_uri": "https://localhost:8080/"
        },
        "outputId": "b3ff5ef0-765f-4b9b-bd1e-c01de103dd73"
      },
      "execution_count": null,
      "outputs": [
        {
          "output_type": "execute_result",
          "data": {
            "text/plain": [
              "10000"
            ]
          },
          "metadata": {},
          "execution_count": 12
        }
      ]
    },
    {
      "cell_type": "code",
      "source": [
        "img, label = next(iter(cifar10))"
      ],
      "metadata": {
        "id": "2_-FaDP4fy5Z"
      },
      "execution_count": null,
      "outputs": []
    },
    {
      "cell_type": "code",
      "source": [
        "norm = preprocess.transforms[-1]\n",
        "def denormalize(img):\n",
        "  return img * torch.tensor(norm.std)[:, None, None] + torch.tensor(norm.mean)[:, None, None]\n",
        "norm.mean, norm.std"
      ],
      "metadata": {
        "id": "W0-g17U5hE-s",
        "colab": {
          "base_uri": "https://localhost:8080/"
        },
        "outputId": "f8678317-16ee-4738-9458-73de3923f96b"
      },
      "execution_count": null,
      "outputs": [
        {
          "output_type": "execute_result",
          "data": {
            "text/plain": [
              "((0.48145466, 0.4578275, 0.40821073), (0.26862954, 0.26130258, 0.27577711))"
            ]
          },
          "metadata": {},
          "execution_count": 14
        }
      ]
    },
    {
      "cell_type": "code",
      "source": [
        "import matplotlib.pyplot as plt\n",
        "\n",
        "img, label = next(iter(cifar10))\n",
        "img = denormalize(img).permute(1, 2, 0)\n",
        "plt.imshow(img)\n",
        "img.shape, img.min(), img.max()"
      ],
      "metadata": {
        "colab": {
          "base_uri": "https://localhost:8080/",
          "height": 451
        },
        "id": "LfFUNK33g6n2",
        "outputId": "260d4553-1207-45f3-d1cd-86093a74099e"
      },
      "execution_count": null,
      "outputs": [
        {
          "output_type": "execute_result",
          "data": {
            "text/plain": [
              "(torch.Size([224, 224, 3]), tensor(0.0431), tensor(1.))"
            ]
          },
          "metadata": {},
          "execution_count": 15
        },
        {
          "output_type": "display_data",
          "data": {
            "text/plain": [
              "<Figure size 640x480 with 1 Axes>"
            ],
            "image/png": "[encoded data removed]"
          },
          "metadata": {}
        }
      ]
    },
    {
      "cell_type": "code",
      "source": [
        "batch_size = 1\n",
        "data_loader = torch.utils.data.DataLoader(cifar10,\n",
        "                                          batch_size=batch_size,\n",
        "                                          shuffle=False)"
      ],
      "metadata": {
        "id": "RU5qoA41g-Ik"
      },
      "execution_count": null,
      "outputs": []
    },
    {
      "cell_type": "code",
      "source": [
        "x = next(iter(data_loader))\n",
        "x[0].shape, x[1].shape"
      ],
      "metadata": {
        "colab": {
          "base_uri": "https://localhost:8080/"
        },
        "id": "lW1PWe6_hXXR",
        "outputId": "fe506948-b437-4ce5-a491-b8fd14e50bd2"
      },
      "execution_count": null,
      "outputs": [
        {
          "output_type": "execute_result",
          "data": {
            "text/plain": [
              "(torch.Size([1, 3, 224, 224]), torch.Size([1]))"
            ]
          },
          "metadata": {},
          "execution_count": 17
        }
      ]
    },
    {
      "cell_type": "markdown",
      "source": [
        "## A photo of a [Class]"
      ],
      "metadata": {
        "id": "jtpMXhQdazrK"
      }
    },
    {
      "cell_type": "code",
      "source": [
        "simple_template = [\"a photo of a {}.\"]"
      ],
      "metadata": {
        "id": "INIZu_Lla5aP"
      },
      "execution_count": null,
      "outputs": []
    },
    {
      "cell_type": "code",
      "source": [
        "zeroshot_weights_simple = zeroshot_classifier(cifar10.classes, simple_template)"
      ],
      "metadata": {
        "id": "2fC0KDNCbD44"
      },
      "execution_count": null,
      "outputs": []
    },
    {
      "cell_type": "code",
      "source": [
        "with torch.no_grad():\n",
        "  top1_simple, top5_simple, n = 0., 0., 0.\n",
        "  for i, (images, target) in enumerate(tqdm.tqdm(data_loader)):\n",
        "    images = images.cuda()\n",
        "    target = target.cuda()\n",
        "\n",
        "    # predict\n",
        "    image_features = model.encode_image(images)\n",
        "    image_features /= image_features.norm(dim=-1, keepdim=True)\n",
        "\n",
        "    # measure accuracy\n",
        "    logits = 100. * image_features @ zeroshot_weights_simple\n",
        "    acc1, acc5 = accuracy(logits, target, topk=(1, 5))\n",
        "    top1_simple += acc1\n",
        "    top5_simple += acc5\n",
        "\n",
        "    n += images.size(0)\n",
        "\n",
        "top1_simple = (top1_simple / n) * 100\n",
        "top5_simple = (top5_simple / n) * 100\n",
        "\n",
        "print()\n",
        "print(f\"Top-1 accuracy with simple template: {top1_simple:.2f}\")\n",
        "print(f\"Top-5 accuracy with simple template: {top5_simple:.2f}\")"
      ],
      "metadata": {
        "id": "umj5qlekbPtd"
      },
      "execution_count": null,
      "outputs": []
    },
    {
      "cell_type": "markdown",
      "source": [
        "## Use of a LLM to enhance prompts"
      ],
      "metadata": {
        "id": "MRqee3RYNR1K"
      }
    },
    {
      "cell_type": "markdown",
      "source": [
        "### Chargement de Mistral7B"
      ],
      "metadata": {
        "id": "fbJz5PjXWDt_"
      }
    },
    {
      "cell_type": "code",
      "source": [
        "\n",
        "from google.colab import userdata\n"
      ],
      "metadata": {
        "id": "qcWqvPfeT6E_"
      },
      "execution_count": null,
      "outputs": []
    },
    {
      "cell_type": "code",
      "source": [
        "!nvidia-smi\n",
        "!pip install requests transformers accelerate\n",
        "!pip install -U bitsandbytes"
      ],
      "metadata": {
        "id": "rBvO8qTOUN3k",
        "colab": {
          "base_uri": "https://localhost:8080/"
        },
        "outputId": "e2c59c75-f3ca-46b0-bd81-b22e4ca731e9"
      },
      "execution_count": null,
      "outputs": [
        {
          "output_type": "stream",
          "name": "stdout",
          "text": [
            "Mon Mar 24 17:06:27 2025       \n",
            "+-----------------------------------------------------------------------------------------+\n",
            "| NVIDIA-SMI 550.54.15              Driver Version: 550.54.15      CUDA Version: 12.4     |\n",
            "|-----------------------------------------+------------------------+----------------------+\n",
            "| GPU  Name                 Persistence-M | Bus-Id          Disp.A | Volatile Uncorr. ECC |\n",
            "| Fan  Temp   Perf          Pwr:Usage/Cap |           Memory-Usage | GPU-Util  Compute M. |\n",
            "|                                         |                        |               MIG M. |\n",
            "|=========================================+========================+======================|\n",
            "|   0  Tesla T4                       Off |   00000000:00:04.0 Off |                    0 |\n",
            "| N/A   45C    P0             28W /   70W |     360MiB /  15360MiB |      0%      Default |\n",
            "|                                         |                        |                  N/A |\n",
            "+-----------------------------------------+------------------------+----------------------+\n",
            "                                                                                         \n",
            "+-----------------------------------------------------------------------------------------+\n",
            "| Processes:                                                                              |\n",
            "|  GPU   GI   CI        PID   Type   Process name                              GPU Memory |\n",
            "|        ID   ID                                                               Usage      |\n",
            "|=========================================================================================|\n",
            "+-----------------------------------------------------------------------------------------+\n",
            "Requirement already satisfied: requests in /usr/local/lib/python3.11/dist-packages (2.32.3)\n",
            "Requirement already satisfied: transformers in /usr/local/lib/python3.11/dist-packages (4.50.0)\n",
            "Requirement already satisfied: accelerate in /usr/local/lib/python3.11/dist-packages (1.5.2)\n",
            "Requirement already satisfied: charset-normalizer<4,>=2 in /usr/local/lib/python3.11/dist-packages (from requests) (3.4.1)\n",
            "Requirement already satisfied: idna<4,>=2.5 in /usr/local/lib/python3.11/dist-packages (from requests) (3.10)\n",
            "Requirement already satisfied: urllib3<3,>=1.21.1 in /usr/local/lib/python3.11/dist-packages (from requests) (2.3.0)\n",
            "Requirement already satisfied: certifi>=2017.4.17 in /usr/local/lib/python3.11/dist-packages (from requests) (2025.1.31)\n",
            "Requirement already satisfied: filelock in /usr/local/lib/python3.11/dist-packages (from transformers) (3.18.0)\n",
            "Requirement already satisfied: huggingface-hub<1.0,>=0.26.0 in /usr/local/lib/python3.11/dist-packages (from transformers) (0.29.3)\n",
            "Requirement already satisfied: numpy>=1.17 in /usr/local/lib/python3.11/dist-packages (from transformers) (2.0.2)\n",
            "Requirement already satisfied: packaging>=20.0 in /usr/local/lib/python3.11/dist-packages (from transformers) (24.2)\n",
            "Requirement already satisfied: pyyaml>=5.1 in /usr/local/lib/python3.11/dist-packages (from transformers) (6.0.2)\n",
            "Requirement already satisfied: regex!=2019.12.17 in /usr/local/lib/python3.11/dist-packages (from transformers) (2024.11.6)\n",
            "Requirement already satisfied: tokenizers<0.22,>=0.21 in /usr/local/lib/python3.11/dist-packages (from transformers) (0.21.1)\n",
            "Requirement already satisfied: safetensors>=0.4.3 in /usr/local/lib/python3.11/dist-packages (from transformers) (0.5.3)\n",
            "Requirement already satisfied: tqdm>=4.27 in /usr/local/lib/python3.11/dist-packages (from transformers) (4.67.1)\n",
            "Requirement already satisfied: psutil in /usr/local/lib/python3.11/dist-packages (from accelerate) (5.9.5)\n",
            "Requirement already satisfied: torch>=2.0.0 in /usr/local/lib/python3.11/dist-packages (from accelerate) (2.6.0)\n",
            "Requirement already satisfied: fsspec>=2023.5.0 in /usr/local/lib/python3.11/dist-packages (from huggingface-hub<1.0,>=0.26.0->transformers) (2025.3.0)\n",
            "Requirement already satisfied: typing-extensions>=3.7.4.3 in /usr/local/lib/python3.11/dist-packages (from huggingface-hub<1.0,>=0.26.0->transformers) (4.12.2)\n",
            "Requirement already satisfied: networkx in /usr/local/lib/python3.11/dist-packages (from torch>=2.0.0->accelerate) (3.4.2)\n",
            "Requirement already satisfied: jinja2 in /usr/local/lib/python3.11/dist-packages (from torch>=2.0.0->accelerate) (3.1.6)\n",
            "Requirement already satisfied: nvidia-cuda-nvrtc-cu12==12.4.127 in /usr/local/lib/python3.11/dist-packages (from torch>=2.0.0->accelerate) (12.4.127)\n",
            "Requirement already satisfied: nvidia-cuda-runtime-cu12==12.4.127 in /usr/local/lib/python3.11/dist-packages (from torch>=2.0.0->accelerate) (12.4.127)\n",
            "Requirement already satisfied: nvidia-cuda-cupti-cu12==12.4.127 in /usr/local/lib/python3.11/dist-packages (from torch>=2.0.0->accelerate) (12.4.127)\n",
            "Requirement already satisfied: nvidia-cudnn-cu12==9.1.0.70 in /usr/local/lib/python3.11/dist-packages (from torch>=2.0.0->accelerate) (9.1.0.70)\n",
            "Requirement already satisfied: nvidia-cublas-cu12==12.4.5.8 in /usr/local/lib/python3.11/dist-packages (from torch>=2.0.0->accelerate) (12.4.5.8)\n",
            "Requirement already satisfied: nvidia-cufft-cu12==11.2.1.3 in /usr/local/lib/python3.11/dist-packages (from torch>=2.0.0->accelerate) (11.2.1.3)\n",
            "Requirement already satisfied: nvidia-curand-cu12==10.3.5.147 in /usr/local/lib/python3.11/dist-packages (from torch>=2.0.0->accelerate) (10.3.5.147)\n",
            "Requirement already satisfied: nvidia-cusolver-cu12==11.6.1.9 in /usr/local/lib/python3.11/dist-packages (from torch>=2.0.0->accelerate) (11.6.1.9)\n",
            "Requirement already satisfied: nvidia-cusparse-cu12==12.3.1.170 in /usr/local/lib/python3.11/dist-packages (from torch>=2.0.0->accelerate) (12.3.1.170)\n",
            "Requirement already satisfied: nvidia-cusparselt-cu12==0.6.2 in /usr/local/lib/python3.11/dist-packages (from torch>=2.0.0->accelerate) (0.6.2)\n",
            "Requirement already satisfied: nvidia-nccl-cu12==2.21.5 in /usr/local/lib/python3.11/dist-packages (from torch>=2.0.0->accelerate) (2.21.5)\n",
            "Requirement already satisfied: nvidia-nvtx-cu12==12.4.127 in /usr/local/lib/python3.11/dist-packages (from torch>=2.0.0->accelerate) (12.4.127)\n",
            "Requirement already satisfied: nvidia-nvjitlink-cu12==12.4.127 in /usr/local/lib/python3.11/dist-packages (from torch>=2.0.0->accelerate) (12.4.127)\n",
            "Requirement already satisfied: triton==3.2.0 in /usr/local/lib/python3.11/dist-packages (from torch>=2.0.0->accelerate) (3.2.0)\n",
            "Requirement already satisfied: sympy==1.13.1 in /usr/local/lib/python3.11/dist-packages (from torch>=2.0.0->accelerate) (1.13.1)\n",
            "Requirement already satisfied: mpmath<1.4,>=1.1.0 in /usr/local/lib/python3.11/dist-packages (from sympy==1.13.1->torch>=2.0.0->accelerate) (1.3.0)\n",
            "Requirement already satisfied: MarkupSafe>=2.0 in /usr/local/lib/python3.11/dist-packages (from jinja2->torch>=2.0.0->accelerate) (3.0.2)\n",
            "Collecting bitsandbytes\n",
            "  Downloading bitsandbytes-0.45.3-py3-none-manylinux_2_24_x86_64.whl.metadata (5.0 kB)\n",
            "Requirement already satisfied: torch<3,>=2.0 in /usr/local/lib/python3.11/dist-packages (from bitsandbytes) (2.6.0)\n",
            "Requirement already satisfied: numpy>=1.17 in /usr/local/lib/python3.11/dist-packages (from bitsandbytes) (2.0.2)\n",
            "Requirement already satisfied: filelock in /usr/local/lib/python3.11/dist-packages (from torch<3,>=2.0->bitsandbytes) (3.18.0)\n",
            "Requirement already satisfied: typing-extensions>=4.10.0 in /usr/local/lib/python3.11/dist-packages (from torch<3,>=2.0->bitsandbytes) (4.12.2)\n",
            "Requirement already satisfied: networkx in /usr/local/lib/python3.11/dist-packages (from torch<3,>=2.0->bitsandbytes) (3.4.2)\n",
            "Requirement already satisfied: jinja2 in /usr/local/lib/python3.11/dist-packages (from torch<3,>=2.0->bitsandbytes) (3.1.6)\n",
            "Requirement already satisfied: fsspec in /usr/local/lib/python3.11/dist-packages (from torch<3,>=2.0->bitsandbytes) (2025.3.0)\n",
            "Requirement already satisfied: nvidia-cuda-nvrtc-cu12==12.4.127 in /usr/local/lib/python3.11/dist-packages (from torch<3,>=2.0->bitsandbytes) (12.4.127)\n",
            "Requirement already satisfied: nvidia-cuda-runtime-cu12==12.4.127 in /usr/local/lib/python3.11/dist-packages (from torch<3,>=2.0->bitsandbytes) (12.4.127)\n",
            "Requirement already satisfied: nvidia-cuda-cupti-cu12==12.4.127 in /usr/local/lib/python3.11/dist-packages (from torch<3,>=2.0->bitsandbytes) (12.4.127)\n",
            "Requirement already satisfied: nvidia-cudnn-cu12==9.1.0.70 in /usr/local/lib/python3.11/dist-packages (from torch<3,>=2.0->bitsandbytes) (9.1.0.70)\n",
            "Requirement already satisfied: nvidia-cublas-cu12==12.4.5.8 in /usr/local/lib/python3.11/dist-packages (from torch<3,>=2.0->bitsandbytes) (12.4.5.8)\n",
            "Requirement already satisfied: nvidia-cufft-cu12==11.2.1.3 in /usr/local/lib/python3.11/dist-packages (from torch<3,>=2.0->bitsandbytes) (11.2.1.3)\n",
            "Requirement already satisfied: nvidia-curand-cu12==10.3.5.147 in /usr/local/lib/python3.11/dist-packages (from torch<3,>=2.0->bitsandbytes) (10.3.5.147)\n",
            "Requirement already satisfied: nvidia-cusolver-cu12==11.6.1.9 in /usr/local/lib/python3.11/dist-packages (from torch<3,>=2.0->bitsandbytes) (11.6.1.9)\n",
            "Requirement already satisfied: nvidia-cusparse-cu12==12.3.1.170 in /usr/local/lib/python3.11/dist-packages (from torch<3,>=2.0->bitsandbytes) (12.3.1.170)\n",
            "Requirement already satisfied: nvidia-cusparselt-cu12==0.6.2 in /usr/local/lib/python3.11/dist-packages (from torch<3,>=2.0->bitsandbytes) (0.6.2)\n",
            "Requirement already satisfied: nvidia-nccl-cu12==2.21.5 in /usr/local/lib/python3.11/dist-packages (from torch<3,>=2.0->bitsandbytes) (2.21.5)\n",
            "Requirement already satisfied: nvidia-nvtx-cu12==12.4.127 in /usr/local/lib/python3.11/dist-packages (from torch<3,>=2.0->bitsandbytes) (12.4.127)\n",
            "Requirement already satisfied: nvidia-nvjitlink-cu12==12.4.127 in /usr/local/lib/python3.11/dist-packages (from torch<3,>=2.0->bitsandbytes) (12.4.127)\n",
            "Requirement already satisfied: triton==3.2.0 in /usr/local/lib/python3.11/dist-packages (from torch<3,>=2.0->bitsandbytes) (3.2.0)\n",
            "Requirement already satisfied: sympy==1.13.1 in /usr/local/lib/python3.11/dist-packages (from torch<3,>=2.0->bitsandbytes) (1.13.1)\n",
            "Requirement already satisfied: mpmath<1.4,>=1.1.0 in /usr/local/lib/python3.11/dist-packages (from sympy==1.13.1->torch<3,>=2.0->bitsandbytes) (1.3.0)\n",
            "Requirement already satisfied: MarkupSafe>=2.0 in /usr/local/lib/python3.11/dist-packages (from jinja2->torch<3,>=2.0->bitsandbytes) (3.0.2)\n",
            "Downloading bitsandbytes-0.45.3-py3-none-manylinux_2_24_x86_64.whl (76.1 MB)\n",
            "\u001b[2K   \u001b[90m━━━━━━━━━━━━━━━━━━━━━━━━━━━━━━━━━━━━━━━━\u001b[0m \u001b[32m76.1/76.1 MB\u001b[0m \u001b[31m9.9 MB/s\u001b[0m eta \u001b[36m0:00:00\u001b[0m\n",
            "\u001b[?25hInstalling collected packages: bitsandbytes\n",
            "Successfully installed bitsandbytes-0.45.3\n"
          ]
        }
      ]
    },
    {
      "cell_type": "code",
      "source": [
        "import torch\n",
        "print(torch.cuda.is_available())\n",
        "import requests\n",
        "from transformers import AutoTokenizer, AutoModelForCausalLM, BitsAndBytesConfig"
      ],
      "metadata": {
        "id": "tuUJCF_aUKZC",
        "colab": {
          "base_uri": "https://localhost:8080/"
        },
        "outputId": "42672581-7c28-4df9-9b78-d35f5cf45f62"
      },
      "execution_count": null,
      "outputs": [
        {
          "output_type": "stream",
          "name": "stdout",
          "text": [
            "True\n"
          ]
        }
      ]
    },
    {
      "cell_type": "code",
      "source": [
        "model_id = 'mistralai/Mistral-7B-Instruct-v0.3'\n",
        "tokenizer = AutoTokenizer.from_pretrained(model_id, token=userdata.get('HF_TOKEN'))\n",
        "quantization_config = BitsAndBytesConfig(\n",
        "    load_in_8bit=True,\n",
        "    bnb_4bit_quant_type='nf4',\n",
        "    bnb_4bit_compute_dtype=torch.bfloat16\n",
        ")  # configuration pour la quantification en 8 bits\n",
        "model_llm = AutoModelForCausalLM.from_pretrained(model_id, quantization_config=quantization_config, device_map=\"auto\", token=userdata.get('HF_TOKEN'))"
      ],
      "metadata": {
        "id": "zY9is6KBUx0O",
        "colab": {
          "base_uri": "https://localhost:8080/",
          "height": 401,
          "referenced_widgets": [
            "6dbb4f56df184dddb2a6910cddfaaf78",
            "3761b45acd62437384f4a3ae28ef4ef4",
            "2b2f8509b7ac4ba696b2ee4cf4be4f1a",
            "f39add19d17c47dda617f22f3d2000ee",
            "038a57f7b0244cd2b4353f2445714e22",
            "a8f4db5991824742b0dc61ff6388268c",
            "613317e2bbcb477a971b6e27eecfd874",
            "306bbd82ea6b4f5b9c460384d80049b1",
            "0f149d98aa6c4c4f95645a31a59868e8",
            "75eae03486be416283dbde587a02bddd",
            "4f7c044c19854a29b5341319d880b4f8",
            "b1ec96fec95c4aa88ee72b4ed86ee775",
            "9479c510983942ce82a7c9afef7795ea",
            "14d178f16dc2492a9eaef2078beee3cd",
            "8a7da3445ef445ebbcd657fa77af434c",
            "61643dffc8734b579328a22fb0fc5090",
            "9b0ac7ba2fec4ad68b541333561fcb0c",
            "6b645f2eccfa4f14a2bf48ea22d13715",
            "37ac04e9f14448779ad931685ed5c8a2",
            "ecc576e2f71647fbbb1a6253cbe75aa0",
            "68bdf98d5e6a484a8686da2ad0d62dc1",
            "7fdab822c9fb4a21934e83757d5812ae",
            "5d735150544c4c598c635b359eca750c",
            "efa9d138489b47ca9f7f1ca0a3d5ea7e",
            "69dba01ba1bf48af94781525a109df55",
            "935e9680d87749229537ca4053fd9b3c",
            "5127e403e16f49aaaa4972758ac605d8",
            "00821636ad3142ae814143f430bb202d",
            "a4c3540434f14236a17fbe037e2899a3",
            "92b61778f7ae45c7acf6e79507c07af6",
            "e73251ce8dcb437da0ca080c0f591d63",
            "b081191391154c709752b533dadfd2d8",
            "5413ba386fd84533b6f374054be3951c",
            "04a47e44e5074cd29552786cec7242e4",
            "05cc33e4c2344a5bb0c0a48d7e3d3dda",
            "2c5bd806922e440cbd5ac2e48019c246",
            "3e4e4814f8304244981652cbbee194b7",
            "c076665869de4c5ca466d86e25bfe9e2",
            "e5d1b50311e143c8933c1320066b9344",
            "906fdc9b140c4d6cba0dcf8e173982b2",
            "657f0848e25949ce938283cf8a7e0bfa",
            "8f84b164c97b46b9ad3003ecbb6a3cb6",
            "6a1cd4c4686b4cfa83b7c16aacf7716f",
            "5e71b0e71d3d45ee991f4b42fbad8759",
            "cf1772d318c542f3a91ca45e539d5531",
            "ff26a951233f488696fbc10641486aae",
            "b84bf01f9fd34cceb4144f03e9404a87",
            "60211ca990644f7aa8b9ee7119dc1819",
            "14d48032d7a046518055d2ade795c271",
            "b45350ed14c74ab89f72a16093307c8a",
            "eeffe181c5db4d76b02116f5144bc5df",
            "839e4e67f1d34691b53667cd7bfdafaa",
            "8b162547e0514676a95aad12a4fa82b0",
            "ce2f80ee43a747c6a42623b8c7dee040",
            "db4d867c53794120aaa4efc4812cd9f2",
            "88d1fa61931d4c92a7a576d57659cab6",
            "82a0211b0cd348baafa5300ad8f07551",
            "71d9639df8144afbbf79bd71c3f92fc3",
            "7cee058bc28543f691181edcff57d097",
            "4bbcc911895b48459a7b69c24acae674",
            "b2794805000c4af4b617ebed1864fc69",
            "9f318cf55a06472c83a4411cd2b31173",
            "e51c8038e4244500baf1963b7fbd9ea8",
            "5072671e776a427b97b4bfbf9ee30b4f",
            "ff9d697251ab410097dc58bbaec81025",
            "8b6bd2b2606d4e12954c4faf43244eef",
            "75f7dc28dcec4a2eb97643b39e662953",
            "98420fb369d84329a5202f0e9f2ffc11",
            "0126d2a325b241598c9812a4608f4253",
            "9a3c8a5dabbd48f7842eeef1a7ff262b",
            "47d652725fcd409b9d1767ecce271f3e",
            "552b5f9bc9b640a6ac9913e6176aca2d",
            "8387d0dd8b1a4956acb2c30474c854aa",
            "2dfdd7c560be4b6fb1c6ea92fc806c62",
            "3caf3713ab114dd08796892a5dad511d",
            "9a734eb4f40b4aadb0603ffab4f0caf9",
            "1c55b0a255004a14b1ae65511975311d",
            "c586ada67f5d487281a5e5dea0e1fe34",
            "6769c0731c0c4a539c2e81b42ccfa37d",
            "4ab104711167482dbc0b97c96eb5854c",
            "470df170af164df283558fd5110a222d",
            "75978a05a1ed4271b5711e78c1c5ca90",
            "8565046d92e240509730d01d6e6354d3",
            "4293f51ded3543d4880af50c04e46dca",
            "a1742461226141deb9cf6ba76117bfa4",
            "200ab1298f4d4b59b91c2077501ea545",
            "fce2e8acf08e44fc88c89e2f23df9458",
            "b1e02d9e1e8e4a769648e9df07031be6",
            "c5231e706e59488083594b2cb8e28c21",
            "d13b46fb0f644abfabf98ce455e1a0c1",
            "7012927a9274439ebabfcc6acbe8444b",
            "1cd0c4485f8443ea8cc31f22d5a953d2",
            "cb514c36dda84bdb9c9569616bc6af79",
            "d46fc86b5a0b4bcebfe1a569c367e8ac",
            "1a0a83db1b5844c0a22d236371d3461f",
            "636e3e0b4a614ffeb91f1f7cb4d73b52",
            "ea2eb95f208448cb96466a3fe30fd4ea",
            "27d9dafc39b94b31b81b60247b8dd139",
            "434eaf4364f94e6689e2e2e35afc5989",
            "ffbd4485ef774ecfbebc58584d6cfdf5",
            "079258aa02a74350a71a801b2dc4b9c5",
            "3802c70d726e444fbae16cea9d2bde2e",
            "59078733ee9a4b53b572e30babbc41a3",
            "16f7aaa0f2c8440d96f005132f6cca2d",
            "ac04d27f973f4f36a9e3a04208d4cb8a",
            "4a4379e7ac2d43b4a9f89d56b0a84a05",
            "df2c3b32170a4069809e82e003eedb0f",
            "c189eea33244457d8d4459ac1a633cab",
            "803e44d7be144e608bd95c35004f0441",
            "f31cc5bca252480d8d3aefbf8c0222e3",
            "9abdeb6048764a0ba6fd9db1fc9e93ed",
            "b5bf0a9763344ccbb659ed24096822b2",
            "0eef84a605fa42abb2d43a5610f75081",
            "c47cbaf356054602b78f83403b663d61",
            "92caba9d85c74de6a8c72120ccce2239",
            "dc84cb8111304a4eb2d0608303213576",
            "86ea515893ab48a9b8ea5e7972d81534",
            "6b7ca6a175c348c9a078ce6f7b6eed06",
            "c1afcf7d395b4a3186f79c19c52153d4",
            "4b37b9470f694a419c74f66eeaf841fc",
            "6bf2982bab5346559bddfdf3899ce2a5",
            "8a1a1f925cb04fbb9a3226ec386903f5",
            "65150cf877de49efb95446e43ac4d93b",
            "53780a56d6e44a0785ad15bf193a19ed",
            "5c3746605722491b83dbf2cec09d8f25",
            "ec6df2ab7a2348a0ba419c8a750b4d7b",
            "95aace3ccd4e4dceb36cb16c8308ea47",
            "c1ccf10f31584961af91a9369a385411",
            "275075c089594318966073f75b362537",
            "06d8aac5185748ed901dd217dd76a90e",
            "8638a5110d894832b32fb9b86e957d71",
            "cdfcda61d3084ceeadf9f07bc3e4494c"
          ]
        },
        "outputId": "8dcd3882-11b8-49e1-80df-e19748488eb8"
      },
      "execution_count": null,
      "outputs": [
        {
          "output_type": "display_data",
          "data": {
            "text/plain": [
              "tokenizer_config.json:   0%|          | 0.00/141k [00:00<?, ?B/s]"
            ],
            "application/vnd.jupyter.widget-view+json": {
              "version_major": 2,
              "version_minor": 0,
              "model_id": "6dbb4f56df184dddb2a6910cddfaaf78"
            }
          },
          "metadata": {}
        },
        {
          "output_type": "display_data",
          "data": {
            "text/plain": [
              "tokenizer.model:   0%|          | 0.00/587k [00:00<?, ?B/s]"
            ],
            "application/vnd.jupyter.widget-view+json": {
              "version_major": 2,
              "version_minor": 0,
              "model_id": "b1ec96fec95c4aa88ee72b4ed86ee775"
            }
          },
          "metadata": {}
        },
        {
          "output_type": "display_data",
          "data": {
            "text/plain": [
              "tokenizer.json:   0%|          | 0.00/1.96M [00:00<?, ?B/s]"
            ],
            "application/vnd.jupyter.widget-view+json": {
              "version_major": 2,
              "version_minor": 0,
              "model_id": "5d735150544c4c598c635b359eca750c"
            }
          },
          "metadata": {}
        },
        {
          "output_type": "display_data",
          "data": {
            "text/plain": [
              "special_tokens_map.json:   0%|          | 0.00/414 [00:00<?, ?B/s]"
            ],
            "application/vnd.jupyter.widget-view+json": {
              "version_major": 2,
              "version_minor": 0,
              "model_id": "04a47e44e5074cd29552786cec7242e4"
            }
          },
          "metadata": {}
        },
        {
          "output_type": "display_data",
          "data": {
            "text/plain": [
              "config.json:   0%|          | 0.00/601 [00:00<?, ?B/s]"
            ],
            "application/vnd.jupyter.widget-view+json": {
              "version_major": 2,
              "version_minor": 0,
              "model_id": "cf1772d318c542f3a91ca45e539d5531"
            }
          },
          "metadata": {}
        },
        {
          "output_type": "display_data",
          "data": {
            "text/plain": [
              "model.safetensors.index.json:   0%|          | 0.00/23.9k [00:00<?, ?B/s]"
            ],
            "application/vnd.jupyter.widget-view+json": {
              "version_major": 2,
              "version_minor": 0,
              "model_id": "88d1fa61931d4c92a7a576d57659cab6"
            }
          },
          "metadata": {}
        },
        {
          "output_type": "display_data",
          "data": {
            "text/plain": [
              "Fetching 3 files:   0%|          | 0/3 [00:00<?, ?it/s]"
            ],
            "application/vnd.jupyter.widget-view+json": {
              "version_major": 2,
              "version_minor": 0,
              "model_id": "75f7dc28dcec4a2eb97643b39e662953"
            }
          },
          "metadata": {}
        },
        {
          "output_type": "display_data",
          "data": {
            "text/plain": [
              "model-00001-of-00003.safetensors:   0%|          | 0.00/4.95G [00:00<?, ?B/s]"
            ],
            "application/vnd.jupyter.widget-view+json": {
              "version_major": 2,
              "version_minor": 0,
              "model_id": "c586ada67f5d487281a5e5dea0e1fe34"
            }
          },
          "metadata": {}
        },
        {
          "output_type": "display_data",
          "data": {
            "text/plain": [
              "model-00002-of-00003.safetensors:   0%|          | 0.00/5.00G [00:00<?, ?B/s]"
            ],
            "application/vnd.jupyter.widget-view+json": {
              "version_major": 2,
              "version_minor": 0,
              "model_id": "c5231e706e59488083594b2cb8e28c21"
            }
          },
          "metadata": {}
        },
        {
          "output_type": "display_data",
          "data": {
            "text/plain": [
              "model-00003-of-00003.safetensors:   0%|          | 0.00/4.55G [00:00<?, ?B/s]"
            ],
            "application/vnd.jupyter.widget-view+json": {
              "version_major": 2,
              "version_minor": 0,
              "model_id": "ffbd4485ef774ecfbebc58584d6cfdf5"
            }
          },
          "metadata": {}
        },
        {
          "output_type": "display_data",
          "data": {
            "text/plain": [
              "Loading checkpoint shards:   0%|          | 0/3 [00:00<?, ?it/s]"
            ],
            "application/vnd.jupyter.widget-view+json": {
              "version_major": 2,
              "version_minor": 0,
              "model_id": "9abdeb6048764a0ba6fd9db1fc9e93ed"
            }
          },
          "metadata": {}
        },
        {
          "output_type": "display_data",
          "data": {
            "text/plain": [
              "generation_config.json:   0%|          | 0.00/116 [00:00<?, ?B/s]"
            ],
            "application/vnd.jupyter.widget-view+json": {
              "version_major": 2,
              "version_minor": 0,
              "model_id": "8a1a1f925cb04fbb9a3226ec386903f5"
            }
          },
          "metadata": {}
        }
      ]
    },
    {
      "cell_type": "markdown",
      "source": [
        "### Prompts pour obtenir les attributs"
      ],
      "metadata": {
        "id": "7Q0CxHA8u4uu"
      }
    },
    {
      "cell_type": "code",
      "source": [
        "import random\n",
        "import re\n",
        "import json\n",
        "\n",
        "\n",
        "def get_attributes(classname):\n",
        "    prompt = (\n",
        "        f\"Please generate three visual attributes that are easy to see in an image of a {classname}. \"\n",
        "        \"Each attribute should be a single word or a very short phrase (max 3 words). \"\n",
        "        \"Provide the answer in strict JSON format with keys \\\"feature1\\\", \\\"feature2\\\", and \\\"feature3\\\", \"\n",
        "        \"where the values are actual descriptions (for example, \\\"brown\\\", \\\"round\\\", or \\\"metallic\\\"). \"\n",
        "        \"Do not include any additional text.\"\n",
        "    )\n",
        "\n",
        "    inputs = tokenizer(prompt, return_tensors=\"pt\").to(model_llm.device)\n",
        "    outputs = model_llm.generate(**inputs, max_new_tokens=200, do_sample=True, temperature=0.5, top_k=20)\n",
        "\n",
        "    generated_text = tokenizer.decode(outputs[0], skip_special_tokens=True)\n",
        "\n",
        "    try:\n",
        "        # Extract attributes from the generated text\n",
        "        json_match = re.search(r'\\{.*\\}', generated_text, re.DOTALL)\n",
        "        if json_match:\n",
        "            json_text = json_match.group(0)\n",
        "            attributes = json.loads(json_text)\n",
        "            if \"feature1\" in attributes and \"feature2\" in attributes and \"feature3\" in attributes:\n",
        "                return attributes[\"feature1\"], attributes[\"feature2\"], attributes[\"feature3\"]\n",
        "            else:\n",
        "                raise ValueError(\"Missing JSON keys\")\n",
        "        else:\n",
        "            # Fallback if no JSON is found\n",
        "            parts = generated_text.split(',')\n",
        "            if len(parts) >= 3:\n",
        "                return parts[0].strip(), parts[1].strip(), parts[2].strip()\n",
        "\n",
        "        # Fallback in case of errors\n",
        "        print(f\"Using fallback for '{classname}'\")\n",
        "        return \"unknown_feature1\", \"unknown_feature2\", \"unknown_feature3\"\n",
        "\n",
        "    except (json.JSONDecodeError, ValueError) as e:\n",
        "        print(f\"Error processing generated text for '{classname}': {e}\")\n",
        "        return \"unknown_feature1\", \"unknown_feature2\", \"unknown_feature3\"\n",
        "\n",
        "\n",
        "\n",
        "def get_attributes2(classname, best_attribute):\n",
        "  prompt = (\n",
        "        f\"Please generate three visual attributes that are easy to see in an image of a {classname}, \"\n",
        "        f\"other than '{best_attribute}', which is already chosen. Each attribute should be a single word or a very short phrase (max 3 words). \"\n",
        "        \"Provide the answer in strict JSON format with keys \\\"feature1\\\", \\\"feature2\\\", and \\\"feature3\\\", \"\n",
        "        \"where the values are actual descriptions (for example, \\\"brown\\\", \\\"round\\\", or \\\"metallic\\\"). \"\n",
        "        \"Do not include any additional text.\"\n",
        "    )\n",
        "\n",
        "  inputs = tokenizer(prompt, return_tensors=\"pt\").to(model_llm.device)\n",
        "  outputs = model_llm.generate(**inputs, max_new_tokens=200, do_sample=True, temperature=0.5, top_k=20)\n",
        "  generated_text = tokenizer.decode(outputs[0], skip_special_tokens=True)\n",
        "\n",
        "  try:\n",
        "    # Extract attributes from the generated text\n",
        "    json_match = re.search(r'\\{.*\\}', generated_text, re.DOTALL)\n",
        "    if json_match:\n",
        "      json_text = json_match.group(0)\n",
        "      attributes = json.loads(json_text)\n",
        "      if \"feature1\" in attributes and \"feature2\" in attributes and \"feature3\" in attributes:\n",
        "        return attributes[\"feature1\"], attributes[\"feature2\"], attributes[\"feature3\"]\n",
        "      else:\n",
        "        raise ValueError(\"Missing JSON keys\")\n",
        "    else:\n",
        "      # Fallback if no JSON is found\n",
        "      parts = generated_text.split(',')\n",
        "      if len(parts) >= 3:\n",
        "        return parts[0].strip(), parts[1].strip(), parts[2].strip()\n",
        "\n",
        "    # Fallback in case of errors\n",
        "    print(f\"Using fallback for '{classname}'\")\n",
        "    return \"unknown_feature1\", \"unknown_feature2\", \"unknown_feature3\"\n",
        "\n",
        "  except (json.JSONDecodeError, ValueError) as e:\n",
        "    print(f\"Error processing generated text for '{classname}': {e}\")\n",
        "    return \"unknown_feature1\", \"unknown_feature2\", \"unknown_feature3\"\n",
        "\n",
        "\n",
        "\n",
        "def get_attributes3(classname, best_attribute, best_attribute2):\n",
        "  prompt = (\n",
        "        f\"Please generate three visual attributes that are easy to see in an image of a {classname}, \"\n",
        "        f\"other than '{best_attribute}' and '{best_attribute2}', which are already chosen. Each attribute should be a single word or a very short phrase (max 3 words). \"\n",
        "        \"Provide the answer in strict JSON format with keys \\\"feature1\\\", \\\"feature2\\\", and \\\"feature3\\\", \"\n",
        "        \"where the values are actual descriptions (for example, \\\"brown\\\", \\\"round\\\", or \\\"metallic\\\"). \"\n",
        "        \"Do not include any additional text.\"\n",
        "    )\n",
        "\n",
        "  inputs = tokenizer(prompt, return_tensors=\"pt\").to(model_llm.device)\n",
        "  outputs = model_llm.generate(**inputs, max_new_tokens=200, do_sample=True, temperature=0.5, top_k=20)\n",
        "  generated_text = tokenizer.decode(outputs[0], skip_special_tokens=True)\n",
        "\n",
        "  try:\n",
        "    # Extract attributes from the generated text\n",
        "    json_match = re.search(r'\\{.*\\}', generated_text, re.DOTALL)\n",
        "    if json_match:\n",
        "      json_text = json_match.group(0)\n",
        "      attributes = json.loads(json_text)\n",
        "      if \"feature1\" in attributes and \"feature2\" in attributes and \"feature3\" in attributes:\n",
        "        return attributes[\"feature1\"], attributes[\"feature2\"], attributes[\"feature3\"]\n",
        "      else:\n",
        "        raise ValueError(\"Missing JSON keys\")\n",
        "    else:\n",
        "      # Fallback if no JSON is found\n",
        "      parts = generated_text.split(',')\n",
        "      if len(parts) >= 3:\n",
        "        return parts[0].strip(), parts[1].strip(), parts[2].strip()\n",
        "\n",
        "    # Fallback in case of errors\n",
        "    print(f\"Using fallback for '{classname}'\")\n",
        "    return \"unknown_feature1\", \"unknown_feature2\", \"unknown_feature3\"\n",
        "\n",
        "  except (json.JSONDecodeError, ValueError) as e:\n",
        "    print(f\"Error processing generated text for '{classname}': {e}\")\n",
        "    return \"unknown_feature1\", \"unknown_feature2\", \"unknown_feature3\"\n",
        "\n",
        "\n",
        "def get_random_attributes():\n",
        "    prompt = (f\"Please generate three random words describing an object. \"\n",
        "        \"Each attribute should be a single word or a very short phrase (max 3 words). \"\n",
        "        \"Provide the answer in strict JSON format with keys \\\"feature1\\\", \\\"feature2\\\", and \\\"feature3\\\", \"\n",
        "        \"where the values are actual descriptions (for example, \\\"brown\\\", \\\"round\\\", or \\\"metallic\\\"). \"\n",
        "        \"Do not include any additional text.\"\n",
        "    )\n",
        "\n",
        "    inputs = tokenizer(prompt, return_tensors=\"pt\").to(model_llm.device)\n",
        "    outputs = model_llm.generate(**inputs, max_new_tokens=200, do_sample=True, temperature=0.7, top_k=20)\n",
        "\n",
        "    generated_text = tokenizer.decode(outputs[0], skip_special_tokens=True)\n",
        "\n",
        "    try:\n",
        "        # Extract attributes from the generated text\n",
        "        json_match = re.search(r'\\{.*\\}', generated_text, re.DOTALL)\n",
        "        if json_match:\n",
        "            json_text = json_match.group(0)\n",
        "            attributes = json.loads(json_text)\n",
        "            if \"feature1\" in attributes and \"feature2\" in attributes and \"feature3\" in attributes:\n",
        "                return attributes[\"feature1\"], attributes[\"feature2\"], attributes[\"feature3\"]\n",
        "            else:\n",
        "                raise ValueError(\"Missing JSON keys\")\n",
        "        else:\n",
        "            # Fallback if no JSON is found\n",
        "            parts = generated_text.split(',')\n",
        "            if len(parts) >= 3:\n",
        "                return parts[0].strip(), parts[1].strip(), parts[2].strip()\n",
        "\n",
        "        # Fallback in case of errors\n",
        "        print(f\"Using fallback for random\")\n",
        "        return \"unknown_feature1\", \"unknown_feature2\", \"unknown_feature3\"\n",
        "\n",
        "    except (json.JSONDecodeError, ValueError) as e:\n",
        "        print(f\"Error processing generated text for random: {e}\")\n",
        "        return \"unknown_feature1\", \"unknown_feature2\", \"unknown_feature3\"\n",
        "\n",
        "def get_random_attributes2(best_attribute):\n",
        "    prompt = (f\"Please generate three random words describing an object, other than '{best_attribute}', which is already chosen. \"\n",
        "        \"Each attribute should be a single word or a very short phrase (max 3 words). \"\n",
        "        \"Provide the answer in strict JSON format with keys \\\"feature1\\\", \\\"feature2\\\", and \\\"feature3\\\", \"\n",
        "        \"where the values are actual descriptions (for example, \\\"brown\\\", \\\"round\\\", or \\\"metallic\\\"). \"\n",
        "        \"Do not include any additional text.\"\n",
        "    )\n",
        "\n",
        "    inputs = tokenizer(prompt, return_tensors=\"pt\").to(model_llm.device)\n",
        "    outputs = model_llm.generate(**inputs, max_new_tokens=200, do_sample=True, temperature=0.7, top_k=20)\n",
        "\n",
        "    generated_text = tokenizer.decode(outputs[0], skip_special_tokens=True)\n",
        "\n",
        "    try:\n",
        "        # Extract attributes from the generated text\n",
        "        json_match = re.search(r'\\{.*\\}', generated_text, re.DOTALL)\n",
        "        if json_match:\n",
        "            json_text = json_match.group(0)\n",
        "            attributes = json.loads(json_text)\n",
        "            if \"feature1\" in attributes and \"feature2\" in attributes and \"feature3\" in attributes:\n",
        "                return attributes[\"feature1\"], attributes[\"feature2\"], attributes[\"feature3\"]\n",
        "            else:\n",
        "                raise ValueError(\"Missing JSON keys\")\n",
        "        else:\n",
        "            # Fallback if no JSON is found\n",
        "            parts = generated_text.split(',')\n",
        "            if len(parts) >= 3:\n",
        "                return parts[0].strip(), parts[1].strip(), parts[2].strip()\n",
        "\n",
        "        # Fallback in case of errors\n",
        "        print(f\"Using fallback for random\")\n",
        "        return \"unknown_feature1\", \"unknown_feature2\", \"unknown_feature3\"\n",
        "\n",
        "    except (json.JSONDecodeError, ValueError) as e:\n",
        "        print(f\"Error processing generated text for random: {e}\")\n",
        "        return \"unknown_feature1\", \"unknown_feature2\", \"unknown_feature3\"\n",
        "\n",
        "def get_random_attributes3(best_attribute, best_attribute2):\n",
        "    prompt = (f\"Please generate three random words describing an object, other than '{best_attribute}' and '{best_attribute2}', which are already chosen. \"\n",
        "        \"Each attribute should be a single word or a very short phrase (max 3 words). \"\n",
        "        \"Provide the answer in strict JSON format with keys \\\"feature1\\\", \\\"feature2\\\", and \\\"feature3\\\", \"\n",
        "        \"where the values are actual descriptions (for example, \\\"brown\\\", \\\"round\\\", or \\\"metallic\\\"). \"\n",
        "        \"Do not include any additional text.\"\n",
        "    )\n",
        "\n",
        "    inputs = tokenizer(prompt, return_tensors=\"pt\").to(model_llm.device)\n",
        "    outputs = model_llm.generate(**inputs, max_new_tokens=200, do_sample=True, temperature=0.7, top_k=20)\n",
        "\n",
        "    generated_text = tokenizer.decode(outputs[0], skip_special_tokens=True)\n",
        "\n",
        "    try:\n",
        "        # Extract attributes from the generated text\n",
        "        json_match = re.search(r'\\{.*\\}', generated_text, re.DOTALL)\n",
        "        if json_match:\n",
        "            json_text = json_match.group(0)\n",
        "            attributes = json.loads(json_text)\n",
        "            if \"feature1\" in attributes and \"feature2\" in attributes and \"feature3\" in attributes:\n",
        "                return attributes[\"feature1\"], attributes[\"feature2\"], attributes[\"feature3\"]\n",
        "            else:\n",
        "                raise ValueError(\"Missing JSON keys\")\n",
        "        else:\n",
        "            # Fallback if no JSON is found\n",
        "            parts = generated_text.split(',')\n",
        "            if len(parts) >= 3:\n",
        "                return parts[0].strip(), parts[1].strip(), parts[2].strip()\n",
        "\n",
        "        # Fallback in case of errors\n",
        "        print(f\"Using fallback for random\")\n",
        "        return \"unknown_feature1\", \"unknown_feature2\", \"unknown_feature3\"\n",
        "\n",
        "    except (json.JSONDecodeError, ValueError) as e:\n",
        "        print(f\"Error processing generated text for random: {e}\")\n",
        "        return \"unknown_feature1\", \"unknown_feature2\", \"unknown_feature3\""
      ],
      "metadata": {
        "id": "NCIoQuydU9T8"
      },
      "execution_count": null,
      "outputs": []
    },
    {
      "cell_type": "code",
      "source": [
        "print(get_random_attributes())\n",
        "print(get_random_attributes2('Red'))\n",
        "print(get_random_attributes3('Red', 'Round'))\n"
      ],
      "metadata": {
        "id": "2fMPss99JTyM"
      },
      "execution_count": null,
      "outputs": []
    },
    {
      "cell_type": "code",
      "source": [
        "# Exemple d'utilisation sur plusieurs classes\n",
        "classes = [\"apple\", \"aquarium_fish\", \"baby\", \"bear\", \"beaver\", \"bed\"]\n",
        "for cls in classes:\n",
        "    attrs = get_attributes(cls)\n",
        "    print(f\"{cls}: {attrs}\\n\")\n",
        "classes = [\"apple\", \"aquarium_fish\", \"baby\", \"bear\", \"beaver\", \"bed\"]\n",
        "print(get_random_attributes())"
      ],
      "metadata": {
        "id": "8_oovrhfU_W_"
      },
      "execution_count": null,
      "outputs": []
    },
    {
      "cell_type": "markdown",
      "source": [
        "### Classification"
      ],
      "metadata": {
        "id": "ZUkrUY9AXFl2"
      }
    },
    {
      "cell_type": "code",
      "source": [
        "def zeroshot_classifier_with_attributes(classnames, templates):\n",
        "  with torch.no_grad():\n",
        "    zeroshot_weights = []\n",
        "    for classname in tqdm.tqdm(classnames):\n",
        "      texts = templates[classname] #format with class\n",
        "      texts = clip.tokenize(texts).cuda() #tokenize\n",
        "      class_embeddings = model.encode_text(texts) #embed with text encoder\n",
        "      class_embeddings /= class_embeddings.norm(dim=-1, keepdim=True)\n",
        "      class_embedding = class_embeddings.mean(dim=0)\n",
        "      class_embedding /= class_embedding.norm()\n",
        "      zeroshot_weights.append(class_embedding)\n",
        "    zeroshot_weights = torch.stack(zeroshot_weights, dim=1).cuda()\n",
        "  return zeroshot_weights"
      ],
      "metadata": {
        "id": "-qC7VRUTiykR"
      },
      "execution_count": null,
      "outputs": []
    },
    {
      "cell_type": "code",
      "source": [
        "def accuracy(output, target, topk=(1,)):\n",
        "  pred = output.topk(max(topk), 1, True, True)[1].t()\n",
        "  correct = pred.eq(target.view(1, -1).expand_as(pred))\n",
        "  return [float(correct[:k].reshape(-1).float().sum(0, keepdim=True).cpu().numpy()) for k in topk]"
      ],
      "metadata": {
        "id": "pnT_IiDDjkKg"
      },
      "execution_count": null,
      "outputs": []
    },
    {
      "cell_type": "markdown",
      "source": [
        "#### pour 1 attribut"
      ],
      "metadata": {
        "id": "y_aheQytjrsu"
      }
    },
    {
      "cell_type": "code",
      "source": [
        "best_attributes = {}"
      ],
      "metadata": {
        "id": "ClIH680AJkMC"
      },
      "execution_count": null,
      "outputs": []
    },
    {
      "cell_type": "code",
      "source": [
        "def get_best_attribute(classe_idx, type='llm'):\n",
        "    classe_studied_idx = classe_idx\n",
        "    classe_studied = cifar10.classes[classe_studied_idx]\n",
        "\n",
        "    if type == 'llm':\n",
        "        attributes = get_attributes(classe_studied)\n",
        "        print('Class :' + classe_studied)\n",
        "        print(attributes)\n",
        "    else:\n",
        "        attributes = get_random_attributes()  # Get a single random attribute\n",
        "        print('Class :' + classe_studied)\n",
        "        print(attributes)\n",
        "\n",
        "    best_attribute1 = None\n",
        "    best_acc1 = 0\n",
        "\n",
        "    templates = {classe: f\"a photo of a {classe}\" for classe in cifar10.classes}\n",
        "\n",
        "    for attribute in attributes:\n",
        "        templates[classe_studied] = [f\"a photo of a {classe_studied} because of {attribute}\"]\n",
        "\n",
        "        zeroshot_weights = zeroshot_classifier_with_attributes(cifar10.classes, templates)\n",
        "\n",
        "        with torch.no_grad():\n",
        "            top1, top5, n = 0., 0., 0.\n",
        "            for i, (images, target) in enumerate(tqdm.tqdm(data_loader)):\n",
        "                if target == classe_studied_idx:\n",
        "                    images = images.cuda()\n",
        "                    target = target.cuda()\n",
        "\n",
        "                    # predict\n",
        "                    image_features = model.encode_image(images)\n",
        "                    image_features /= image_features.norm(dim=-1, keepdim=True)\n",
        "\n",
        "                    # measure accuracy\n",
        "                    logits = 100. * image_features @ zeroshot_weights\n",
        "                    acc1, acc5 = accuracy(logits, target, topk=(1, 5))\n",
        "                    top1 += acc1\n",
        "                    top5 += acc5\n",
        "\n",
        "                    n += images.size(0)\n",
        "\n",
        "        top1 = (top1 / n) * 100\n",
        "        top5 = (top5 / n) * 100\n",
        "\n",
        "        print()\n",
        "        print(f\"Top-1 accuracy for {classe_studied}: {top1:.2f}\")\n",
        "\n",
        "        if top1 > best_acc1:\n",
        "            best_acc1 = top1\n",
        "            best_attribute1 = attribute\n",
        "\n",
        "    return best_attribute1"
      ],
      "metadata": {
        "id": "dycPxFheIYG4"
      },
      "execution_count": null,
      "outputs": []
    },
    {
      "cell_type": "code",
      "source": [
        "# Let's create the best templates :\n",
        "import tqdm\n",
        "\n",
        "for i in range(10):\n",
        "  best_attributes[cifar10.classes[i]] = get_best_attribute(i, type='llm')\n",
        "  print(f'{cifar10.classes[i]} best attribute : {best_attributes[cifar10.classes[i]]}')\n",
        "\n",
        "best_templates = {}\n",
        "\n",
        "for classe in cifar10.classes:\n",
        "  best_templates[classe] = [f\"a photo of a {classe} because of {best_attributes[classe]}\"]"
      ],
      "metadata": {
        "colab": {
          "base_uri": "https://localhost:8080/"
        },
        "id": "kUbxafeTZMNc",
        "outputId": "1082d6c7-e985-404f-9b43-3d9ff6cb0890"
      },
      "execution_count": null,
      "outputs": [
        {
          "output_type": "stream",
          "name": "stderr",
          "text": [
            "Setting `pad_token_id` to `eos_token_id`:2 for open-end generation.\n"
          ]
        },
        {
          "output_type": "stream",
          "name": "stdout",
          "text": [
            "Class :airplane\n",
            "('winged', 'long', 'streamlined')\n"
          ]
        },
        {
          "output_type": "stream",
          "name": "stderr",
          "text": [
            "100%|██████████| 10/10 [00:00<00:00, 106.81it/s]\n",
            "  0%|          | 0/10000 [00:00<?, ?it/s]<ipython-input-27-07f05e45ae7b>:4: DeprecationWarning: Conversion of an array with ndim > 0 to a scalar is deprecated, and will error in future. Ensure you extract a single element from your array before performing this operation. (Deprecated NumPy 1.25.)\n",
            "  return [float(correct[:k].reshape(-1).float().sum(0, keepdim=True).cpu().numpy()) for k in topk]\n",
            "100%|██████████| 10000/10000 [00:26<00:00, 375.96it/s]\n"
          ]
        },
        {
          "output_type": "stream",
          "name": "stdout",
          "text": [
            "\n",
            "Top-1 accuracy for airplane: 91.70\n"
          ]
        },
        {
          "output_type": "stream",
          "name": "stderr",
          "text": [
            "100%|██████████| 10/10 [00:00<00:00, 102.14it/s]\n",
            "100%|██████████| 10000/10000 [00:26<00:00, 379.40it/s]\n"
          ]
        },
        {
          "output_type": "stream",
          "name": "stdout",
          "text": [
            "\n",
            "Top-1 accuracy for airplane: 94.40\n"
          ]
        },
        {
          "output_type": "stream",
          "name": "stderr",
          "text": [
            "100%|██████████| 10/10 [00:00<00:00, 91.75it/s]\n",
            "100%|██████████| 10000/10000 [00:27<00:00, 363.06it/s]\n",
            "Setting `pad_token_id` to `eos_token_id`:2 for open-end generation.\n"
          ]
        },
        {
          "output_type": "stream",
          "name": "stdout",
          "text": [
            "\n",
            "Top-1 accuracy for airplane: 82.10\n",
            "airplane best attribute : long\n",
            "Class :automobile\n",
            "('four-door', 'red-color', 'tinted-windows')\n"
          ]
        },
        {
          "output_type": "stream",
          "name": "stderr",
          "text": [
            "100%|██████████| 10/10 [00:00<00:00, 108.59it/s]\n",
            "100%|██████████| 10000/10000 [00:27<00:00, 357.85it/s]\n"
          ]
        },
        {
          "output_type": "stream",
          "name": "stdout",
          "text": [
            "\n",
            "Top-1 accuracy for automobile: 96.20\n"
          ]
        },
        {
          "output_type": "stream",
          "name": "stderr",
          "text": [
            "100%|██████████| 10/10 [00:00<00:00, 74.28it/s]\n",
            "100%|██████████| 10000/10000 [00:29<00:00, 342.26it/s]\n"
          ]
        },
        {
          "output_type": "stream",
          "name": "stdout",
          "text": [
            "\n",
            "Top-1 accuracy for automobile: 92.70\n"
          ]
        },
        {
          "output_type": "stream",
          "name": "stderr",
          "text": [
            "100%|██████████| 10/10 [00:00<00:00, 103.09it/s]\n",
            "100%|██████████| 10000/10000 [00:26<00:00, 376.49it/s]\n",
            "Setting `pad_token_id` to `eos_token_id`:2 for open-end generation.\n"
          ]
        },
        {
          "output_type": "stream",
          "name": "stdout",
          "text": [
            "\n",
            "Top-1 accuracy for automobile: 95.00\n",
            "automobile best attribute : four-door\n",
            "Class :bird\n",
            "('feather color', 'beak shape', 'tail shape')\n"
          ]
        },
        {
          "output_type": "stream",
          "name": "stderr",
          "text": [
            "100%|██████████| 10/10 [00:00<00:00, 100.04it/s]\n",
            "100%|██████████| 10000/10000 [00:26<00:00, 372.16it/s]\n"
          ]
        },
        {
          "output_type": "stream",
          "name": "stdout",
          "text": [
            "\n",
            "Top-1 accuracy for bird: 89.60\n"
          ]
        },
        {
          "output_type": "stream",
          "name": "stderr",
          "text": [
            "100%|██████████| 10/10 [00:00<00:00, 100.62it/s]\n",
            "100%|██████████| 10000/10000 [00:26<00:00, 378.14it/s]\n"
          ]
        },
        {
          "output_type": "stream",
          "name": "stdout",
          "text": [
            "\n",
            "Top-1 accuracy for bird: 95.50\n"
          ]
        },
        {
          "output_type": "stream",
          "name": "stderr",
          "text": [
            "100%|██████████| 10/10 [00:00<00:00, 101.17it/s]\n",
            "100%|██████████| 10000/10000 [00:26<00:00, 374.77it/s]\n",
            "Setting `pad_token_id` to `eos_token_id`:2 for open-end generation.\n"
          ]
        },
        {
          "output_type": "stream",
          "name": "stdout",
          "text": [
            "\n",
            "Top-1 accuracy for bird: 90.30\n",
            "bird best attribute : beak shape\n",
            "Class :cat\n",
            "('fur_color', 'eye_color', 'whiskers_length')\n"
          ]
        },
        {
          "output_type": "stream",
          "name": "stderr",
          "text": [
            "100%|██████████| 10/10 [00:00<00:00, 109.89it/s]\n",
            "100%|██████████| 10000/10000 [00:26<00:00, 371.20it/s]\n"
          ]
        },
        {
          "output_type": "stream",
          "name": "stdout",
          "text": [
            "\n",
            "Top-1 accuracy for cat: 96.70\n"
          ]
        },
        {
          "output_type": "stream",
          "name": "stderr",
          "text": [
            "100%|██████████| 10/10 [00:00<00:00, 104.82it/s]\n",
            "100%|██████████| 10000/10000 [00:27<00:00, 366.41it/s]\n"
          ]
        },
        {
          "output_type": "stream",
          "name": "stdout",
          "text": [
            "\n",
            "Top-1 accuracy for cat: 91.30\n"
          ]
        },
        {
          "output_type": "stream",
          "name": "stderr",
          "text": [
            "100%|██████████| 10/10 [00:00<00:00, 92.63it/s]\n",
            "100%|██████████| 10000/10000 [00:26<00:00, 371.09it/s]\n",
            "Setting `pad_token_id` to `eos_token_id`:2 for open-end generation.\n"
          ]
        },
        {
          "output_type": "stream",
          "name": "stdout",
          "text": [
            "\n",
            "Top-1 accuracy for cat: 91.20\n",
            "cat best attribute : fur_color\n",
            "Class :deer\n",
            "('spotted coat', 'large ears', 'long tail')\n"
          ]
        },
        {
          "output_type": "stream",
          "name": "stderr",
          "text": [
            "100%|██████████| 10/10 [00:00<00:00, 104.27it/s]\n",
            "100%|██████████| 10000/10000 [00:26<00:00, 371.59it/s]\n"
          ]
        },
        {
          "output_type": "stream",
          "name": "stdout",
          "text": [
            "\n",
            "Top-1 accuracy for deer: 53.70\n"
          ]
        },
        {
          "output_type": "stream",
          "name": "stderr",
          "text": [
            "100%|██████████| 10/10 [00:00<00:00, 98.99it/s]\n",
            "100%|██████████| 10000/10000 [00:28<00:00, 356.39it/s]\n"
          ]
        },
        {
          "output_type": "stream",
          "name": "stdout",
          "text": [
            "\n",
            "Top-1 accuracy for deer: 71.40\n"
          ]
        },
        {
          "output_type": "stream",
          "name": "stderr",
          "text": [
            "100%|██████████| 10/10 [00:00<00:00, 104.41it/s]\n",
            "100%|██████████| 10000/10000 [00:26<00:00, 371.78it/s]\n",
            "Setting `pad_token_id` to `eos_token_id`:2 for open-end generation.\n"
          ]
        },
        {
          "output_type": "stream",
          "name": "stdout",
          "text": [
            "\n",
            "Top-1 accuracy for deer: 91.60\n",
            "deer best attribute : long tail\n",
            "Class :dog\n",
            "('fur_color', 'eye_color', 'ear_shape')\n"
          ]
        },
        {
          "output_type": "stream",
          "name": "stderr",
          "text": [
            "100%|██████████| 10/10 [00:00<00:00, 78.78it/s]\n",
            "100%|██████████| 10000/10000 [00:26<00:00, 370.56it/s]\n"
          ]
        },
        {
          "output_type": "stream",
          "name": "stdout",
          "text": [
            "\n",
            "Top-1 accuracy for dog: 94.80\n"
          ]
        },
        {
          "output_type": "stream",
          "name": "stderr",
          "text": [
            "100%|██████████| 10/10 [00:00<00:00, 79.33it/s]\n",
            "100%|██████████| 10000/10000 [00:26<00:00, 373.14it/s]\n"
          ]
        },
        {
          "output_type": "stream",
          "name": "stdout",
          "text": [
            "\n",
            "Top-1 accuracy for dog: 80.80\n"
          ]
        },
        {
          "output_type": "stream",
          "name": "stderr",
          "text": [
            "100%|██████████| 10/10 [00:00<00:00, 61.40it/s]\n",
            "100%|██████████| 10000/10000 [00:26<00:00, 373.31it/s]\n",
            "Setting `pad_token_id` to `eos_token_id`:2 for open-end generation.\n"
          ]
        },
        {
          "output_type": "stream",
          "name": "stdout",
          "text": [
            "\n",
            "Top-1 accuracy for dog: 88.30\n",
            "dog best attribute : fur_color\n",
            "Class :frog\n",
            "('green', 'pointy', 'webbed feet')\n"
          ]
        },
        {
          "output_type": "stream",
          "name": "stderr",
          "text": [
            "100%|██████████| 10/10 [00:00<00:00, 103.22it/s]\n",
            "100%|██████████| 10000/10000 [00:26<00:00, 378.12it/s]\n"
          ]
        },
        {
          "output_type": "stream",
          "name": "stdout",
          "text": [
            "\n",
            "Top-1 accuracy for frog: 28.60\n"
          ]
        },
        {
          "output_type": "stream",
          "name": "stderr",
          "text": [
            "100%|██████████| 10/10 [00:00<00:00, 98.74it/s]\n",
            "100%|██████████| 10000/10000 [00:26<00:00, 378.28it/s]\n"
          ]
        },
        {
          "output_type": "stream",
          "name": "stdout",
          "text": [
            "\n",
            "Top-1 accuracy for frog: 50.40\n"
          ]
        },
        {
          "output_type": "stream",
          "name": "stderr",
          "text": [
            "100%|██████████| 10/10 [00:00<00:00, 106.64it/s]\n",
            "100%|██████████| 10000/10000 [00:26<00:00, 375.23it/s]\n",
            "Setting `pad_token_id` to `eos_token_id`:2 for open-end generation.\n"
          ]
        },
        {
          "output_type": "stream",
          "name": "stdout",
          "text": [
            "\n",
            "Top-1 accuracy for frog: 76.20\n",
            "frog best attribute : webbed feet\n",
            "Class :horse\n",
            "('coat_color', 'mane_length', 'eye_color')\n"
          ]
        },
        {
          "output_type": "stream",
          "name": "stderr",
          "text": [
            "100%|██████████| 10/10 [00:00<00:00, 105.97it/s]\n",
            "100%|██████████| 10000/10000 [00:27<00:00, 360.03it/s]\n"
          ]
        },
        {
          "output_type": "stream",
          "name": "stdout",
          "text": [
            "\n",
            "Top-1 accuracy for horse: 96.40\n"
          ]
        },
        {
          "output_type": "stream",
          "name": "stderr",
          "text": [
            "100%|██████████| 10/10 [00:00<00:00, 104.71it/s]\n",
            "100%|██████████| 10000/10000 [00:26<00:00, 377.03it/s]\n"
          ]
        },
        {
          "output_type": "stream",
          "name": "stdout",
          "text": [
            "\n",
            "Top-1 accuracy for horse: 95.70\n"
          ]
        },
        {
          "output_type": "stream",
          "name": "stderr",
          "text": [
            "100%|██████████| 10/10 [00:00<00:00, 104.32it/s]\n",
            "100%|██████████| 10000/10000 [00:26<00:00, 376.44it/s]\n",
            "Setting `pad_token_id` to `eos_token_id`:2 for open-end generation.\n"
          ]
        },
        {
          "output_type": "stream",
          "name": "stdout",
          "text": [
            "\n",
            "Top-1 accuracy for horse: 91.60\n",
            "horse best attribute : coat_color\n",
            "Class :ship\n",
            "('Horizontal stripes', 'Tall mast', 'Large sails')\n"
          ]
        },
        {
          "output_type": "stream",
          "name": "stderr",
          "text": [
            "100%|██████████| 10/10 [00:00<00:00, 105.34it/s]\n",
            "100%|██████████| 10000/10000 [00:26<00:00, 373.01it/s]\n"
          ]
        },
        {
          "output_type": "stream",
          "name": "stdout",
          "text": [
            "\n",
            "Top-1 accuracy for ship: 93.00\n"
          ]
        },
        {
          "output_type": "stream",
          "name": "stderr",
          "text": [
            "100%|██████████| 10/10 [00:00<00:00, 66.32it/s]\n",
            "100%|██████████| 10000/10000 [00:27<00:00, 369.46it/s]\n"
          ]
        },
        {
          "output_type": "stream",
          "name": "stdout",
          "text": [
            "\n",
            "Top-1 accuracy for ship: 60.70\n"
          ]
        },
        {
          "output_type": "stream",
          "name": "stderr",
          "text": [
            "100%|██████████| 10/10 [00:00<00:00, 83.70it/s]\n",
            "100%|██████████| 10000/10000 [00:26<00:00, 373.50it/s]\n",
            "Setting `pad_token_id` to `eos_token_id`:2 for open-end generation.\n"
          ]
        },
        {
          "output_type": "stream",
          "name": "stdout",
          "text": [
            "\n",
            "Top-1 accuracy for ship: 77.70\n",
            "ship best attribute : Horizontal stripes\n",
            "Class :truck\n",
            "('Rectangular shape', 'Large size', 'Wheels')\n"
          ]
        },
        {
          "output_type": "stream",
          "name": "stderr",
          "text": [
            "100%|██████████| 10/10 [00:00<00:00, 95.43it/s]\n",
            "100%|██████████| 10000/10000 [00:26<00:00, 377.54it/s]\n"
          ]
        },
        {
          "output_type": "stream",
          "name": "stdout",
          "text": [
            "\n",
            "Top-1 accuracy for truck: 95.20\n"
          ]
        },
        {
          "output_type": "stream",
          "name": "stderr",
          "text": [
            "100%|██████████| 10/10 [00:00<00:00, 88.72it/s]\n",
            "100%|██████████| 10000/10000 [00:26<00:00, 375.66it/s]\n"
          ]
        },
        {
          "output_type": "stream",
          "name": "stdout",
          "text": [
            "\n",
            "Top-1 accuracy for truck: 68.70\n"
          ]
        },
        {
          "output_type": "stream",
          "name": "stderr",
          "text": [
            "100%|██████████| 10/10 [00:00<00:00, 100.15it/s]\n",
            "100%|██████████| 10000/10000 [00:26<00:00, 376.91it/s]"
          ]
        },
        {
          "output_type": "stream",
          "name": "stdout",
          "text": [
            "\n",
            "Top-1 accuracy for truck: 12.70\n",
            "truck best attribute : Rectangular shape\n"
          ]
        },
        {
          "output_type": "stream",
          "name": "stderr",
          "text": [
            "\n"
          ]
        }
      ]
    },
    {
      "cell_type": "code",
      "source": [
        "zeroshot_weights = zeroshot_classifier_with_attributes(cifar10.classes, best_templates)\n",
        "\n",
        "with torch.no_grad():\n",
        "  top1, top5, n = 0., 0., 0.\n",
        "  for i, (images, target) in enumerate(tqdm.tqdm(data_loader)):\n",
        "    images = images.cuda()\n",
        "    target = target.cuda()\n",
        "\n",
        "    # predict\n",
        "    image_features = model.encode_image(images)\n",
        "    image_features /= image_features.norm(dim=-1, keepdim=True)\n",
        "\n",
        "    # measure accuracy\n",
        "    logits = 100. * image_features @ zeroshot_weights\n",
        "    acc1, acc5 = accuracy(logits, target, topk=(1, 5))\n",
        "    top1 += acc1\n",
        "    top5 += acc5\n",
        "\n",
        "    n += images.size(0)\n",
        "\n",
        "top1 = (top1 / n) * 100\n",
        "top5 = (top5 / n) * 100\n",
        "\n",
        "print()\n",
        "print(f\"Top-1 accuracy: {top1:.2f}\")\n",
        "print(f\"Top-5 accuracy: {top5:.2f}\")"
      ],
      "metadata": {
        "colab": {
          "base_uri": "https://localhost:8080/"
        },
        "id": "LgmH49gNKvf7",
        "outputId": "d22fba04-cd76-4f6c-f418-646547d341b3"
      },
      "execution_count": null,
      "outputs": [
        {
          "output_type": "stream",
          "name": "stderr",
          "text": [
            "100%|██████████| 10/10 [00:00<00:00, 106.71it/s]\n",
            "  0%|          | 0/10000 [00:00<?, ?it/s]<ipython-input-27-07f05e45ae7b>:4: DeprecationWarning: Conversion of an array with ndim > 0 to a scalar is deprecated, and will error in future. Ensure you extract a single element from your array before performing this operation. (Deprecated NumPy 1.25.)\n",
            "  return [float(correct[:k].reshape(-1).float().sum(0, keepdim=True).cpu().numpy()) for k in topk]\n",
            "100%|██████████| 10000/10000 [01:56<00:00, 85.92it/s]"
          ]
        },
        {
          "output_type": "stream",
          "name": "stdout",
          "text": [
            "\n",
            "Top-1 accuracy: 72.91\n",
            "Top-5 accuracy: 97.93\n"
          ]
        },
        {
          "output_type": "stream",
          "name": "stderr",
          "text": [
            "\n"
          ]
        }
      ]
    },
    {
      "cell_type": "code",
      "source": [
        "from google.colab import drive\n",
        "import json\n",
        "import os\n",
        "\n",
        "# Mount Google Drive\n",
        "drive.mount('/content/drive')\n",
        "\n",
        "if top1 >= 72.90:\n",
        "  # Create the directory if it doesn't exist\n",
        "  save_directory = '/content/drive/MyDrive/TRIED/ProjetLong'\n",
        "  os.makedirs(save_directory, exist_ok=True)\n",
        "\n",
        "  # Save best_attributes as a JSON file in the specified directory\n",
        "  save_path = os.path.join(save_directory, 'best_attributes.json')\n",
        "  with open(save_path, 'w') as f:\n",
        "      json.dump(best_attributes, f)\n",
        "\n",
        "  print(f\"best_attributes saved to {save_path}\")\n"
      ],
      "metadata": {
        "colab": {
          "base_uri": "https://localhost:8080/"
        },
        "id": "D2JjRtWXE75P",
        "outputId": "70663798-f7cb-4b7d-b381-97d4ac534e91"
      },
      "execution_count": null,
      "outputs": [
        {
          "output_type": "stream",
          "name": "stdout",
          "text": [
            "Drive already mounted at /content/drive; to attempt to forcibly remount, call drive.mount(\"/content/drive\", force_remount=True).\n",
            "best_attributes saved to /content/drive/MyDrive/TRIED/ProjetLong/best_attributes.json\n"
          ]
        }
      ]
    },
    {
      "cell_type": "markdown",
      "source": [
        "#### Pour 2 attributs"
      ],
      "metadata": {
        "id": "acCU-ZeBgSJt"
      }
    },
    {
      "cell_type": "code",
      "source": [
        "from google.colab import drive\n",
        "import json\n",
        "import os\n",
        "\n",
        "# Mount Google Drive\n",
        "drive.mount('/content/drive')\n",
        "\n",
        "# Load best_attributes from JSON file\n",
        "file_path = '/content/drive/MyDrive/TRIED/ProjetLong/best_attributes.json'\n",
        "with open(file_path, 'r') as f:\n",
        "    best_attributes = json.load(f)\n",
        "\n",
        "best_attributes\n"
      ],
      "metadata": {
        "colab": {
          "base_uri": "https://localhost:8080/"
        },
        "id": "oz_zzcfXrKWn",
        "outputId": "e57c7f86-c1e7-48ce-a358-c95b56a5c53a"
      },
      "execution_count": null,
      "outputs": [
        {
          "output_type": "stream",
          "name": "stdout",
          "text": [
            "Mounted at /content/drive\n"
          ]
        },
        {
          "output_type": "execute_result",
          "data": {
            "text/plain": [
              "{'airplane': 'long',\n",
              " 'automobile': 'four-door',\n",
              " 'bird': 'beak shape',\n",
              " 'cat': 'fur_color',\n",
              " 'deer': 'long tail',\n",
              " 'dog': 'fur_color',\n",
              " 'frog': 'webbed feet',\n",
              " 'horse': 'coat_color',\n",
              " 'ship': 'Horizontal stripes',\n",
              " 'truck': 'Rectangular shape'}"
            ]
          },
          "metadata": {},
          "execution_count": 26
        }
      ]
    },
    {
      "cell_type": "code",
      "source": [
        "def get_best_attribute2(classe_idx, type='llm'):\n",
        "    classe_studied = cifar10.classes[classe_idx]\n",
        "\n",
        "    if type == 'llm':\n",
        "        best_attribute = best_attributes[classe_studied]\n",
        "        attributes = get_attributes2(classe_studied, best_attribute)\n",
        "    else:\n",
        "        raise ValueError(\"Invalid type argument. Choose 'llm' or 'random'.\")\n",
        "\n",
        "    print('Class :' + classe_studied)\n",
        "    print(attributes)\n",
        "\n",
        "    best_attribute2 = None\n",
        "    best_acc2 = 0\n",
        "\n",
        "    templates = {classe: f\"a photo of a {classe}\" for classe in cifar10.classes}\n",
        "\n",
        "\n",
        "    for attribute in attributes:\n",
        "        if type == 'llm':\n",
        "            templates[classe_studied] = [f\"a photo of a {classe_studied} because of {best_attribute} and {attribute}\"]\n",
        "\n",
        "\n",
        "\n",
        "        zeroshot_weights = zeroshot_classifier_with_attributes(cifar10.classes, templates)\n",
        "\n",
        "        with torch.no_grad():\n",
        "            top1, top5, n = 0., 0., 0.\n",
        "            for i, (images, target) in enumerate(tqdm.tqdm(data_loader)):\n",
        "                if target == classe_idx:\n",
        "                    images = images.cuda()\n",
        "                    target = target.cuda()\n",
        "\n",
        "                    # predict\n",
        "                    image_features = model.encode_image(images)\n",
        "                    image_features /= image_features.norm(dim=-1, keepdim=True)\n",
        "\n",
        "                    # measure accuracy\n",
        "                    logits = 100. * image_features @ zeroshot_weights\n",
        "                    acc1, acc5 = accuracy(logits, target, topk=(1, 5))\n",
        "                    top1 += acc1\n",
        "                    top5 += acc5\n",
        "\n",
        "                    n += images.size(0)\n",
        "\n",
        "            top1 = (top1 / n) * 100\n",
        "            top5 = (top5 / n) * 100\n",
        "\n",
        "        print()\n",
        "        print(f\"Top-1 accuracy for {classe_studied}: {top1:.2f}\")\n",
        "\n",
        "        if top1 > best_acc2:\n",
        "            best_acc2 = top1\n",
        "            best_attribute2 = attribute  #best_attribute2 est le deuxième attribut dans ce cas\n",
        "\n",
        "\n",
        "    return best_attribute2 # on renvoie best_attribute2, qui sera attribute dans le cas random"
      ],
      "metadata": {
        "id": "YLRl4Itmg_9W"
      },
      "execution_count": null,
      "outputs": []
    },
    {
      "cell_type": "code",
      "source": [
        "import tqdm\n",
        "\n",
        "best_attributes2 = {}\n",
        "for i in range(10):\n",
        "  best_attributes2[cifar10.classes[i]] = get_best_attribute2(i, type=\"llm\")\n",
        "  print(f'{cifar10.classes[i]} best attribute 2: {best_attributes2[cifar10.classes[i]]}')\n",
        "\n",
        "best_templates2 = {}\n",
        "for classe in cifar10.classes:\n",
        "  best_templates2[classe] = [f\"a photo of a {classe} because of {best_attributes[classe]} and {best_attributes2[classe]}\"]"
      ],
      "metadata": {
        "colab": {
          "base_uri": "https://localhost:8080/"
        },
        "id": "5sidQS34reLd",
        "outputId": "457784ba-da4c-4e4d-8bb8-a4f3a53b5e9d"
      },
      "execution_count": null,
      "outputs": [
        {
          "output_type": "stream",
          "name": "stderr",
          "text": [
            "Setting `pad_token_id` to `eos_token_id`:2 for open-end generation.\n"
          ]
        },
        {
          "output_type": "stream",
          "name": "stdout",
          "text": [
            "Class :airplane\n",
            "('winged', 'multi-engine', 'tail-finned')\n"
          ]
        },
        {
          "output_type": "stream",
          "name": "stderr",
          "text": [
            "100%|██████████| 10/10 [00:00<00:00, 45.36it/s]\n",
            "  0%|          | 0/10000 [00:00<?, ?it/s]<ipython-input-21-07f05e45ae7b>:4: DeprecationWarning: Conversion of an array with ndim > 0 to a scalar is deprecated, and will error in future. Ensure you extract a single element from your array before performing this operation. (Deprecated NumPy 1.25.)\n",
            "  return [float(correct[:k].reshape(-1).float().sum(0, keepdim=True).cpu().numpy()) for k in topk]\n",
            "100%|██████████| 10000/10000 [00:27<00:00, 370.23it/s]\n"
          ]
        },
        {
          "output_type": "stream",
          "name": "stdout",
          "text": [
            "\n",
            "Top-1 accuracy for airplane: 93.90\n"
          ]
        },
        {
          "output_type": "stream",
          "name": "stderr",
          "text": [
            "100%|██████████| 10/10 [00:00<00:00, 109.24it/s]\n",
            "100%|██████████| 10000/10000 [00:26<00:00, 374.16it/s]\n"
          ]
        },
        {
          "output_type": "stream",
          "name": "stdout",
          "text": [
            "\n",
            "Top-1 accuracy for airplane: 93.40\n"
          ]
        },
        {
          "output_type": "stream",
          "name": "stderr",
          "text": [
            "100%|██████████| 10/10 [00:00<00:00, 93.71it/s]\n",
            "100%|██████████| 10000/10000 [00:27<00:00, 367.38it/s]\n",
            "Setting `pad_token_id` to `eos_token_id`:2 for open-end generation.\n"
          ]
        },
        {
          "output_type": "stream",
          "name": "stdout",
          "text": [
            "\n",
            "Top-1 accuracy for airplane: 96.80\n",
            "airplane best attribute 2: tail-finned\n",
            "Class :automobile\n",
            "('red color', 'sporty design', 'tinted windows')\n"
          ]
        },
        {
          "output_type": "stream",
          "name": "stderr",
          "text": [
            "100%|██████████| 10/10 [00:00<00:00, 105.22it/s]\n",
            "100%|██████████| 10000/10000 [00:28<00:00, 356.44it/s]\n"
          ]
        },
        {
          "output_type": "stream",
          "name": "stdout",
          "text": [
            "\n",
            "Top-1 accuracy for automobile: 90.80\n"
          ]
        },
        {
          "output_type": "stream",
          "name": "stderr",
          "text": [
            "100%|██████████| 10/10 [00:00<00:00, 81.06it/s]\n",
            "100%|██████████| 10000/10000 [00:28<00:00, 356.58it/s]\n"
          ]
        },
        {
          "output_type": "stream",
          "name": "stdout",
          "text": [
            "\n",
            "Top-1 accuracy for automobile: 96.40\n"
          ]
        },
        {
          "output_type": "stream",
          "name": "stderr",
          "text": [
            "100%|██████████| 10/10 [00:00<00:00, 106.32it/s]\n",
            "100%|██████████| 10000/10000 [00:26<00:00, 374.26it/s]\n",
            "Setting `pad_token_id` to `eos_token_id`:2 for open-end generation.\n"
          ]
        },
        {
          "output_type": "stream",
          "name": "stdout",
          "text": [
            "\n",
            "Top-1 accuracy for automobile: 95.60\n",
            "automobile best attribute 2: sporty design\n",
            "Class :bird\n",
            "('wing color', 'tail length', 'leg color')\n"
          ]
        },
        {
          "output_type": "stream",
          "name": "stderr",
          "text": [
            "100%|██████████| 10/10 [00:00<00:00, 108.82it/s]\n",
            "100%|██████████| 10000/10000 [00:27<00:00, 370.00it/s]\n"
          ]
        },
        {
          "output_type": "stream",
          "name": "stdout",
          "text": [
            "\n",
            "Top-1 accuracy for bird: 93.00\n"
          ]
        },
        {
          "output_type": "stream",
          "name": "stderr",
          "text": [
            "100%|██████████| 10/10 [00:00<00:00, 104.18it/s]\n",
            "100%|██████████| 10000/10000 [00:27<00:00, 364.12it/s]\n"
          ]
        },
        {
          "output_type": "stream",
          "name": "stdout",
          "text": [
            "\n",
            "Top-1 accuracy for bird: 96.80\n"
          ]
        },
        {
          "output_type": "stream",
          "name": "stderr",
          "text": [
            "100%|██████████| 10/10 [00:00<00:00, 107.18it/s]\n",
            "100%|██████████| 10000/10000 [00:26<00:00, 379.48it/s]\n",
            "Setting `pad_token_id` to `eos_token_id`:2 for open-end generation.\n"
          ]
        },
        {
          "output_type": "stream",
          "name": "stdout",
          "text": [
            "\n",
            "Top-1 accuracy for bird: 91.20\n",
            "bird best attribute 2: tail length\n",
            "Class :cat\n",
            "('whiskers_length', 'ear_size', 'eye_color')\n"
          ]
        },
        {
          "output_type": "stream",
          "name": "stderr",
          "text": [
            "100%|██████████| 10/10 [00:00<00:00, 112.13it/s]\n",
            "100%|██████████| 10000/10000 [00:26<00:00, 379.38it/s]\n"
          ]
        },
        {
          "output_type": "stream",
          "name": "stdout",
          "text": [
            "\n",
            "Top-1 accuracy for cat: 97.60\n"
          ]
        },
        {
          "output_type": "stream",
          "name": "stderr",
          "text": [
            "100%|██████████| 10/10 [00:00<00:00, 106.91it/s]\n",
            "100%|██████████| 10000/10000 [00:26<00:00, 377.73it/s]\n"
          ]
        },
        {
          "output_type": "stream",
          "name": "stdout",
          "text": [
            "\n",
            "Top-1 accuracy for cat: 95.40\n"
          ]
        },
        {
          "output_type": "stream",
          "name": "stderr",
          "text": [
            "100%|██████████| 10/10 [00:00<00:00, 106.32it/s]\n",
            "100%|██████████| 10000/10000 [00:26<00:00, 372.64it/s]\n",
            "Setting `pad_token_id` to `eos_token_id`:2 for open-end generation.\n"
          ]
        },
        {
          "output_type": "stream",
          "name": "stdout",
          "text": [
            "\n",
            "Top-1 accuracy for cat: 92.50\n",
            "cat best attribute 2: whiskers_length\n",
            "Class :deer\n",
            "('spotted coat', 'large ears', 'white underbelly')\n"
          ]
        },
        {
          "output_type": "stream",
          "name": "stderr",
          "text": [
            "100%|██████████| 10/10 [00:00<00:00, 81.16it/s]\n",
            "100%|██████████| 10000/10000 [00:27<00:00, 366.09it/s]\n"
          ]
        },
        {
          "output_type": "stream",
          "name": "stdout",
          "text": [
            "\n",
            "Top-1 accuracy for deer: 84.20\n"
          ]
        },
        {
          "output_type": "stream",
          "name": "stderr",
          "text": [
            "100%|██████████| 10/10 [00:00<00:00, 83.27it/s]\n",
            "100%|██████████| 10000/10000 [00:26<00:00, 372.62it/s]\n"
          ]
        },
        {
          "output_type": "stream",
          "name": "stdout",
          "text": [
            "\n",
            "Top-1 accuracy for deer: 91.10\n"
          ]
        },
        {
          "output_type": "stream",
          "name": "stderr",
          "text": [
            "100%|██████████| 10/10 [00:00<00:00, 82.31it/s]\n",
            "100%|██████████| 10000/10000 [00:27<00:00, 367.67it/s]\n",
            "Setting `pad_token_id` to `eos_token_id`:2 for open-end generation.\n"
          ]
        },
        {
          "output_type": "stream",
          "name": "stdout",
          "text": [
            "\n",
            "Top-1 accuracy for deer: 89.10\n",
            "deer best attribute 2: large ears\n",
            "Class :dog\n",
            "('eye_color', 'ear_shape', 'tail_curl')\n"
          ]
        },
        {
          "output_type": "stream",
          "name": "stderr",
          "text": [
            "100%|██████████| 10/10 [00:00<00:00, 108.76it/s]\n",
            "100%|██████████| 10000/10000 [00:26<00:00, 371.56it/s]\n"
          ]
        },
        {
          "output_type": "stream",
          "name": "stdout",
          "text": [
            "\n",
            "Top-1 accuracy for dog: 88.50\n"
          ]
        },
        {
          "output_type": "stream",
          "name": "stderr",
          "text": [
            "100%|██████████| 10/10 [00:00<00:00, 104.22it/s]\n",
            "100%|██████████| 10000/10000 [00:27<00:00, 362.85it/s]\n"
          ]
        },
        {
          "output_type": "stream",
          "name": "stdout",
          "text": [
            "\n",
            "Top-1 accuracy for dog: 93.70\n"
          ]
        },
        {
          "output_type": "stream",
          "name": "stderr",
          "text": [
            "100%|██████████| 10/10 [00:00<00:00, 71.24it/s]\n",
            "100%|██████████| 10000/10000 [00:27<00:00, 369.36it/s]\n",
            "Setting `pad_token_id` to `eos_token_id`:2 for open-end generation.\n"
          ]
        },
        {
          "output_type": "stream",
          "name": "stdout",
          "text": [
            "\n",
            "Top-1 accuracy for dog: 94.10\n",
            "dog best attribute 2: tail_curl\n",
            "Class :frog\n",
            "('green skin', 'long tongue', 'large eyes')\n"
          ]
        },
        {
          "output_type": "stream",
          "name": "stderr",
          "text": [
            "100%|██████████| 10/10 [00:00<00:00, 85.39it/s]\n",
            "100%|██████████| 10000/10000 [00:32<00:00, 308.62it/s]\n"
          ]
        },
        {
          "output_type": "stream",
          "name": "stdout",
          "text": [
            "\n",
            "Top-1 accuracy for frog: 74.70\n"
          ]
        },
        {
          "output_type": "stream",
          "name": "stderr",
          "text": [
            "100%|██████████| 10/10 [00:00<00:00, 104.91it/s]\n",
            "100%|██████████| 10000/10000 [00:26<00:00, 377.67it/s]\n"
          ]
        },
        {
          "output_type": "stream",
          "name": "stdout",
          "text": [
            "\n",
            "Top-1 accuracy for frog: 76.00\n"
          ]
        },
        {
          "output_type": "stream",
          "name": "stderr",
          "text": [
            "100%|██████████| 10/10 [00:00<00:00, 86.36it/s]\n",
            "100%|██████████| 10000/10000 [00:27<00:00, 368.34it/s]\n",
            "Setting `pad_token_id` to `eos_token_id`:2 for open-end generation.\n"
          ]
        },
        {
          "output_type": "stream",
          "name": "stdout",
          "text": [
            "\n",
            "Top-1 accuracy for frog: 79.00\n",
            "frog best attribute 2: large eyes\n",
            "Class :horse\n",
            "('mane_length', 'ear_position', 'tail_curl')\n"
          ]
        },
        {
          "output_type": "stream",
          "name": "stderr",
          "text": [
            "100%|██████████| 10/10 [00:00<00:00, 109.37it/s]\n",
            "100%|██████████| 10000/10000 [00:26<00:00, 374.22it/s]\n"
          ]
        },
        {
          "output_type": "stream",
          "name": "stdout",
          "text": [
            "\n",
            "Top-1 accuracy for horse: 98.30\n"
          ]
        },
        {
          "output_type": "stream",
          "name": "stderr",
          "text": [
            "100%|██████████| 10/10 [00:00<00:00, 105.88it/s]\n",
            "100%|██████████| 10000/10000 [00:26<00:00, 373.79it/s]\n"
          ]
        },
        {
          "output_type": "stream",
          "name": "stdout",
          "text": [
            "\n",
            "Top-1 accuracy for horse: 97.20\n"
          ]
        },
        {
          "output_type": "stream",
          "name": "stderr",
          "text": [
            "100%|██████████| 10/10 [00:00<00:00, 102.12it/s]\n",
            "100%|██████████| 10000/10000 [00:26<00:00, 374.10it/s]\n",
            "Setting `pad_token_id` to `eos_token_id`:2 for open-end generation.\n"
          ]
        },
        {
          "output_type": "stream",
          "name": "stdout",
          "text": [
            "\n",
            "Top-1 accuracy for horse: 96.50\n",
            "horse best attribute 2: mane_length\n",
            "Class :ship\n",
            "('Square sails', 'Tall mast', 'Anchors hanging')\n"
          ]
        },
        {
          "output_type": "stream",
          "name": "stderr",
          "text": [
            "100%|██████████| 10/10 [00:00<00:00, 106.83it/s]\n",
            "100%|██████████| 10000/10000 [00:26<00:00, 371.04it/s]\n"
          ]
        },
        {
          "output_type": "stream",
          "name": "stdout",
          "text": [
            "\n",
            "Top-1 accuracy for ship: 93.80\n"
          ]
        },
        {
          "output_type": "stream",
          "name": "stderr",
          "text": [
            "100%|██████████| 10/10 [00:00<00:00, 105.87it/s]\n",
            "100%|██████████| 10000/10000 [00:27<00:00, 369.89it/s]\n"
          ]
        },
        {
          "output_type": "stream",
          "name": "stdout",
          "text": [
            "\n",
            "Top-1 accuracy for ship: 80.10\n"
          ]
        },
        {
          "output_type": "stream",
          "name": "stderr",
          "text": [
            "100%|██████████| 10/10 [00:00<00:00, 96.09it/s]\n",
            "100%|██████████| 10000/10000 [00:27<00:00, 357.71it/s]\n",
            "Setting `pad_token_id` to `eos_token_id`:2 for open-end generation.\n"
          ]
        },
        {
          "output_type": "stream",
          "name": "stdout",
          "text": [
            "\n",
            "Top-1 accuracy for ship: 91.10\n",
            "ship best attribute 2: Square sails\n",
            "Class :truck\n",
            "('Grille design', 'Tire size', 'Paint color')\n"
          ]
        },
        {
          "output_type": "stream",
          "name": "stderr",
          "text": [
            "100%|██████████| 10/10 [00:00<00:00, 107.53it/s]\n",
            "100%|██████████| 10000/10000 [00:26<00:00, 373.76it/s]\n"
          ]
        },
        {
          "output_type": "stream",
          "name": "stdout",
          "text": [
            "\n",
            "Top-1 accuracy for truck: 54.30\n"
          ]
        },
        {
          "output_type": "stream",
          "name": "stderr",
          "text": [
            "100%|██████████| 10/10 [00:00<00:00, 63.24it/s]\n",
            "100%|██████████| 10000/10000 [00:27<00:00, 361.08it/s]\n"
          ]
        },
        {
          "output_type": "stream",
          "name": "stdout",
          "text": [
            "\n",
            "Top-1 accuracy for truck: 83.40\n"
          ]
        },
        {
          "output_type": "stream",
          "name": "stderr",
          "text": [
            "100%|██████████| 10/10 [00:00<00:00, 81.06it/s]\n",
            "100%|██████████| 10000/10000 [00:26<00:00, 376.91it/s]"
          ]
        },
        {
          "output_type": "stream",
          "name": "stdout",
          "text": [
            "\n",
            "Top-1 accuracy for truck: 83.60\n",
            "truck best attribute 2: Paint color\n"
          ]
        },
        {
          "output_type": "stream",
          "name": "stderr",
          "text": [
            "\n"
          ]
        }
      ]
    },
    {
      "cell_type": "code",
      "source": [
        "zeroshot_weights = zeroshot_classifier_with_attributes(cifar10.classes, best_templates2)\n",
        "\n",
        "with torch.no_grad():\n",
        "  top1, top5, n = 0., 0., 0.\n",
        "  for i, (images, target) in enumerate(tqdm.tqdm(data_loader)):\n",
        "    images = images.cuda()\n",
        "    target = target.cuda()\n",
        "\n",
        "    # predict\n",
        "    image_features = model.encode_image(images)\n",
        "    image_features /= image_features.norm(dim=-1, keepdim=True)\n",
        "\n",
        "    # measure accuracy\n",
        "    logits = 100. * image_features @ zeroshot_weights\n",
        "    acc1, acc5 = accuracy(logits, target, topk=(1, 5))\n",
        "    top1 += acc1\n",
        "    top5 += acc5\n",
        "\n",
        "    n += images.size(0)\n",
        "\n",
        "top1 = (top1 / n) * 100\n",
        "top5 = (top5 / n) * 100\n",
        "\n",
        "print()\n",
        "print(f\"Top-1 accuracy: {top1:.2f}\")\n",
        "print(f\"Top-5 accuracy: {top5:.2f}\")"
      ],
      "metadata": {
        "colab": {
          "base_uri": "https://localhost:8080/"
        },
        "id": "86Exj0jJggz0",
        "outputId": "8ba0e4e6-78ba-4e09-e13e-7bd02327d555"
      },
      "execution_count": null,
      "outputs": [
        {
          "output_type": "stream",
          "name": "stderr",
          "text": [
            "100%|██████████| 10/10 [00:00<00:00, 66.28it/s]\n",
            "  0%|          | 0/10000 [00:00<?, ?it/s]<ipython-input-21-07f05e45ae7b>:4: DeprecationWarning: Conversion of an array with ndim > 0 to a scalar is deprecated, and will error in future. Ensure you extract a single element from your array before performing this operation. (Deprecated NumPy 1.25.)\n",
            "  return [float(correct[:k].reshape(-1).float().sum(0, keepdim=True).cpu().numpy()) for k in topk]\n",
            "100%|██████████| 10000/10000 [01:52<00:00, 88.94it/s]\n"
          ]
        },
        {
          "output_type": "stream",
          "name": "stdout",
          "text": [
            "\n",
            "Top-1 accuracy: 70.75\n",
            "Top-5 accuracy: 97.55\n"
          ]
        }
      ]
    },
    {
      "cell_type": "code",
      "source": [
        "print(best_templates2)\n",
        "\n",
        "save_directory = '/content/drive/MyDrive/TRIED/ProjetLong'\n",
        "os.makedirs(save_directory, exist_ok=True)\n",
        "\n",
        "if top1 >= 70.75:\n",
        "  # Save best_attributes as a JSON file in the specified directory\n",
        "  save_path = os.path.join(save_directory, 'best_attributes2.json')\n",
        "  with open(save_path, 'w') as f:\n",
        "    json.dump(best_attributes2, f)\n",
        "\n",
        "  print(f\"best_attributes2 saved to {save_path}\")\n"
      ],
      "metadata": {
        "colab": {
          "base_uri": "https://localhost:8080/"
        },
        "id": "YKBppWgyG8S5",
        "outputId": "c314ddbf-bab5-4144-a8c7-e4fc0e87f557"
      },
      "execution_count": null,
      "outputs": [
        {
          "output_type": "stream",
          "name": "stdout",
          "text": [
            "{'airplane': ['a photo of a airplane because of long and tail-finned'], 'automobile': ['a photo of a automobile because of four-door and sporty design'], 'bird': ['a photo of a bird because of beak shape and tail length'], 'cat': ['a photo of a cat because of fur_color and whiskers_length'], 'deer': ['a photo of a deer because of long tail and large ears'], 'dog': ['a photo of a dog because of fur_color and tail_curl'], 'frog': ['a photo of a frog because of webbed feet and large eyes'], 'horse': ['a photo of a horse because of coat_color and mane_length'], 'ship': ['a photo of a ship because of Horizontal stripes and Square sails'], 'truck': ['a photo of a truck because of Rectangular shape and Paint color']}\n",
            "best_attributes2 saved to /content/drive/MyDrive/TRIED/ProjetLong/best_attributes2.json\n"
          ]
        }
      ]
    },
    {
      "cell_type": "markdown",
      "source": [
        "#### Pour 3 attributs"
      ],
      "metadata": {
        "id": "DTgVHCB-jZtw"
      }
    },
    {
      "cell_type": "code",
      "source": [
        "from google.colab import drive\n",
        "import json\n",
        "import os\n",
        "\n",
        "# Mount Google Drive\n",
        "drive.mount('/content/drive')\n",
        "\n",
        "# Load best_attributes from JSON file\n",
        "file_path = '/content/drive/MyDrive/TRIED/ProjetLong/best_attributes2.json'\n",
        "with open(file_path, 'r') as f:\n",
        "    best_attributes2 = json.load(f)\n",
        "\n",
        "file_path = '/content/drive/MyDrive/TRIED/ProjetLong/best_attributes.json'\n",
        "with open(file_path, 'r') as f:\n",
        "    best_attributes = json.load(f)\n",
        "\n",
        "print(best_attributes)\n",
        "print(best_attributes2)\n"
      ],
      "metadata": {
        "colab": {
          "base_uri": "https://localhost:8080/"
        },
        "id": "Zo_P1Lw6ywWe",
        "outputId": "2f0db358-3e16-4016-b595-635beba1216e"
      },
      "execution_count": null,
      "outputs": [
        {
          "output_type": "stream",
          "name": "stdout",
          "text": [
            "Drive already mounted at /content/drive; to attempt to forcibly remount, call drive.mount(\"/content/drive\", force_remount=True).\n",
            "{'airplane': 'long', 'automobile': 'four-door', 'bird': 'beak shape', 'cat': 'fur_color', 'deer': 'long tail', 'dog': 'fur_color', 'frog': 'webbed feet', 'horse': 'coat_color', 'ship': 'Horizontal stripes', 'truck': 'Rectangular shape'}\n",
            "{'airplane': 'tail-finned', 'automobile': 'sporty design', 'bird': 'tail length', 'cat': 'whiskers_length', 'deer': 'large ears', 'dog': 'tail_curl', 'frog': 'large eyes', 'horse': 'mane_length', 'ship': 'Square sails', 'truck': 'Paint color'}\n"
          ]
        }
      ]
    },
    {
      "cell_type": "code",
      "source": [
        "def get_best_attribute3(classe_idx, type='llm'):\n",
        "    classe_studied = cifar10.classes[classe_idx]\n",
        "\n",
        "    if type == 'llm':\n",
        "        best_attribute = best_attributes[classe_studied]\n",
        "        best_attribute2 = best_attributes2[classe_studied]\n",
        "        attributes = get_attributes3(classe_studied, best_attribute, best_attribute2)\n",
        "    else:\n",
        "        raise ValueError(\"Invalid type argument. Choose 'llm' or 'random'.\")\n",
        "\n",
        "    print('Class :' + classe_studied)\n",
        "    print(attributes)  # attributes will contain only the third attribute in the random case\n",
        "\n",
        "    best_attribute3 = None\n",
        "    best_acc3 = 0\n",
        "\n",
        "    templates = {classe: f\"a photo of a {classe}\" for classe in cifar10.classes}\n",
        "\n",
        "    for attribute in attributes:  # This loop will iterate only once in the random case\n",
        "        if type == 'llm':\n",
        "            templates[classe_studied] = [f\"a photo of a {classe_studied} because of {best_attribute} and {best_attribute2} and {attribute}\"]\n",
        "\n",
        "        zeroshot_weights = zeroshot_classifier_with_attributes(cifar10.classes, templates)\n",
        "\n",
        "        with torch.no_grad():\n",
        "            top1, top5, n = 0., 0., 0.\n",
        "            for i, (images, target) in enumerate(tqdm.tqdm(data_loader)):\n",
        "                if target == classe_idx:\n",
        "                    images = images.cuda()\n",
        "                    target = target.cuda()\n",
        "\n",
        "                    # predict\n",
        "                    image_features = model.encode_image(images)\n",
        "                    image_features /= image_features.norm(dim=-1, keepdim=True)\n",
        "\n",
        "                    # measure accuracy\n",
        "                    logits = 100. * image_features @ zeroshot_weights\n",
        "                    acc1, acc5 = accuracy(logits, target, topk=(1, 5))\n",
        "                    top1 += acc1\n",
        "                    top5 += acc5\n",
        "\n",
        "                    n += images.size(0)\n",
        "\n",
        "            top1 = (top1 / n) * 100\n",
        "            top5 = (top5 / n) * 100\n",
        "\n",
        "        print()\n",
        "        print(f\"Top-1 accuracy for {classe_studied}: {top1:.2f}\")\n",
        "\n",
        "        if top1 > best_acc3:\n",
        "            best_acc3 = top1\n",
        "            best_attribute3 = attribute\n",
        "\n",
        "    return best_attribute3  # Returns the third attribute, which will be attribute3 in the random case"
      ],
      "metadata": {
        "id": "M7jJxtAsjd1Z"
      },
      "execution_count": null,
      "outputs": []
    },
    {
      "cell_type": "code",
      "source": [
        "best_attributes3 = {}\n",
        "for i in range(10):\n",
        "  best_attributes3[cifar10.classes[i]] = get_best_attribute3(i, type=\"llm\")\n",
        "  print(f'{cifar10.classes[i]} best attribute 3: {best_attributes3[cifar10.classes[i]]}')\n",
        "\n",
        "best_templates3 = {}\n",
        "for classe in cifar10.classes:\n",
        "  best_templates3[classe] = [f\"a photo of a {classe} because of {best_attributes[classe]} and {best_attributes2[classe]} and {best_attributes3[classe]}\"]"
      ],
      "metadata": {
        "colab": {
          "base_uri": "https://localhost:8080/"
        },
        "id": "vl5IQjmUrYG6",
        "outputId": "48be1679-f1fb-4b3c-911f-4fe97e1225b4"
      },
      "execution_count": null,
      "outputs": [
        {
          "output_type": "stream",
          "name": "stderr",
          "text": [
            "Setting `pad_token_id` to `eos_token_id`:2 for open-end generation.\n"
          ]
        },
        {
          "output_type": "stream",
          "name": "stdout",
          "text": [
            "Class :airplane\n",
            "('winged', 'jet-engine', 'fuselage-long')\n"
          ]
        },
        {
          "output_type": "stream",
          "name": "stderr",
          "text": [
            "100%|██████████| 10/10 [00:00<00:00, 94.70it/s]\n",
            "  0%|          | 0/10000 [00:00<?, ?it/s]<ipython-input-21-07f05e45ae7b>:4: DeprecationWarning: Conversion of an array with ndim > 0 to a scalar is deprecated, and will error in future. Ensure you extract a single element from your array before performing this operation. (Deprecated NumPy 1.25.)\n",
            "  return [float(correct[:k].reshape(-1).float().sum(0, keepdim=True).cpu().numpy()) for k in topk]\n",
            "100%|██████████| 10000/10000 [00:26<00:00, 370.99it/s]\n"
          ]
        },
        {
          "output_type": "stream",
          "name": "stdout",
          "text": [
            "\n",
            "Top-1 accuracy for airplane: 97.40\n"
          ]
        },
        {
          "output_type": "stream",
          "name": "stderr",
          "text": [
            "100%|██████████| 10/10 [00:00<00:00, 102.28it/s]\n",
            "100%|██████████| 10000/10000 [00:27<00:00, 369.07it/s]\n"
          ]
        },
        {
          "output_type": "stream",
          "name": "stdout",
          "text": [
            "\n",
            "Top-1 accuracy for airplane: 97.00\n"
          ]
        },
        {
          "output_type": "stream",
          "name": "stderr",
          "text": [
            "100%|██████████| 10/10 [00:00<00:00, 81.67it/s]\n",
            "100%|██████████| 10000/10000 [00:27<00:00, 368.71it/s]\n",
            "Setting `pad_token_id` to `eos_token_id`:2 for open-end generation.\n"
          ]
        },
        {
          "output_type": "stream",
          "name": "stdout",
          "text": [
            "\n",
            "Top-1 accuracy for airplane: 99.00\n",
            "airplane best attribute 3: fuselage-long\n",
            "Class :automobile\n",
            "('Red color', 'Four wheels', 'Tinted windows')\n"
          ]
        },
        {
          "output_type": "stream",
          "name": "stderr",
          "text": [
            "100%|██████████| 10/10 [00:00<00:00, 105.95it/s]\n",
            "100%|██████████| 10000/10000 [00:26<00:00, 375.81it/s]\n"
          ]
        },
        {
          "output_type": "stream",
          "name": "stdout",
          "text": [
            "\n",
            "Top-1 accuracy for automobile: 91.40\n"
          ]
        },
        {
          "output_type": "stream",
          "name": "stderr",
          "text": [
            "100%|██████████| 10/10 [00:00<00:00, 102.42it/s]\n",
            "100%|██████████| 10000/10000 [00:28<00:00, 353.21it/s]\n"
          ]
        },
        {
          "output_type": "stream",
          "name": "stdout",
          "text": [
            "\n",
            "Top-1 accuracy for automobile: 98.50\n"
          ]
        },
        {
          "output_type": "stream",
          "name": "stderr",
          "text": [
            "100%|██████████| 10/10 [00:00<00:00, 91.63it/s]\n",
            "100%|██████████| 10000/10000 [00:26<00:00, 375.58it/s]\n",
            "Setting `pad_token_id` to `eos_token_id`:2 for open-end generation.\n"
          ]
        },
        {
          "output_type": "stream",
          "name": "stdout",
          "text": [
            "\n",
            "Top-1 accuracy for automobile: 92.80\n",
            "automobile best attribute 3: Four wheels\n",
            "Class :bird\n",
            "('feather color', 'leg color', 'eye color')\n"
          ]
        },
        {
          "output_type": "stream",
          "name": "stderr",
          "text": [
            "100%|██████████| 10/10 [00:00<00:00, 102.33it/s]\n",
            "100%|██████████| 10000/10000 [00:26<00:00, 373.14it/s]\n"
          ]
        },
        {
          "output_type": "stream",
          "name": "stdout",
          "text": [
            "\n",
            "Top-1 accuracy for bird: 94.40\n"
          ]
        },
        {
          "output_type": "stream",
          "name": "stderr",
          "text": [
            "100%|██████████| 10/10 [00:00<00:00, 98.81it/s]\n",
            "100%|██████████| 10000/10000 [00:26<00:00, 373.43it/s]\n"
          ]
        },
        {
          "output_type": "stream",
          "name": "stdout",
          "text": [
            "\n",
            "Top-1 accuracy for bird: 93.20\n"
          ]
        },
        {
          "output_type": "stream",
          "name": "stderr",
          "text": [
            "100%|██████████| 10/10 [00:00<00:00, 102.86it/s]\n",
            "100%|██████████| 10000/10000 [00:26<00:00, 371.50it/s]\n",
            "Setting `pad_token_id` to `eos_token_id`:2 for open-end generation.\n"
          ]
        },
        {
          "output_type": "stream",
          "name": "stdout",
          "text": [
            "\n",
            "Top-1 accuracy for bird: 93.30\n",
            "bird best attribute 3: feather color\n",
            "Class :cat\n",
            "('ear_shape', 'eye_color', 'tail_curl')\n"
          ]
        },
        {
          "output_type": "stream",
          "name": "stderr",
          "text": [
            "100%|██████████| 10/10 [00:00<00:00, 89.67it/s]\n",
            "100%|██████████| 10000/10000 [00:27<00:00, 364.45it/s]\n"
          ]
        },
        {
          "output_type": "stream",
          "name": "stdout",
          "text": [
            "\n",
            "Top-1 accuracy for cat: 97.50\n"
          ]
        },
        {
          "output_type": "stream",
          "name": "stderr",
          "text": [
            "100%|██████████| 10/10 [00:00<00:00, 67.03it/s]\n",
            "100%|██████████| 10000/10000 [00:27<00:00, 368.22it/s]\n"
          ]
        },
        {
          "output_type": "stream",
          "name": "stdout",
          "text": [
            "\n",
            "Top-1 accuracy for cat: 95.60\n"
          ]
        },
        {
          "output_type": "stream",
          "name": "stderr",
          "text": [
            "100%|██████████| 10/10 [00:00<00:00, 63.23it/s]\n",
            "100%|██████████| 10000/10000 [00:27<00:00, 368.38it/s]\n",
            "Setting `pad_token_id` to `eos_token_id`:2 for open-end generation.\n"
          ]
        },
        {
          "output_type": "stream",
          "name": "stdout",
          "text": [
            "\n",
            "Top-1 accuracy for cat: 96.60\n",
            "cat best attribute 3: ear_shape\n",
            "Class :deer\n",
            "('spotted coat', 'white underbelly', 'large antlers')\n"
          ]
        },
        {
          "output_type": "stream",
          "name": "stderr",
          "text": [
            "100%|██████████| 10/10 [00:00<00:00, 92.04it/s]\n",
            "100%|██████████| 10000/10000 [00:26<00:00, 371.60it/s]\n"
          ]
        },
        {
          "output_type": "stream",
          "name": "stdout",
          "text": [
            "\n",
            "Top-1 accuracy for deer: 90.60\n"
          ]
        },
        {
          "output_type": "stream",
          "name": "stderr",
          "text": [
            "100%|██████████| 10/10 [00:00<00:00, 102.93it/s]\n",
            "100%|██████████| 10000/10000 [00:26<00:00, 372.12it/s]\n"
          ]
        },
        {
          "output_type": "stream",
          "name": "stdout",
          "text": [
            "\n",
            "Top-1 accuracy for deer: 88.80\n"
          ]
        },
        {
          "output_type": "stream",
          "name": "stderr",
          "text": [
            "100%|██████████| 10/10 [00:00<00:00, 87.01it/s]\n",
            "100%|██████████| 10000/10000 [00:26<00:00, 372.42it/s]\n",
            "Setting `pad_token_id` to `eos_token_id`:2 for open-end generation.\n"
          ]
        },
        {
          "output_type": "stream",
          "name": "stdout",
          "text": [
            "\n",
            "Top-1 accuracy for deer: 88.10\n",
            "deer best attribute 3: spotted coat\n",
            "Class :dog\n",
            "('eye_shape', 'ear_size', 'nose_color')\n"
          ]
        },
        {
          "output_type": "stream",
          "name": "stderr",
          "text": [
            "100%|██████████| 10/10 [00:00<00:00, 92.78it/s]\n",
            "100%|██████████| 10000/10000 [00:26<00:00, 373.05it/s]\n"
          ]
        },
        {
          "output_type": "stream",
          "name": "stdout",
          "text": [
            "\n",
            "Top-1 accuracy for dog: 96.20\n"
          ]
        },
        {
          "output_type": "stream",
          "name": "stderr",
          "text": [
            "100%|██████████| 10/10 [00:00<00:00, 100.70it/s]\n",
            "100%|██████████| 10000/10000 [00:26<00:00, 372.34it/s]\n"
          ]
        },
        {
          "output_type": "stream",
          "name": "stdout",
          "text": [
            "\n",
            "Top-1 accuracy for dog: 95.80\n"
          ]
        },
        {
          "output_type": "stream",
          "name": "stderr",
          "text": [
            "100%|██████████| 10/10 [00:00<00:00, 98.19it/s]\n",
            "100%|██████████| 10000/10000 [00:26<00:00, 371.52it/s]\n",
            "Setting `pad_token_id` to `eos_token_id`:2 for open-end generation.\n"
          ]
        },
        {
          "output_type": "stream",
          "name": "stdout",
          "text": [
            "\n",
            "Top-1 accuracy for dog: 94.90\n",
            "dog best attribute 3: eye_shape\n",
            "Class :frog\n",
            "('green skin', 'long tongue', 'spotted pattern')\n"
          ]
        },
        {
          "output_type": "stream",
          "name": "stderr",
          "text": [
            "100%|██████████| 10/10 [00:00<00:00, 104.80it/s]\n",
            "100%|██████████| 10000/10000 [00:28<00:00, 349.93it/s]\n"
          ]
        },
        {
          "output_type": "stream",
          "name": "stdout",
          "text": [
            "\n",
            "Top-1 accuracy for frog: 73.50\n"
          ]
        },
        {
          "output_type": "stream",
          "name": "stderr",
          "text": [
            "100%|██████████| 10/10 [00:00<00:00, 101.56it/s]\n",
            "100%|██████████| 10000/10000 [00:27<00:00, 358.49it/s]\n"
          ]
        },
        {
          "output_type": "stream",
          "name": "stdout",
          "text": [
            "\n",
            "Top-1 accuracy for frog: 80.40\n"
          ]
        },
        {
          "output_type": "stream",
          "name": "stderr",
          "text": [
            "100%|██████████| 10/10 [00:00<00:00, 89.31it/s]\n",
            "100%|██████████| 10000/10000 [00:28<00:00, 356.64it/s]\n",
            "Setting `pad_token_id` to `eos_token_id`:2 for open-end generation.\n"
          ]
        },
        {
          "output_type": "stream",
          "name": "stdout",
          "text": [
            "\n",
            "Top-1 accuracy for frog: 75.90\n",
            "frog best attribute 3: long tongue\n",
            "Class :horse\n",
            "('white_spot_forehead', 'striped_legs', 'long_ears')\n"
          ]
        },
        {
          "output_type": "stream",
          "name": "stderr",
          "text": [
            "100%|██████████| 10/10 [00:00<00:00, 101.80it/s]\n",
            "100%|██████████| 10000/10000 [00:29<00:00, 340.28it/s]\n"
          ]
        },
        {
          "output_type": "stream",
          "name": "stdout",
          "text": [
            "\n",
            "Top-1 accuracy for horse: 95.80\n"
          ]
        },
        {
          "output_type": "stream",
          "name": "stderr",
          "text": [
            "100%|██████████| 10/10 [00:00<00:00, 98.54it/s]\n",
            "100%|██████████| 10000/10000 [00:28<00:00, 354.51it/s]\n"
          ]
        },
        {
          "output_type": "stream",
          "name": "stdout",
          "text": [
            "\n",
            "Top-1 accuracy for horse: 95.70\n"
          ]
        },
        {
          "output_type": "stream",
          "name": "stderr",
          "text": [
            "100%|██████████| 10/10 [00:00<00:00, 98.02it/s]\n",
            "100%|██████████| 10000/10000 [00:27<00:00, 364.36it/s]\n",
            "Setting `pad_token_id` to `eos_token_id`:2 for open-end generation.\n"
          ]
        },
        {
          "output_type": "stream",
          "name": "stdout",
          "text": [
            "\n",
            "Top-1 accuracy for horse: 98.90\n",
            "horse best attribute 3: long_ears\n",
            "Class :ship\n",
            "('tall mast', 'large anchor', 'white deck')\n"
          ]
        },
        {
          "output_type": "stream",
          "name": "stderr",
          "text": [
            "100%|██████████| 10/10 [00:00<00:00, 103.56it/s]\n",
            "100%|██████████| 10000/10000 [00:27<00:00, 364.85it/s]\n"
          ]
        },
        {
          "output_type": "stream",
          "name": "stdout",
          "text": [
            "\n",
            "Top-1 accuracy for ship: 83.00\n"
          ]
        },
        {
          "output_type": "stream",
          "name": "stderr",
          "text": [
            "100%|██████████| 10/10 [00:00<00:00, 94.75it/s]\n",
            "100%|██████████| 10000/10000 [00:27<00:00, 364.05it/s]\n"
          ]
        },
        {
          "output_type": "stream",
          "name": "stdout",
          "text": [
            "\n",
            "Top-1 accuracy for ship: 90.00\n"
          ]
        },
        {
          "output_type": "stream",
          "name": "stderr",
          "text": [
            "100%|██████████| 10/10 [00:00<00:00, 92.99it/s]\n",
            "100%|██████████| 10000/10000 [00:27<00:00, 359.23it/s]\n",
            "Setting `pad_token_id` to `eos_token_id`:2 for open-end generation.\n"
          ]
        },
        {
          "output_type": "stream",
          "name": "stdout",
          "text": [
            "\n",
            "Top-1 accuracy for ship: 93.20\n",
            "ship best attribute 3: white deck\n",
            "Class :truck\n",
            "('Grille design', 'Tire size', 'Headlight shape')\n"
          ]
        },
        {
          "output_type": "stream",
          "name": "stderr",
          "text": [
            "100%|██████████| 10/10 [00:00<00:00, 76.72it/s]\n",
            "100%|██████████| 10000/10000 [00:28<00:00, 349.75it/s]\n"
          ]
        },
        {
          "output_type": "stream",
          "name": "stdout",
          "text": [
            "\n",
            "Top-1 accuracy for truck: 48.70\n"
          ]
        },
        {
          "output_type": "stream",
          "name": "stderr",
          "text": [
            "100%|██████████| 10/10 [00:00<00:00, 102.55it/s]\n",
            "100%|██████████| 10000/10000 [00:28<00:00, 353.54it/s]\n"
          ]
        },
        {
          "output_type": "stream",
          "name": "stdout",
          "text": [
            "\n",
            "Top-1 accuracy for truck: 70.40\n"
          ]
        },
        {
          "output_type": "stream",
          "name": "stderr",
          "text": [
            "100%|██████████| 10/10 [00:00<00:00, 102.10it/s]\n",
            "100%|██████████| 10000/10000 [00:28<00:00, 353.35it/s]"
          ]
        },
        {
          "output_type": "stream",
          "name": "stdout",
          "text": [
            "\n",
            "Top-1 accuracy for truck: 80.10\n",
            "truck best attribute 3: Headlight shape\n"
          ]
        },
        {
          "output_type": "stream",
          "name": "stderr",
          "text": [
            "\n"
          ]
        }
      ]
    },
    {
      "cell_type": "code",
      "source": [
        "zeroshot_weights = zeroshot_classifier_with_attributes(cifar10.classes, best_templates3)\n",
        "\n",
        "with torch.no_grad():\n",
        "  top1, top5, n = 0., 0., 0.\n",
        "  for i, (images, target) in enumerate(tqdm.tqdm(data_loader)):\n",
        "    images = images.cuda()\n",
        "    target = target.cuda()\n",
        "\n",
        "    # predict\n",
        "    image_features = model.encode_image(images)\n",
        "    image_features /= image_features.norm(dim=-1, keepdim=True)\n",
        "\n",
        "    # measure accuracy\n",
        "    logits = 100. * image_features @ zeroshot_weights\n",
        "    acc1, acc5 = accuracy(logits, target, topk=(1, 5))\n",
        "    top1 += acc1\n",
        "    top5 += acc5\n",
        "\n",
        "    n += images.size(0)\n",
        "\n",
        "top1 = (top1 / n) * 100\n",
        "top5 = (top5 / n) * 100\n",
        "\n",
        "print()\n",
        "print(f\"Top-1 accuracy: {top1:.2f}\")\n",
        "print(f\"Top-5 accuracy: {top5:.2f}\")"
      ],
      "metadata": {
        "id": "S5WWeix4jeY0",
        "colab": {
          "base_uri": "https://localhost:8080/"
        },
        "outputId": "dc22574f-eda0-4ca3-9959-2de93d6c0d18"
      },
      "execution_count": null,
      "outputs": [
        {
          "output_type": "stream",
          "name": "stderr",
          "text": [
            "100%|██████████| 10/10 [00:00<00:00, 95.93it/s]\n",
            "  0%|          | 0/10000 [00:00<?, ?it/s]<ipython-input-21-07f05e45ae7b>:4: DeprecationWarning: Conversion of an array with ndim > 0 to a scalar is deprecated, and will error in future. Ensure you extract a single element from your array before performing this operation. (Deprecated NumPy 1.25.)\n",
            "  return [float(correct[:k].reshape(-1).float().sum(0, keepdim=True).cpu().numpy()) for k in topk]\n",
            "100%|██████████| 10000/10000 [02:00<00:00, 83.01it/s]"
          ]
        },
        {
          "output_type": "stream",
          "name": "stdout",
          "text": [
            "\n",
            "Top-1 accuracy: 69.67\n",
            "Top-5 accuracy: 97.50\n"
          ]
        },
        {
          "output_type": "stream",
          "name": "stderr",
          "text": [
            "\n"
          ]
        }
      ]
    },
    {
      "cell_type": "code",
      "source": [
        "print(best_templates3)\n",
        "\n",
        "# Save best_attributes as a JSON file in the specified directory\n",
        "save_path = os.path.join(save_directory, 'best_attributes3.json')\n",
        "with open(save_path, 'w') as f:\n",
        "    json.dump(best_attributes3, f)\n",
        "\n",
        "print(f\"best_attributes3 saved to {save_path}\")"
      ],
      "metadata": {
        "id": "oHPBCp2vCWm2",
        "colab": {
          "base_uri": "https://localhost:8080/"
        },
        "outputId": "da3f7987-056e-4af2-d288-8a5a01bad94f"
      },
      "execution_count": null,
      "outputs": [
        {
          "output_type": "stream",
          "name": "stdout",
          "text": [
            "{'airplane': ['a photo of a airplane because of long and tail-finned and fuselage-long'], 'automobile': ['a photo of a automobile because of four-door and sporty design and Four wheels'], 'bird': ['a photo of a bird because of beak shape and tail length and feather color'], 'cat': ['a photo of a cat because of fur_color and whiskers_length and ear_shape'], 'deer': ['a photo of a deer because of long tail and large ears and spotted coat'], 'dog': ['a photo of a dog because of fur_color and tail_curl and eye_shape'], 'frog': ['a photo of a frog because of webbed feet and large eyes and long tongue'], 'horse': ['a photo of a horse because of coat_color and mane_length and long_ears'], 'ship': ['a photo of a ship because of Horizontal stripes and Square sails and white deck'], 'truck': ['a photo of a truck because of Rectangular shape and Paint color and Headlight shape']}\n",
            "best_attributes3 saved to /content/drive/MyDrive/TRIED/ProjetLong/best_attributes3.json\n"
          ]
        }
      ]
    },
    {
      "cell_type": "markdown",
      "source": [
        "#### Attributs random sans optimisation"
      ],
      "metadata": {
        "id": "t3L8RfqZicuZ"
      }
    },
    {
      "cell_type": "code",
      "source": [
        "def get_random_attributes_no_opti():\n",
        "    prompt = (f\"Please generate three random words from a dictionnary\"\n",
        "        \"Each attribute should be a single word or a very short phrase (max 3 words). \"\n",
        "        \"Provide the answer in strict JSON format with keys \\\"feature1\\\", \\\"feature2\\\", and \\\"feature3\\\", \"\n",
        "        \"where the values are actual descriptions (for example, \\\"brown\\\", \\\"round\\\", or \\\"metallic\\\"). \"\n",
        "        \"Do not include any additional text.\"\n",
        "    )\n",
        "\n",
        "    inputs = tokenizer(prompt, return_tensors=\"pt\").to(model_llm.device)\n",
        "    outputs = model_llm.generate(**inputs, max_new_tokens=200, do_sample=True, temperature=0.5, top_k=20)\n",
        "\n",
        "    generated_text = tokenizer.decode(outputs[0], skip_special_tokens=True)\n",
        "\n",
        "    try:\n",
        "        # Extract attributes from the generated text\n",
        "        json_match = re.search(r'\\{.*\\}', generated_text, re.DOTALL)\n",
        "        if json_match:\n",
        "            json_text = json_match.group(0)\n",
        "            attributes = json.loads(json_text)\n",
        "            if \"feature1\" in attributes and \"feature2\" in attributes and \"feature3\" in attributes:\n",
        "                return attributes[\"feature1\"], attributes[\"feature2\"], attributes[\"feature3\"]\n",
        "            else:\n",
        "                raise ValueError(\"Missing JSON keys\")\n",
        "        else:\n",
        "            # Fallback if no JSON is found\n",
        "            parts = generated_text.split(',')\n",
        "            if len(parts) >= 3:\n",
        "                return parts[0].strip(), parts[1].strip(), parts[2].strip()\n",
        "\n",
        "        # Fallback in case of errors\n",
        "        print(f\"Using fallback for random\")\n",
        "        return \"unknown_feature1\", \"unknown_feature2\", \"unknown_feature3\"\n",
        "\n",
        "    except (json.JSONDecodeError, ValueError) as e:\n",
        "        print(f\"Error processing generated text for random: {e}\")\n",
        "        return \"unknown_feature1\", \"unknown_feature2\", \"unknown_feature3\""
      ],
      "metadata": {
        "id": "pt4qBRWaiccL"
      },
      "execution_count": null,
      "outputs": []
    },
    {
      "cell_type": "code",
      "source": [
        "print(get_random_attributes_no_opti())"
      ],
      "metadata": {
        "id": "SmkVe9EKk6zB"
      },
      "execution_count": null,
      "outputs": []
    },
    {
      "cell_type": "code",
      "source": [
        "attributes_random1 = {}\n",
        "attributes_random2 = {}\n",
        "attributes_random3 = {}\n",
        "\n",
        "templates1 = {}\n",
        "templates2 = {}\n",
        "templates3 = {}\n",
        "\n",
        "for i in range(10):\n",
        "  attributes = get_random_attributes_no_opti()\n",
        "  templates1[cifar10.classes[i]] = f'a photo of a {cifar10.classes[i]} because of {attributes[0]}'\n",
        "  templates2[cifar10.classes[i]] = templates1[cifar10.classes[i]] + f' and {attributes[1]}'\n",
        "  templates3[cifar10.classes[i]] = templates2[cifar10.classes[i]] + f' and {attributes[2]}'\n",
        "\n",
        "print(templates1)\n",
        "print()\n",
        "print(templates2)\n",
        "print()\n",
        "print(templates3)\n"
      ],
      "metadata": {
        "id": "1dZQUYkvlQov"
      },
      "execution_count": null,
      "outputs": []
    },
    {
      "cell_type": "markdown",
      "source": [
        "#### Résultats généraux"
      ],
      "metadata": {
        "id": "rKEDz8LppEJz"
      }
    },
    {
      "cell_type": "markdown",
      "source": [
        "##### 1 attribut"
      ],
      "metadata": {
        "id": "XSUZZtbqpbb_"
      }
    },
    {
      "cell_type": "code",
      "source": [
        "import tqdm\n",
        "\n",
        "zeroshot_weights = zeroshot_classifier_with_attributes(cifar10.classes, templates1)\n",
        "\n",
        "with torch.no_grad():\n",
        "  top1, top5, n = 0., 0., 0.\n",
        "  for i, (images, target) in enumerate(tqdm.tqdm(data_loader)):\n",
        "    images = images.cuda()\n",
        "    target = target.cuda()\n",
        "\n",
        "    # predict\n",
        "    image_features = model.encode_image(images)\n",
        "    image_features /= image_features.norm(dim=-1, keepdim=True)\n",
        "\n",
        "    # measure accuracy\n",
        "    logits = 100. * image_features @ zeroshot_weights\n",
        "    acc1, acc5 = accuracy(logits, target, topk=(1, 5))\n",
        "    top1 += acc1\n",
        "    top5 += acc5\n",
        "\n",
        "    n += images.size(0)\n",
        "\n",
        "top1 = (top1 / n) * 100\n",
        "top5 = (top5 / n) * 100\n",
        "\n",
        "print()\n",
        "print(f\"Top-1 accuracy: {top1:.2f}\")\n",
        "print(f\"Top-5 accuracy: {top5:.2f}\")"
      ],
      "metadata": {
        "id": "Dxuv3biqnSjl"
      },
      "execution_count": null,
      "outputs": []
    },
    {
      "cell_type": "markdown",
      "source": [
        "##### 2 attributs"
      ],
      "metadata": {
        "id": "U5cyo2HwpqkP"
      }
    },
    {
      "cell_type": "code",
      "source": [
        "zeroshot_weights = zeroshot_classifier_with_attributes(cifar10.classes, templates2)\n",
        "\n",
        "with torch.no_grad():\n",
        "  top1, top5, n = 0., 0., 0.\n",
        "  for i, (images, target) in enumerate(tqdm.tqdm(data_loader)):\n",
        "    images = images.cuda()\n",
        "    target = target.cuda()\n",
        "\n",
        "    # predict\n",
        "    image_features = model.encode_image(images)\n",
        "    image_features /= image_features.norm(dim=-1, keepdim=True)\n",
        "\n",
        "    # measure accuracy\n",
        "    logits = 100. * image_features @ zeroshot_weights\n",
        "    acc1, acc5 = accuracy(logits, target, topk=(1, 5))\n",
        "    top1 += acc1\n",
        "    top5 += acc5\n",
        "\n",
        "    n += images.size(0)\n",
        "\n",
        "top1 = (top1 / n) * 100\n",
        "top5 = (top5 / n) * 100\n",
        "\n",
        "print()\n",
        "print(f\"Top-1 accuracy: {top1:.2f}\")\n",
        "print(f\"Top-5 accuracy: {top5:.2f}\")"
      ],
      "metadata": {
        "id": "WzhrLIBlpsPi"
      },
      "execution_count": null,
      "outputs": []
    },
    {
      "cell_type": "markdown",
      "source": [
        "##### 3 attributs"
      ],
      "metadata": {
        "id": "5CDTa1y3pvke"
      }
    },
    {
      "cell_type": "code",
      "source": [
        "zeroshot_weights = zeroshot_classifier_with_attributes(cifar10.classes, templates3)\n",
        "\n",
        "with torch.no_grad():\n",
        "  top1, top5, n = 0., 0., 0.\n",
        "  for i, (images, target) in enumerate(tqdm.tqdm(data_loader)):\n",
        "    images = images.cuda()\n",
        "    target = target.cuda()\n",
        "\n",
        "    # predict\n",
        "    image_features = model.encode_image(images)\n",
        "    image_features /= image_features.norm(dim=-1, keepdim=True)\n",
        "\n",
        "    # measure accuracy\n",
        "    logits = 100. * image_features @ zeroshot_weights\n",
        "    acc1, acc5 = accuracy(logits, target, topk=(1, 5))\n",
        "    top1 += acc1\n",
        "    top5 += acc5\n",
        "\n",
        "    n += images.size(0)\n",
        "\n",
        "top1 = (top1 / n) * 100\n",
        "top5 = (top5 / n) * 100\n",
        "\n",
        "print()\n",
        "print(f\"Top-1 accuracy: {top1:.2f}\")\n",
        "print(f\"Top-5 accuracy: {top5:.2f}\")"
      ],
      "metadata": {
        "id": "Sem1unvrp0bx"
      },
      "execution_count": null,
      "outputs": []
    },
    {
      "cell_type": "markdown",
      "source": [
        "#### Résultats par classe :"
      ],
      "metadata": {
        "id": "B9ul2IvIqsQa"
      }
    },
    {
      "cell_type": "code",
      "source": [
        "def get_results_for_classe(class_idx, templates):\n",
        "    classe_studied_idx = class_idx\n",
        "    classe_studied = cifar10.classes[classe_studied_idx]\n",
        "\n",
        "    zeroshot_weights = zeroshot_classifier_with_attributes(cifar10.classes, templates)\n",
        "\n",
        "    with torch.no_grad():\n",
        "        top1, top5, n = 0., 0., 0.\n",
        "        for i, (images, target) in enumerate(tqdm.tqdm(data_loader)):\n",
        "            if target == classe_studied_idx:\n",
        "                images = images.cuda()\n",
        "                target = target.cuda()\n",
        "\n",
        "                # predict\n",
        "                image_features = model.encode_image(images)\n",
        "                image_features /= image_features.norm(dim=-1, keepdim=True)\n",
        "\n",
        "                # measure accuracy\n",
        "                logits = 100. * image_features @ zeroshot_weights\n",
        "                acc1, acc5 = accuracy(logits, target, topk=(1, 5))\n",
        "                top1 += acc1\n",
        "                top5 += acc5\n",
        "\n",
        "                n += images.size(0)\n",
        "\n",
        "    top1 = (top1 / n) * 100\n",
        "    top5 = (top5 / n) * 100\n",
        "\n",
        "    print()\n",
        "    print(f\"Top-1 accuracy for {classe_studied}: {top1:.2f}\")\n",
        "    return\n"
      ],
      "metadata": {
        "id": "X9PaEIpFquUO"
      },
      "execution_count": null,
      "outputs": []
    },
    {
      "cell_type": "code",
      "source": [
        "for i in range(10) :\n",
        "  print('Class : ', cifar10.classes[i])\n",
        "  print\n",
        "  print('1 attributs :')\n",
        "  get_results_for_classe(i, templates1)\n",
        "  print('2 attributs :')\n",
        "  get_results_for_classe(i, templates2)\n",
        "  print('3 attributs :')\n",
        "  get_results_for_classe(i, templates3)\n"
      ],
      "metadata": {
        "id": "EeItJjdArvym"
      },
      "execution_count": null,
      "outputs": []
    },
    {
      "cell_type": "code",
      "source": [
        "templates0 = {classe : f'a photo of a {classe}' for classe in cifar10.classes}\n",
        "\n",
        "for i in range(10):\n",
        "  print('Classe : ', cifar10.classes[i])\n",
        "  get_results_for_classe(i, templates0)"
      ],
      "metadata": {
        "id": "csSjE8Hkum5C"
      },
      "execution_count": null,
      "outputs": []
    },
    {
      "cell_type": "code",
      "source": [
        "# Download best_attributes and best_attributes2 and best_attributes3 :\n",
        "\n",
        "file_path = '/content/drive/MyDrive/TRIED/ProjetLong/best_attributes.json'\n",
        "with open(file_path, 'r') as f:\n",
        "    best_attributes = json.load(f)\n",
        "\n",
        "file_path = '/content/drive/MyDrive/TRIED/ProjetLong/best_attributes2.json'\n",
        "with open(file_path, 'r') as f:\n",
        "    best_attributes2 = json.load(f)\n",
        "\n",
        "file_path = '/content/drive/MyDrive/TRIED/ProjetLong/best_attributes3.json'\n",
        "with open(file_path, 'r') as f:\n",
        "    best_attributes3 = json.load(f)\n",
        "\n",
        "print(best_attributes)\n",
        "print(best_attributes2)\n",
        "print(best_attributes3)\n",
        "\n",
        "best_templates = {}\n",
        "best_templates2 = {}\n",
        "best_templates3 = {}\n",
        "\n",
        "for i in range(0,10) :\n",
        "\n",
        "  best_templates[cifar10.classes[i]] = [f\"a photo of a {cifar10.classes[i]} because of {best_attributes[cifar10.classes[i]]}\"]\n",
        "  best_templates2[cifar10.classes[i]] = [f\"a photo of a {cifar10.classes[i]} because of {best_attributes[cifar10.classes[i]]} and {best_attributes2[cifar10.classes[i]]}\"]\n",
        "  best_templates3[cifar10.classes[i]] = [f\"a photo of a {cifar10.classes[i]} because of {best_attributes[cifar10.classes[i]]} and {best_attributes2[cifar10.classes[i]]} and {best_attributes3[cifar10.classes[i]]}\"]\n",
        "\n",
        "print(best_templates)\n",
        "print(best_templates2)\n",
        "print(best_templates3)\n",
        "\n",
        "for i in range(10) :\n",
        "  print('Class : ', cifar10.classes[i])\n",
        "  print()\n",
        "  print('1 attributs :')\n",
        "  get_results_for_classe(i, best_templates)\n",
        "  print('2 attributs :')\n",
        "  get_results_for_classe(i, best_templates2)\n",
        "  print('3 attributs :')\n",
        "  get_results_for_classe(i, best_templates3)"
      ],
      "metadata": {
        "id": "zFuq9w5lyqnq",
        "colab": {
          "base_uri": "https://localhost:8080/"
        },
        "outputId": "5c7944dc-e520-4966-9f1f-b6bea162710a"
      },
      "execution_count": null,
      "outputs": [
        {
          "output_type": "stream",
          "name": "stdout",
          "text": [
            "{'airplane': 'long', 'automobile': 'four-door', 'bird': 'beak shape', 'cat': 'fur_color', 'deer': 'long tail', 'dog': 'fur_color', 'frog': 'webbed feet', 'horse': 'coat_color', 'ship': 'Horizontal stripes', 'truck': 'Rectangular shape'}\n",
            "{'airplane': 'tail-finned', 'automobile': 'sporty design', 'bird': 'tail length', 'cat': 'whiskers_length', 'deer': 'large ears', 'dog': 'tail_curl', 'frog': 'large eyes', 'horse': 'mane_length', 'ship': 'Square sails', 'truck': 'Paint color'}\n",
            "{'airplane': 'fuselage-long', 'automobile': 'Four wheels', 'bird': 'feather color', 'cat': 'ear_shape', 'deer': 'spotted coat', 'dog': 'eye_shape', 'frog': 'long tongue', 'horse': 'long_ears', 'ship': 'white deck', 'truck': 'Headlight shape'}\n",
            "{'airplane': ['a photo of a airplane because of long'], 'automobile': ['a photo of a automobile because of four-door'], 'bird': ['a photo of a bird because of beak shape'], 'cat': ['a photo of a cat because of fur_color'], 'deer': ['a photo of a deer because of long tail'], 'dog': ['a photo of a dog because of fur_color'], 'frog': ['a photo of a frog because of webbed feet'], 'horse': ['a photo of a horse because of coat_color'], 'ship': ['a photo of a ship because of Horizontal stripes'], 'truck': ['a photo of a truck because of Rectangular shape']}\n",
            "{'airplane': ['a photo of a airplane because of long and tail-finned'], 'automobile': ['a photo of a automobile because of four-door and sporty design'], 'bird': ['a photo of a bird because of beak shape and tail length'], 'cat': ['a photo of a cat because of fur_color and whiskers_length'], 'deer': ['a photo of a deer because of long tail and large ears'], 'dog': ['a photo of a dog because of fur_color and tail_curl'], 'frog': ['a photo of a frog because of webbed feet and large eyes'], 'horse': ['a photo of a horse because of coat_color and mane_length'], 'ship': ['a photo of a ship because of Horizontal stripes and Square sails'], 'truck': ['a photo of a truck because of Rectangular shape and Paint color']}\n",
            "{'airplane': ['a photo of a airplane because of long and tail-finned and fuselage-long'], 'automobile': ['a photo of a automobile because of four-door and sporty design and Four wheels'], 'bird': ['a photo of a bird because of beak shape and tail length and feather color'], 'cat': ['a photo of a cat because of fur_color and whiskers_length and ear_shape'], 'deer': ['a photo of a deer because of long tail and large ears and spotted coat'], 'dog': ['a photo of a dog because of fur_color and tail_curl and eye_shape'], 'frog': ['a photo of a frog because of webbed feet and large eyes and long tongue'], 'horse': ['a photo of a horse because of coat_color and mane_length and long_ears'], 'ship': ['a photo of a ship because of Horizontal stripes and Square sails and white deck'], 'truck': ['a photo of a truck because of Rectangular shape and Paint color and Headlight shape']}\n",
            "Class :  airplane\n",
            "\n",
            "1 attributs :\n"
          ]
        },
        {
          "output_type": "stream",
          "name": "stderr",
          "text": [
            "100%|██████████| 10/10 [00:00<00:00, 62.57it/s]\n",
            "  0%|          | 0/10000 [00:00<?, ?it/s]<ipython-input-21-07f05e45ae7b>:4: DeprecationWarning: Conversion of an array with ndim > 0 to a scalar is deprecated, and will error in future. Ensure you extract a single element from your array before performing this operation. (Deprecated NumPy 1.25.)\n",
            "  return [float(correct[:k].reshape(-1).float().sum(0, keepdim=True).cpu().numpy()) for k in topk]\n",
            "100%|██████████| 10000/10000 [00:35<00:00, 279.57it/s]\n"
          ]
        },
        {
          "output_type": "stream",
          "name": "stdout",
          "text": [
            "\n",
            "Top-1 accuracy for airplane: 82.30\n",
            "2 attributs :\n"
          ]
        },
        {
          "output_type": "stream",
          "name": "stderr",
          "text": [
            "100%|██████████| 10/10 [00:00<00:00, 69.02it/s]\n",
            "100%|██████████| 10000/10000 [00:28<00:00, 355.27it/s]\n"
          ]
        },
        {
          "output_type": "stream",
          "name": "stdout",
          "text": [
            "\n",
            "Top-1 accuracy for airplane: 90.10\n",
            "3 attributs :\n"
          ]
        },
        {
          "output_type": "stream",
          "name": "stderr",
          "text": [
            "100%|██████████| 10/10 [00:00<00:00, 95.48it/s]\n",
            "100%|██████████| 10000/10000 [00:29<00:00, 342.80it/s]\n"
          ]
        },
        {
          "output_type": "stream",
          "name": "stdout",
          "text": [
            "\n",
            "Top-1 accuracy for airplane: 95.20\n",
            "Class :  automobile\n",
            "\n",
            "1 attributs :\n"
          ]
        },
        {
          "output_type": "stream",
          "name": "stderr",
          "text": [
            "100%|██████████| 10/10 [00:00<00:00, 105.41it/s]\n",
            "100%|██████████| 10000/10000 [00:27<00:00, 367.22it/s]\n"
          ]
        },
        {
          "output_type": "stream",
          "name": "stdout",
          "text": [
            "\n",
            "Top-1 accuracy for automobile: 68.40\n",
            "2 attributs :\n"
          ]
        },
        {
          "output_type": "stream",
          "name": "stderr",
          "text": [
            "100%|██████████| 10/10 [00:00<00:00, 103.53it/s]\n",
            "100%|██████████| 10000/10000 [00:27<00:00, 362.36it/s]\n"
          ]
        },
        {
          "output_type": "stream",
          "name": "stdout",
          "text": [
            "\n",
            "Top-1 accuracy for automobile: 81.90\n",
            "3 attributs :\n"
          ]
        },
        {
          "output_type": "stream",
          "name": "stderr",
          "text": [
            "100%|██████████| 10/10 [00:00<00:00, 103.80it/s]\n",
            "100%|██████████| 10000/10000 [00:27<00:00, 360.71it/s]\n"
          ]
        },
        {
          "output_type": "stream",
          "name": "stdout",
          "text": [
            "\n",
            "Top-1 accuracy for automobile: 86.50\n",
            "Class :  bird\n",
            "\n",
            "1 attributs :\n"
          ]
        },
        {
          "output_type": "stream",
          "name": "stderr",
          "text": [
            "100%|██████████| 10/10 [00:00<00:00, 104.51it/s]\n",
            "100%|██████████| 10000/10000 [00:32<00:00, 306.18it/s]\n"
          ]
        },
        {
          "output_type": "stream",
          "name": "stdout",
          "text": [
            "\n",
            "Top-1 accuracy for bird: 77.80\n",
            "2 attributs :\n"
          ]
        },
        {
          "output_type": "stream",
          "name": "stderr",
          "text": [
            "100%|██████████| 10/10 [00:00<00:00, 101.99it/s]\n",
            "100%|██████████| 10000/10000 [00:27<00:00, 357.77it/s]\n"
          ]
        },
        {
          "output_type": "stream",
          "name": "stdout",
          "text": [
            "\n",
            "Top-1 accuracy for bird: 71.70\n",
            "3 attributs :\n"
          ]
        },
        {
          "output_type": "stream",
          "name": "stderr",
          "text": [
            "100%|██████████| 10/10 [00:00<00:00, 102.00it/s]\n",
            "100%|██████████| 10000/10000 [00:27<00:00, 358.63it/s]\n"
          ]
        },
        {
          "output_type": "stream",
          "name": "stdout",
          "text": [
            "\n",
            "Top-1 accuracy for bird: 67.80\n",
            "Class :  cat\n",
            "\n",
            "1 attributs :\n"
          ]
        },
        {
          "output_type": "stream",
          "name": "stderr",
          "text": [
            "100%|██████████| 10/10 [00:00<00:00, 100.10it/s]\n",
            "100%|██████████| 10000/10000 [00:27<00:00, 369.42it/s]\n"
          ]
        },
        {
          "output_type": "stream",
          "name": "stdout",
          "text": [
            "\n",
            "Top-1 accuracy for cat: 73.10\n",
            "2 attributs :\n"
          ]
        },
        {
          "output_type": "stream",
          "name": "stderr",
          "text": [
            "100%|██████████| 10/10 [00:00<00:00, 108.35it/s]\n",
            "100%|██████████| 10000/10000 [00:28<00:00, 352.91it/s]\n"
          ]
        },
        {
          "output_type": "stream",
          "name": "stdout",
          "text": [
            "\n",
            "Top-1 accuracy for cat: 78.30\n",
            "3 attributs :\n"
          ]
        },
        {
          "output_type": "stream",
          "name": "stderr",
          "text": [
            "100%|██████████| 10/10 [00:00<00:00, 105.97it/s]\n",
            "100%|██████████| 10000/10000 [00:27<00:00, 368.59it/s]\n"
          ]
        },
        {
          "output_type": "stream",
          "name": "stdout",
          "text": [
            "\n",
            "Top-1 accuracy for cat: 74.40\n",
            "Class :  deer\n",
            "\n",
            "1 attributs :\n"
          ]
        },
        {
          "output_type": "stream",
          "name": "stderr",
          "text": [
            "100%|██████████| 10/10 [00:00<00:00, 93.02it/s]\n",
            "100%|██████████| 10000/10000 [00:27<00:00, 360.46it/s]\n"
          ]
        },
        {
          "output_type": "stream",
          "name": "stdout",
          "text": [
            "\n",
            "Top-1 accuracy for deer: 66.50\n",
            "2 attributs :\n"
          ]
        },
        {
          "output_type": "stream",
          "name": "stderr",
          "text": [
            "100%|██████████| 10/10 [00:00<00:00, 91.03it/s]\n",
            "100%|██████████| 10000/10000 [00:27<00:00, 362.63it/s]\n"
          ]
        },
        {
          "output_type": "stream",
          "name": "stdout",
          "text": [
            "\n",
            "Top-1 accuracy for deer: 52.90\n",
            "3 attributs :\n"
          ]
        },
        {
          "output_type": "stream",
          "name": "stderr",
          "text": [
            "100%|██████████| 10/10 [00:00<00:00, 103.53it/s]\n",
            "100%|██████████| 10000/10000 [00:28<00:00, 355.66it/s]\n"
          ]
        },
        {
          "output_type": "stream",
          "name": "stdout",
          "text": [
            "\n",
            "Top-1 accuracy for deer: 49.50\n",
            "Class :  dog\n",
            "\n",
            "1 attributs :\n"
          ]
        },
        {
          "output_type": "stream",
          "name": "stderr",
          "text": [
            "100%|██████████| 10/10 [00:00<00:00, 78.84it/s]\n",
            "100%|██████████| 10000/10000 [00:28<00:00, 354.61it/s]\n"
          ]
        },
        {
          "output_type": "stream",
          "name": "stdout",
          "text": [
            "\n",
            "Top-1 accuracy for dog: 66.70\n",
            "2 attributs :\n"
          ]
        },
        {
          "output_type": "stream",
          "name": "stderr",
          "text": [
            "100%|██████████| 10/10 [00:00<00:00, 104.93it/s]\n",
            "100%|██████████| 10000/10000 [00:27<00:00, 359.85it/s]\n"
          ]
        },
        {
          "output_type": "stream",
          "name": "stdout",
          "text": [
            "\n",
            "Top-1 accuracy for dog: 53.80\n",
            "3 attributs :\n"
          ]
        },
        {
          "output_type": "stream",
          "name": "stderr",
          "text": [
            "100%|██████████| 10/10 [00:00<00:00, 92.35it/s]\n",
            "100%|██████████| 10000/10000 [00:26<00:00, 371.98it/s]\n"
          ]
        },
        {
          "output_type": "stream",
          "name": "stdout",
          "text": [
            "\n",
            "Top-1 accuracy for dog: 58.40\n",
            "Class :  frog\n",
            "\n",
            "1 attributs :\n"
          ]
        },
        {
          "output_type": "stream",
          "name": "stderr",
          "text": [
            "100%|██████████| 10/10 [00:00<00:00, 93.41it/s]\n",
            "100%|██████████| 10000/10000 [00:26<00:00, 374.00it/s]\n"
          ]
        },
        {
          "output_type": "stream",
          "name": "stdout",
          "text": [
            "\n",
            "Top-1 accuracy for frog: 34.70\n",
            "2 attributs :\n"
          ]
        },
        {
          "output_type": "stream",
          "name": "stderr",
          "text": [
            "100%|██████████| 10/10 [00:00<00:00, 103.73it/s]\n",
            "100%|██████████| 10000/10000 [00:26<00:00, 373.18it/s]\n"
          ]
        },
        {
          "output_type": "stream",
          "name": "stdout",
          "text": [
            "\n",
            "Top-1 accuracy for frog: 29.40\n",
            "3 attributs :\n"
          ]
        },
        {
          "output_type": "stream",
          "name": "stderr",
          "text": [
            "100%|██████████| 10/10 [00:00<00:00, 104.49it/s]\n",
            "100%|██████████| 10000/10000 [00:28<00:00, 355.34it/s]\n"
          ]
        },
        {
          "output_type": "stream",
          "name": "stdout",
          "text": [
            "\n",
            "Top-1 accuracy for frog: 32.30\n",
            "Class :  horse\n",
            "\n",
            "1 attributs :\n"
          ]
        },
        {
          "output_type": "stream",
          "name": "stderr",
          "text": [
            "100%|██████████| 10/10 [00:00<00:00, 84.02it/s]\n",
            "100%|██████████| 10000/10000 [00:27<00:00, 366.25it/s]\n"
          ]
        },
        {
          "output_type": "stream",
          "name": "stdout",
          "text": [
            "\n",
            "Top-1 accuracy for horse: 81.40\n",
            "2 attributs :\n"
          ]
        },
        {
          "output_type": "stream",
          "name": "stderr",
          "text": [
            "100%|██████████| 10/10 [00:00<00:00, 98.79it/s]\n",
            "100%|██████████| 10000/10000 [00:27<00:00, 365.66it/s]\n"
          ]
        },
        {
          "output_type": "stream",
          "name": "stdout",
          "text": [
            "\n",
            "Top-1 accuracy for horse: 87.70\n",
            "3 attributs :\n"
          ]
        },
        {
          "output_type": "stream",
          "name": "stderr",
          "text": [
            "100%|██████████| 10/10 [00:00<00:00, 97.36it/s]\n",
            "100%|██████████| 10000/10000 [00:27<00:00, 361.55it/s]\n"
          ]
        },
        {
          "output_type": "stream",
          "name": "stdout",
          "text": [
            "\n",
            "Top-1 accuracy for horse: 91.80\n",
            "Class :  ship\n",
            "\n",
            "1 attributs :\n"
          ]
        },
        {
          "output_type": "stream",
          "name": "stderr",
          "text": [
            "100%|██████████| 10/10 [00:00<00:00, 73.96it/s]\n",
            "100%|██████████| 10000/10000 [00:28<00:00, 353.17it/s]\n"
          ]
        },
        {
          "output_type": "stream",
          "name": "stdout",
          "text": [
            "\n",
            "Top-1 accuracy for ship: 85.70\n",
            "2 attributs :\n"
          ]
        },
        {
          "output_type": "stream",
          "name": "stderr",
          "text": [
            "100%|██████████| 10/10 [00:00<00:00, 102.05it/s]\n",
            "100%|██████████| 10000/10000 [00:26<00:00, 373.68it/s]\n"
          ]
        },
        {
          "output_type": "stream",
          "name": "stdout",
          "text": [
            "\n",
            "Top-1 accuracy for ship: 77.90\n",
            "3 attributs :\n"
          ]
        },
        {
          "output_type": "stream",
          "name": "stderr",
          "text": [
            "100%|██████████| 10/10 [00:00<00:00, 89.32it/s]\n",
            "100%|██████████| 10000/10000 [00:26<00:00, 375.80it/s]\n"
          ]
        },
        {
          "output_type": "stream",
          "name": "stdout",
          "text": [
            "\n",
            "Top-1 accuracy for ship: 65.70\n",
            "Class :  truck\n",
            "\n",
            "1 attributs :\n"
          ]
        },
        {
          "output_type": "stream",
          "name": "stderr",
          "text": [
            "100%|██████████| 10/10 [00:00<00:00, 103.63it/s]\n",
            "100%|██████████| 10000/10000 [00:26<00:00, 374.89it/s]\n"
          ]
        },
        {
          "output_type": "stream",
          "name": "stdout",
          "text": [
            "\n",
            "Top-1 accuracy for truck: 92.50\n",
            "2 attributs :\n"
          ]
        },
        {
          "output_type": "stream",
          "name": "stderr",
          "text": [
            "100%|██████████| 10/10 [00:00<00:00, 108.51it/s]\n",
            "100%|██████████| 10000/10000 [00:27<00:00, 367.05it/s]\n"
          ]
        },
        {
          "output_type": "stream",
          "name": "stdout",
          "text": [
            "\n",
            "Top-1 accuracy for truck: 83.80\n",
            "3 attributs :\n"
          ]
        },
        {
          "output_type": "stream",
          "name": "stderr",
          "text": [
            "100%|██████████| 10/10 [00:00<00:00, 103.52it/s]\n",
            "100%|██████████| 10000/10000 [00:27<00:00, 362.48it/s]"
          ]
        },
        {
          "output_type": "stream",
          "name": "stdout",
          "text": [
            "\n",
            "Top-1 accuracy for truck: 75.10\n"
          ]
        },
        {
          "output_type": "stream",
          "name": "stderr",
          "text": [
            "\n"
          ]
        }
      ]
    },
    {
      "cell_type": "code",
      "source": [
        "from google.colab import drive\n",
        "import json\n",
        "import os\n",
        "\n",
        "# Mount Google Drive\n",
        "drive.mount('/content/drive')\n",
        "\n",
        "file_path = '/content/drive/MyDrive/TRIED/ProjetLong/best_attributes.json'\n",
        "with open(file_path, 'r') as f:\n",
        "    best_attributes = json.load(f)\n",
        "\n",
        "file_path = '/content/drive/MyDrive/TRIED/ProjetLong/best_attributes2.json'\n",
        "with open(file_path, 'r') as f:\n",
        "    best_attributes2 = json.load(f)\n",
        "\n",
        "file_path = '/content/drive/MyDrive/TRIED/ProjetLong/best_attributes3.json'\n",
        "with open(file_path, 'r') as f:\n",
        "    best_attributes3 = json.load(f)\n",
        "\n",
        "templates_last_test = {}\n",
        "\n",
        "templates_last_test['airplane'] = [f\"a photo of a airplane because of {best_attributes['airplane']} and {best_attributes2['airplane']} and {best_attributes3['airplane']}\"]\n",
        "templates_last_test['automobile'] = [f\"a photo of a automobile\"]\n",
        "templates_last_test['bird'] = [f\"a photo of a bird\"]\n",
        "templates_last_test['cat'] = [f\"a photo of a cat because of {best_attributes['cat']} and {best_attributes2['cat']}\"]\n",
        "templates_last_test['deer'] = [f\"a photo of a deer because of {best_attributes['deer']}\"]\n",
        "templates_last_test['dog'] = [f\"a photo of a dog\"]\n",
        "templates_last_test['frog'] = [f\"a photo of a frog because of {best_attributes['frog']}\"]\n",
        "templates_last_test['horse'] = [f\"a photo of a horse because of {best_attributes['horse']} and {best_attributes2['horse']} and {best_attributes3['horse']}\"]\n",
        "templates_last_test['ship'] = [f\"a photo of a ship because of {best_attributes['ship']}\"]\n",
        "templates_last_test['truck'] = [f\"a photo of a truck because of {best_attributes['truck']}\"]\n",
        "\n",
        "print(templates_last_test)"
      ],
      "metadata": {
        "colab": {
          "base_uri": "https://localhost:8080/"
        },
        "id": "qtjpZf3B1YGW",
        "outputId": "fcb25910-cc5d-449d-fcfd-569c38b1d2f8"
      },
      "execution_count": null,
      "outputs": [
        {
          "output_type": "stream",
          "name": "stdout",
          "text": [
            "Mounted at /content/drive\n",
            "{'airplane': ['a photo of a airplane because of long and tail-finned and fuselage-long'], 'automobile': ['a photo of a automobile'], 'bird': ['a photo of a bird'], 'cat': ['a photo of a cat because of fur_color and whiskers_length'], 'deer': ['a photo of a deer because of long tail'], 'dog': ['a photo of a dog'], 'frog': ['a photo of a frog because of webbed feet'], 'horse': ['a photo of a horse because of coat_color and mane_length and long_ears'], 'ship': ['a photo of a ship because of Horizontal stripes'], 'truck': ['a photo of a truck because of Rectangular shape']}\n"
          ]
        }
      ]
    },
    {
      "cell_type": "code",
      "source": [
        "import tqdm\n",
        "\n",
        "zeroshot_weights = zeroshot_classifier_with_attributes(cifar10.classes, templates_last_test)\n",
        "\n",
        "with torch.no_grad():\n",
        "  top1, top5, n = 0., 0., 0.\n",
        "  for i, (images, target) in enumerate(tqdm.tqdm(data_loader)):\n",
        "    images = images.cuda()\n",
        "    target = target.cuda()\n",
        "\n",
        "    # predict\n",
        "    image_features = model.encode_image(images)\n",
        "    image_features /= image_features.norm(dim=-1, keepdim=True)\n",
        "\n",
        "    # measure accuracy\n",
        "    logits = 100. * image_features @ zeroshot_weights\n",
        "    acc1, acc5 = accuracy(logits, target, topk=(1, 5))\n",
        "    top1 += acc1\n",
        "    top5 += acc5\n",
        "\n",
        "    n += images.size(0)\n",
        "\n",
        "top1 = (top1 / n) * 100\n",
        "top5 = (top5 / n) * 100\n",
        "\n",
        "print()\n",
        "print(f\"Top-1 accuracy: {top1:.2f}\")\n",
        "print(f\"Top-5 accuracy: {top5:.2f}\")"
      ],
      "metadata": {
        "colab": {
          "base_uri": "https://localhost:8080/"
        },
        "id": "oF2fTRGk2rLl",
        "outputId": "2c80f67f-4b10-4406-f93c-bacc97d18a4e"
      },
      "execution_count": null,
      "outputs": [
        {
          "output_type": "stream",
          "name": "stderr",
          "text": [
            "100%|██████████| 10/10 [00:00<00:00, 59.44it/s]\n",
            "  0%|          | 0/10000 [00:00<?, ?it/s]<ipython-input-18-3821fb981e91>:4: DeprecationWarning: Conversion of an array with ndim > 0 to a scalar is deprecated, and will error in future. Ensure you extract a single element from your array before performing this operation. (Deprecated NumPy 1.25.)\n",
            "  return [float(correct[:k].reshape(-1).float().sum(0, keepdim=True).cpu().numpy()) for k in topk]\n",
            "100%|██████████| 10000/10000 [02:02<00:00, 81.82it/s]"
          ]
        },
        {
          "output_type": "stream",
          "name": "stdout",
          "text": [
            "\n",
            "Top-1 accuracy: 63.79\n",
            "Top-5 accuracy: 96.89\n"
          ]
        },
        {
          "output_type": "stream",
          "name": "stderr",
          "text": [
            "\n"
          ]
        }
      ]
    },
    {
      "cell_type": "markdown",
      "source": [
        "## Autre méthode: Sélection des attributs selon la proximité des embedding"
      ],
      "metadata": {
        "id": "gC2F-rMrgWJy"
      }
    },
    {
      "cell_type": "code",
      "source": [
        "import seaborn as sns\n",
        "import matplotlib.pyplot as plt\n",
        "import torch\n",
        "import clip # Make sure clip is imported\n",
        "\n",
        "device = \"cuda\" if torch.cuda.is_available() else \"cpu\"\n",
        "\n",
        "\n",
        "def get_attributes10(classname, existing_attributes = None):\n",
        "    if existing_attributes is None:\n",
        "      prompt = (\n",
        "          f\"Please generate ten visual features that describe any {classname} in the world. \"\n",
        "          \"Each feature should be a single word or a very short phrase (max 3 words). \"\n",
        "          \"Provide the answer in strict JSON format with keys \\\"feature1\\\", \\\"feature2\\\", ..., \\\"feature10\\\", \"\n",
        "          \"where the values are actual descriptions (for example, \\\"brown\\\" or \\\"furry\\\"). \"\n",
        "          \"Do not include any additional text.\"\n",
        "      )\n",
        "    else :\n",
        "      prompt = (\n",
        "          f\"Please generate ten visual features that describe any {classname} in the world, excluding the following features: {', '.join(existing_attributes)}. \"\n",
        "          \"Each feature should be a single word or a very short phrase (max 3 words). \"\n",
        "          \"Provide the answer in strict JSON format with keys \\\"feature1\\\", \\\"feature2\\\", ..., \\\"feature10\\\", \"\n",
        "          \"where the values are actual descriptions (for example, \\\"brown\\\" or \\\"furry\\\"). \"\n",
        "          \"Do not include any additional text.\"\n",
        "      )\n",
        "\n",
        "    inputs = tokenizer(prompt, return_tensors=\"pt\").to(model_llm.device)\n",
        "    outputs = model_llm.generate(**inputs, max_new_tokens=200)\n",
        "    generated_text = tokenizer.decode(outputs[0], skip_special_tokens=True)\n",
        "\n",
        "    try:\n",
        "        # Extract attributes from the generated text\n",
        "        json_match = re.search(r'\\{.*\\}', generated_text, re.DOTALL)\n",
        "        if json_match:\n",
        "            json_text = json_match.group(0)\n",
        "            attributes_dict = json.loads(json_text)\n",
        "\n",
        "            # Check if all keys are present\n",
        "            expected_keys = [f\"feature{i}\" for i in range(1, 11)]\n",
        "            if all(key in attributes_dict for key in expected_keys):\n",
        "                attributes = [attributes_dict[key] for key in expected_keys]\n",
        "                return attributes\n",
        "            else:\n",
        "                raise ValueError(\"Missing or incorrect JSON keys\")\n",
        "        else:\n",
        "            # Fallback if no JSON is found\n",
        "            parts = generated_text.split(',')\n",
        "            if len(parts) >= 10:\n",
        "                attributes = [part.strip() for part in parts[:10]]\n",
        "                return attributes\n",
        "\n",
        "        # Fallback in case of errors\n",
        "        print(f\"Using fallback for '{classname}'\")\n",
        "        return [\"unknown_feature\"] * 10  # Return a list of 10 unknown features\n",
        "\n",
        "    except (json.JSONDecodeError, ValueError) as e:\n",
        "        print(f\"Error processing generated text for '{classname}': {e}\")\n",
        "        return [\"unknown_feature\"] * 10\n",
        "\n",
        "# Adaptation de la fonction plot_attribute_importance\n",
        "def plot_attribute_importance(attributes, importance_scores, classname):\n",
        "    plt.figure(figsize=(10, 6))\n",
        "    sns.barplot(x=attributes, y=importance_scores)\n",
        "    plt.xlabel(\"Attributes\")\n",
        "    plt.ylabel(\"Importance (Cosine Similarity)\")\n",
        "    plt.title(f\"Attribute Importance for Class '{classname}' in Zero-Shot Classification\")\n",
        "    plt.xticks(rotation=45, ha='right', fontsize=8)  # Adjust rotation and font size for better visibility\n",
        "    plt.tight_layout()  # Adjust layout to prevent labels from overlapping\n",
        "    plt.show()\n",
        "\n",
        "# Define the missing function:\n",
        "def extract_token_embedding(attribute):\n",
        "    tokens = clip.tokenize([attribute]).to(device)\n",
        "    with torch.no_grad():\n",
        "        token_embedding = model.encode_text(tokens)  # Get full-text embedding for the attribute\n",
        "    return token_embedding.to(torch.float32)  # Ensure float32 consistency\n",
        "\n",
        "# You'll also likely need to define compute_attribute_importance if it's not already defined:\n",
        "def compute_attribute_importance(attribute_embeddings, class_embedding):\n",
        "    class_embedding /= class_embedding.norm(dim=-1, keepdim=True)  # Normalize class embedding\n",
        "    importance_scores = []\n",
        "    for attr_embedding in attribute_embeddings:\n",
        "        attr_embedding /= attr_embedding.norm(dim=-1, keepdim=True)  # Normalize attribute embedding\n",
        "        similarity = torch.nn.functional.cosine_similarity(class_embedding, attr_embedding)  # Calculate cosine similarity\n",
        "        importance_scores.append(similarity)\n",
        "    return importance_scores\n",
        "\n"
      ],
      "metadata": {
        "id": "QVKvWq0KtNGT"
      },
      "execution_count": null,
      "outputs": []
    },
    {
      "cell_type": "code",
      "source": [
        "most_similar1 = {}\n",
        "most_similar2 = {}\n",
        "most_similar3 = {}\n",
        "classname = 'airplane'\n",
        "attributes = get_attributes10(classname)\n",
        "attribute_embeddings = [extract_token_embedding(attr) for attr in attributes]\n",
        "class_embedding = extract_token_embedding(classname)\n",
        "importance_scores = compute_attribute_importance(attribute_embeddings, class_embedding)\n",
        "importance_scores = [score.item() for score in importance_scores]\n",
        "plot_attribute_importance(attributes, importance_scores, classname)\n",
        "most_similar1[classname] = attributes[importance_scores.index(max(importance_scores))]\n",
        "most_similar2[classname] = attributes[importance_scores.index(sorted(importance_scores)[-2])]\n",
        "most_similar3[classname] = attributes[importance_scores.index(sorted(importance_scores)[-3])]\n",
        "print(f\"Most similar attributes for {classname}: {most_similar1[classname]}, {most_similar2[classname]}, {most_similar3[classname]}\")"
      ],
      "metadata": {
        "colab": {
          "base_uri": "https://localhost:8080/",
          "height": 545
        },
        "id": "Lmr4r6kB6RIH",
        "outputId": "c464f23c-359d-4e8c-8dd7-ec4d534488f9"
      },
      "execution_count": null,
      "outputs": [
        {
          "output_type": "stream",
          "name": "stderr",
          "text": [
            "Setting `pad_token_id` to `eos_token_id`:2 for open-end generation.\n"
          ]
        },
        {
          "output_type": "display_data",
          "data": {
            "text/plain": [
              "<Figure size 1000x600 with 1 Axes>"
            ],
            "image/png": "[encoded data removed]"
          },
          "metadata": {}
        },
        {
          "output_type": "stream",
          "name": "stdout",
          "text": [
            "Most similar attributes for airplane: two wings, landing gear, pressurized cabin\n"
          ]
        }
      ]
    },
    {
      "cell_type": "code",
      "source": [
        "print(attributes)\n",
        "print(importance_scores)"
      ],
      "metadata": {
        "colab": {
          "base_uri": "https://localhost:8080/"
        },
        "id": "5iz_c_vi8R2g",
        "outputId": "4f39f561-6a75-47e3-cb6b-076dac6ba2c2"
      },
      "execution_count": null,
      "outputs": [
        {
          "output_type": "stream",
          "name": "stdout",
          "text": [
            "['metallic body', 'two wings', 'tail fin', 'propeller or jet engine', 'cockpit', 'landing gear', 'pressurized cabin', 'seat rows', 'emergency exits', 'navigation lights']\n",
            "[0.6961856484413147, 0.7647085189819336, 0.7044867873191833, 0.6804516315460205, 0.6935297846794128, 0.7601166367530823, 0.7468100786209106, 0.6979128122329712, 0.7038722634315491, 0.6881526708602905]\n"
          ]
        }
      ]
    },
    {
      "cell_type": "code",
      "source": [
        "# Boucle pour afficher le graphique pour chaque classe\n",
        "most_similar1 = {}\n",
        "most_similar2 = {}\n",
        "most_similar3 = {}\n",
        "for classname in cifar10.classes:\n",
        "    attributes = get_attributes10(classname)\n",
        "    attribute_embeddings = [extract_token_embedding(attr) for attr in attributes]\n",
        "    class_embedding = extract_token_embedding(classname)\n",
        "    importance_scores = compute_attribute_importance(attribute_embeddings, class_embedding)\n",
        "    importance_scores = [score.item() for score in importance_scores]\n",
        "    plot_attribute_importance(attributes, importance_scores, classname)\n",
        "    most_similar1[classname] = attributes[importance_scores.index(max(importance_scores))]\n",
        "    most_similar2[classname] = attributes[importance_scores.index(sorted(importance_scores)[-2])]\n",
        "    most_similar3[classname] = attributes[importance_scores.index(sorted(importance_scores)[-3])]\n",
        "    print(f\"Most similar attributes for {classname}: {most_similar1[classname]}, {most_similar2[classname]}, {most_similar3[classname]}\")"
      ],
      "metadata": {
        "id": "oJmeCubGtb1r"
      },
      "execution_count": null,
      "outputs": []
    },
    {
      "cell_type": "markdown",
      "source": [
        "#### Pour 1 attribut"
      ],
      "metadata": {
        "id": "sz5MippHO9Xy"
      }
    },
    {
      "cell_type": "code",
      "source": [
        "templates_most_similar1 = {}\n",
        "for classe in cifar10.classes:\n",
        "  templates_most_similar1[classe] = [f\"a photo of a {classe} because of {most_similar1[classe]}\"]\n",
        "\n",
        "zeroshot_weights = zeroshot_classifier_with_attributes(cifar10.classes, templates_most_similar1)\n",
        "\n",
        "with torch.no_grad():\n",
        "  top1, top5, n = 0., 0., 0.\n",
        "  for i, (images, target) in enumerate(tqdm.tqdm(data_loader)):\n",
        "    images = images.cuda()\n",
        "    target = target.cuda()\n",
        "\n",
        "    # predict\n",
        "    image_features = model.encode_image(images)\n",
        "    image_features /= image_features.norm(dim=-1, keepdim=True)\n",
        "\n",
        "    # measure accuracy\n",
        "    logits = 100. * image_features @ zeroshot_weights\n",
        "    acc1, acc5 = accuracy(logits, target, topk=(1, 5))\n",
        "    top1 += acc1\n",
        "    top5 += acc5\n",
        "\n",
        "    n += images.size(0)\n",
        "\n",
        "top1 = (top1 / n) * 100\n",
        "top5 = (top5 / n) * 100\n",
        "\n",
        "print()\n",
        "print(f\"Top-1 accuracy: {top1:.2f}\")\n",
        "print(f\"Top-5 accuracy: {top5:.2f}\")\n"
      ],
      "metadata": {
        "id": "RRqfpOBvMBh2"
      },
      "execution_count": null,
      "outputs": []
    },
    {
      "cell_type": "markdown",
      "source": [
        "#### Pour 2 attributs :"
      ],
      "metadata": {
        "id": "dVa1ObWyPijP"
      }
    },
    {
      "cell_type": "code",
      "source": [
        "templates_most_similar2 = {}\n",
        "for classe in cifar10.classes:\n",
        "  templates_most_similar2[classe] = [f\"a photo of a {classe} because of {most_similar1[classe]} and {most_similar2[classe]}\"]\n",
        "\n",
        "zeroshot_weights = zeroshot_classifier_with_attributes(cifar10.classes, templates_most_similar2)\n",
        "\n",
        "with torch.no_grad():\n",
        "  top1, top5, n = 0., 0., 0.\n",
        "  for i, (images, target) in enumerate(tqdm.tqdm(data_loader)):\n",
        "    images = images.cuda()\n",
        "    target = target.cuda()\n",
        "\n",
        "    # predict\n",
        "    image_features = model.encode_image(images)\n",
        "    image_features /= image_features.norm(dim=-1, keepdim=True)\n",
        "\n",
        "    # measure accuracy\n",
        "    logits = 100. * image_features @ zeroshot_weights\n",
        "    acc1, acc5 = accuracy(logits, target, topk=(1, 5))\n",
        "    top1 += acc1\n",
        "    top5 += acc5\n",
        "\n",
        "    n += images.size(0)\n",
        "\n",
        "top1 = (top1 / n) * 100\n",
        "top5 = (top5 / n) * 100\n",
        "\n",
        "print()\n",
        "print(f\"Top-1 accuracy: {top1:.2f}\")\n",
        "print(f\"Top-5 accuracy: {top5:.2f}\")\n"
      ],
      "metadata": {
        "id": "YpUq1bvpPkj_"
      },
      "execution_count": null,
      "outputs": []
    },
    {
      "cell_type": "markdown",
      "source": [
        "#### Pour 3 attributs :"
      ],
      "metadata": {
        "id": "WrI_Dct2PzCP"
      }
    },
    {
      "cell_type": "code",
      "source": [
        "templates_most_similar3 = {}\n",
        "for classe in cifar10.classes:\n",
        "  templates_most_similar3[classe] = [f\"a photo of a {classe} because of {most_similar1[classe]}, {most_similar2[classe]} and {most_similar3[classe]}\"]\n",
        "\n",
        "zeroshot_weights = zeroshot_classifier_with_attributes(cifar10.classes, templates_most_similar3)\n",
        "\n",
        "with torch.no_grad():\n",
        "  top1, top5, n = 0., 0., 0.\n",
        "  for i, (images, target) in enumerate(tqdm.tqdm(data_loader)):\n",
        "    images = images.cuda()\n",
        "    target = target.cuda()\n",
        "\n",
        "    # predict\n",
        "    image_features = model.encode_image(images)\n",
        "    image_features /= image_features.norm(dim=-1, keepdim=True)\n",
        "\n",
        "    # measure accuracy\n",
        "    logits = 100. * image_features @ zeroshot_weights\n",
        "    acc1, acc5 = accuracy(logits, target, topk=(1, 5))\n",
        "    top1 += acc1\n",
        "    top5 += acc5\n",
        "\n",
        "    n += images.size(0)\n",
        "\n",
        "top1 = (top1 / n) * 100\n",
        "top5 = (top5 / n) * 100\n",
        "\n",
        "print()\n",
        "print(f\"Top-1 accuracy: {top1:.2f}\")\n",
        "print(f\"Top-5 accuracy: {top5:.2f}\")\n"
      ],
      "metadata": {
        "id": "FvkhrgV0Py1p"
      },
      "execution_count": null,
      "outputs": []
    },
    {
      "cell_type": "code",
      "source": [
        "def get_top_attributes(classname, num_attributes=10):\n",
        "  \"\"\"\n",
        "  Identifies the top attributes for a given class based on cosine similarity.\n",
        "\n",
        "  Args:\n",
        "    classname: The name of the class to find attributes for.\n",
        "    num_attributes: The number of top attributes to find.\n",
        "\n",
        "  Returns:\n",
        "    A list of the top attributes for the class.\n",
        "  \"\"\"\n",
        "  top_attributes = []\n",
        "  existing_attributes = None\n",
        "\n",
        "  for _ in range(num_attributes):\n",
        "    attributes = get_attributes10(classname, existing_attributes)\n",
        "    attribute_embeddings = [extract_token_embedding(attr) for attr in attributes]\n",
        "    class_embedding = extract_token_embedding(classname)\n",
        "    importance_scores = compute_attribute_importance(attribute_embeddings, class_embedding)\n",
        "    importance_scores = [score.item() for score in importance_scores]\n",
        "\n",
        "    best_attribute_index = importance_scores.index(max(importance_scores))\n",
        "    best_attribute = attributes[best_attribute_index]\n",
        "    top_attributes.append(best_attribute)\n",
        "    existing_attributes.append(best_attribute)\n",
        "\n",
        "  return top_attributes\n",
        "\n",
        "top_attributes_lists = {}\n",
        "\n",
        "for classname in cifar10.classes:\n",
        "  top_attributes_lists[classname] = get_top_attributes(classname)\n",
        "\n",
        "top_attributes_lists\n",
        "\n",
        "\n"
      ],
      "metadata": {
        "id": "6OjbuGBiQgWa",
        "colab": {
          "base_uri": "https://localhost:8080/"
        },
        "outputId": "18478558-2219-4c44-c5d8-bbb0c652deac"
      },
      "execution_count": null,
      "outputs": [
        {
          "output_type": "stream",
          "name": "stderr",
          "text": [
            "Setting `pad_token_id` to `eos_token_id`:2 for open-end generation.\n",
            "Setting `pad_token_id` to `eos_token_id`:2 for open-end generation.\n",
            "Setting `pad_token_id` to `eos_token_id`:2 for open-end generation.\n",
            "Setting `pad_token_id` to `eos_token_id`:2 for open-end generation.\n",
            "Setting `pad_token_id` to `eos_token_id`:2 for open-end generation.\n",
            "Setting `pad_token_id` to `eos_token_id`:2 for open-end generation.\n",
            "Setting `pad_token_id` to `eos_token_id`:2 for open-end generation.\n",
            "Setting `pad_token_id` to `eos_token_id`:2 for open-end generation.\n",
            "Setting `pad_token_id` to `eos_token_id`:2 for open-end generation.\n",
            "Setting `pad_token_id` to `eos_token_id`:2 for open-end generation.\n",
            "Setting `pad_token_id` to `eos_token_id`:2 for open-end generation.\n",
            "Setting `pad_token_id` to `eos_token_id`:2 for open-end generation.\n",
            "Setting `pad_token_id` to `eos_token_id`:2 for open-end generation.\n",
            "Setting `pad_token_id` to `eos_token_id`:2 for open-end generation.\n",
            "Setting `pad_token_id` to `eos_token_id`:2 for open-end generation.\n",
            "Setting `pad_token_id` to `eos_token_id`:2 for open-end generation.\n",
            "Setting `pad_token_id` to `eos_token_id`:2 for open-end generation.\n",
            "Setting `pad_token_id` to `eos_token_id`:2 for open-end generation.\n",
            "Setting `pad_token_id` to `eos_token_id`:2 for open-end generation.\n",
            "Setting `pad_token_id` to `eos_token_id`:2 for open-end generation.\n",
            "Setting `pad_token_id` to `eos_token_id`:2 for open-end generation.\n",
            "Setting `pad_token_id` to `eos_token_id`:2 for open-end generation.\n",
            "Setting `pad_token_id` to `eos_token_id`:2 for open-end generation.\n",
            "Setting `pad_token_id` to `eos_token_id`:2 for open-end generation.\n",
            "Setting `pad_token_id` to `eos_token_id`:2 for open-end generation.\n",
            "Setting `pad_token_id` to `eos_token_id`:2 for open-end generation.\n",
            "Setting `pad_token_id` to `eos_token_id`:2 for open-end generation.\n",
            "Setting `pad_token_id` to `eos_token_id`:2 for open-end generation.\n",
            "Setting `pad_token_id` to `eos_token_id`:2 for open-end generation.\n",
            "Setting `pad_token_id` to `eos_token_id`:2 for open-end generation.\n",
            "Setting `pad_token_id` to `eos_token_id`:2 for open-end generation.\n",
            "Setting `pad_token_id` to `eos_token_id`:2 for open-end generation.\n",
            "Setting `pad_token_id` to `eos_token_id`:2 for open-end generation.\n",
            "Setting `pad_token_id` to `eos_token_id`:2 for open-end generation.\n",
            "Setting `pad_token_id` to `eos_token_id`:2 for open-end generation.\n",
            "Setting `pad_token_id` to `eos_token_id`:2 for open-end generation.\n",
            "Setting `pad_token_id` to `eos_token_id`:2 for open-end generation.\n",
            "Setting `pad_token_id` to `eos_token_id`:2 for open-end generation.\n",
            "Setting `pad_token_id` to `eos_token_id`:2 for open-end generation.\n",
            "Setting `pad_token_id` to `eos_token_id`:2 for open-end generation.\n",
            "Setting `pad_token_id` to `eos_token_id`:2 for open-end generation.\n",
            "Setting `pad_token_id` to `eos_token_id`:2 for open-end generation.\n",
            "Setting `pad_token_id` to `eos_token_id`:2 for open-end generation.\n",
            "Setting `pad_token_id` to `eos_token_id`:2 for open-end generation.\n",
            "Setting `pad_token_id` to `eos_token_id`:2 for open-end generation.\n",
            "Setting `pad_token_id` to `eos_token_id`:2 for open-end generation.\n",
            "Setting `pad_token_id` to `eos_token_id`:2 for open-end generation.\n",
            "Setting `pad_token_id` to `eos_token_id`:2 for open-end generation.\n",
            "Setting `pad_token_id` to `eos_token_id`:2 for open-end generation.\n",
            "Setting `pad_token_id` to `eos_token_id`:2 for open-end generation.\n",
            "Setting `pad_token_id` to `eos_token_id`:2 for open-end generation.\n",
            "Setting `pad_token_id` to `eos_token_id`:2 for open-end generation.\n",
            "Setting `pad_token_id` to `eos_token_id`:2 for open-end generation.\n",
            "Setting `pad_token_id` to `eos_token_id`:2 for open-end generation.\n",
            "Setting `pad_token_id` to `eos_token_id`:2 for open-end generation.\n",
            "Setting `pad_token_id` to `eos_token_id`:2 for open-end generation.\n",
            "Setting `pad_token_id` to `eos_token_id`:2 for open-end generation.\n",
            "Setting `pad_token_id` to `eos_token_id`:2 for open-end generation.\n",
            "Setting `pad_token_id` to `eos_token_id`:2 for open-end generation.\n",
            "Setting `pad_token_id` to `eos_token_id`:2 for open-end generation.\n",
            "Setting `pad_token_id` to `eos_token_id`:2 for open-end generation.\n",
            "Setting `pad_token_id` to `eos_token_id`:2 for open-end generation.\n",
            "Setting `pad_token_id` to `eos_token_id`:2 for open-end generation.\n",
            "Setting `pad_token_id` to `eos_token_id`:2 for open-end generation.\n",
            "Setting `pad_token_id` to `eos_token_id`:2 for open-end generation.\n",
            "Setting `pad_token_id` to `eos_token_id`:2 for open-end generation.\n",
            "Setting `pad_token_id` to `eos_token_id`:2 for open-end generation.\n",
            "Setting `pad_token_id` to `eos_token_id`:2 for open-end generation.\n",
            "Setting `pad_token_id` to `eos_token_id`:2 for open-end generation.\n",
            "Setting `pad_token_id` to `eos_token_id`:2 for open-end generation.\n",
            "Setting `pad_token_id` to `eos_token_id`:2 for open-end generation.\n",
            "Setting `pad_token_id` to `eos_token_id`:2 for open-end generation.\n",
            "Setting `pad_token_id` to `eos_token_id`:2 for open-end generation.\n",
            "Setting `pad_token_id` to `eos_token_id`:2 for open-end generation.\n",
            "Setting `pad_token_id` to `eos_token_id`:2 for open-end generation.\n",
            "Setting `pad_token_id` to `eos_token_id`:2 for open-end generation.\n",
            "Setting `pad_token_id` to `eos_token_id`:2 for open-end generation.\n",
            "Setting `pad_token_id` to `eos_token_id`:2 for open-end generation.\n",
            "Setting `pad_token_id` to `eos_token_id`:2 for open-end generation.\n",
            "Setting `pad_token_id` to `eos_token_id`:2 for open-end generation.\n",
            "Setting `pad_token_id` to `eos_token_id`:2 for open-end generation.\n",
            "Setting `pad_token_id` to `eos_token_id`:2 for open-end generation.\n",
            "Setting `pad_token_id` to `eos_token_id`:2 for open-end generation.\n",
            "Setting `pad_token_id` to `eos_token_id`:2 for open-end generation.\n",
            "Setting `pad_token_id` to `eos_token_id`:2 for open-end generation.\n",
            "Setting `pad_token_id` to `eos_token_id`:2 for open-end generation.\n",
            "Setting `pad_token_id` to `eos_token_id`:2 for open-end generation.\n",
            "Setting `pad_token_id` to `eos_token_id`:2 for open-end generation.\n",
            "Setting `pad_token_id` to `eos_token_id`:2 for open-end generation.\n",
            "Setting `pad_token_id` to `eos_token_id`:2 for open-end generation.\n",
            "Setting `pad_token_id` to `eos_token_id`:2 for open-end generation.\n",
            "Setting `pad_token_id` to `eos_token_id`:2 for open-end generation.\n",
            "Setting `pad_token_id` to `eos_token_id`:2 for open-end generation.\n",
            "Setting `pad_token_id` to `eos_token_id`:2 for open-end generation.\n",
            "Setting `pad_token_id` to `eos_token_id`:2 for open-end generation.\n",
            "Setting `pad_token_id` to `eos_token_id`:2 for open-end generation.\n",
            "Setting `pad_token_id` to `eos_token_id`:2 for open-end generation.\n",
            "Setting `pad_token_id` to `eos_token_id`:2 for open-end generation.\n",
            "Setting `pad_token_id` to `eos_token_id`:2 for open-end generation.\n",
            "Setting `pad_token_id` to `eos_token_id`:2 for open-end generation.\n"
          ]
        },
        {
          "output_type": "execute_result",
          "data": {
            "text/plain": [
              "{'airplane': ['two engines',\n",
              "  'winged design',\n",
              "  'landing gear',\n",
              "  'pressurized cabin',\n",
              "  'fuselage',\n",
              "  'cargo hold',\n",
              "  'control surfaces',\n",
              "  'paint scheme',\n",
              "  'hump on fuselage',\n",
              "  'swept-wing'],\n",
              " 'automobile': ['four-door',\n",
              "  'sporty design',\n",
              "  'round headlights',\n",
              "  'keyless entry',\n",
              "  'push-button start',\n",
              "  'adaptive cruise control',\n",
              "  'automatic transmission',\n",
              "  'tinted windows',\n",
              "  'premium audio system',\n",
              "  'dual-zone climate control'],\n",
              " 'bird': ['long beak',\n",
              "  'yellow beak',\n",
              "  'blue wings',\n",
              "  'short beak',\n",
              "  'avian',\n",
              "  'winged',\n",
              "  'bird-song',\n",
              "  'feathered',\n",
              "  'bright eyes',\n",
              "  'songbird'],\n",
              " 'cat': ['white-paws',\n",
              "  'short-tail',\n",
              "  'tri-colored',\n",
              "  'round-paws',\n",
              "  'curled-tail',\n",
              "  'green-eyes',\n",
              "  'muscular-body',\n",
              "  'purring-noise',\n",
              "  'soft-fur',\n",
              "  'blue-eyes'],\n",
              " 'deer': ['hoofed',\n",
              "  'antlers-male',\n",
              "  'spotted',\n",
              "  'graceful',\n",
              "  'dark-eyed',\n",
              "  'white-tail',\n",
              "  'small hooves',\n",
              "  'high-alertness',\n",
              "  'soft-whitetail',\n",
              "  'quick movements'],\n",
              " 'dog': ['wagging tail',\n",
              "  'wet nose',\n",
              "  'spotted',\n",
              "  'hound-like',\n",
              "  'dark-colored',\n",
              "  'short snout',\n",
              "  'rectangular face',\n",
              "  'long hair',\n",
              "  'round eyes',\n",
              "  'floppy ears'],\n",
              " 'frog': ['croaking voice',\n",
              "  'large eyes',\n",
              "  'toad-like appearance',\n",
              "  'green',\n",
              "  'eardrums on inner legs',\n",
              "  'short body',\n",
              "  'tadpole stage',\n",
              "  'pointy snout',\n",
              "  'moist skin',\n",
              "  'smooth skin'],\n",
              " 'horse': ['dark-eyes',\n",
              "  'black tail',\n",
              "  'black mane',\n",
              "  'muscular build',\n",
              "  'large, expressive eyes',\n",
              "  'feathered fetlocks',\n",
              "  'white socks',\n",
              "  'white socks on hind legs',\n",
              "  'white socks on hind legs',\n",
              "  'white socks on hind legs, right'],\n",
              " 'ship': ['large sailing vessel',\n",
              "  'lifeboats',\n",
              "  'steel hull',\n",
              "  'grey hull',\n",
              "  'life raft',\n",
              "  'white superstructure',\n",
              "  'blue hull',\n",
              "  'cargo holds',\n",
              "  'balconies on deck',\n",
              "  'navigational lights'],\n",
              " 'truck': ['four wheels',\n",
              "  'powerful engine',\n",
              "  'flatbed',\n",
              "  'air intake',\n",
              "  'cargo area',\n",
              "  'tow hitch',\n",
              "  'running boards',\n",
              "  'spare tire',\n",
              "  'heavy-duty bumper',\n",
              "  'exhaust pipe at the back']}"
            ]
          },
          "metadata": {},
          "execution_count": 22
        }
      ]
    },
    {
      "cell_type": "code",
      "source": [
        "top_attributes_lists = {'airplane': ['two engines',\n",
        "  'winged design',\n",
        "  'landing gear',\n",
        "  'pressurized cabin',\n",
        "  'fuselage',\n",
        "  'cargo hold',\n",
        "  'control surfaces',\n",
        "  'paint scheme',\n",
        "  'hump on fuselage',\n",
        "  'swept-wing'],\n",
        " 'automobile': ['four-door',\n",
        "  'sporty design',\n",
        "  'round headlights',\n",
        "  'keyless entry',\n",
        "  'push-button start',\n",
        "  'adaptive cruise control',\n",
        "  'automatic transmission',\n",
        "  'tinted windows',\n",
        "  'premium audio system',\n",
        "  'dual-zone climate control'],\n",
        " 'bird': ['long beak',\n",
        "  'yellow beak',\n",
        "  'blue wings',\n",
        "  'short beak',\n",
        "  'avian',\n",
        "  'winged',\n",
        "  'bird-song',\n",
        "  'feathered',\n",
        "  'bright eyes',\n",
        "  'songbird'],\n",
        " 'cat': ['white-paws',\n",
        "  'short-tail',\n",
        "  'tri-colored',\n",
        "  'round-paws',\n",
        "  'curled-tail',\n",
        "  'green-eyes',\n",
        "  'muscular-body',\n",
        "  'purring-noise',\n",
        "  'soft-fur',\n",
        "  'blue-eyes'],\n",
        " 'deer': ['hoofed',\n",
        "  'antlers-male',\n",
        "  'spotted',\n",
        "  'graceful',\n",
        "  'dark-eyed',\n",
        "  'white-tail',\n",
        "  'small hooves',\n",
        "  'high-alertness',\n",
        "  'soft-whitetail',\n",
        "  'quick movements'],\n",
        " 'dog': ['wagging tail',\n",
        "  'wet nose',\n",
        "  'spotted',\n",
        "  'hound-like',\n",
        "  'dark-colored',\n",
        "  'short snout',\n",
        "  'rectangular face',\n",
        "  'long hair',\n",
        "  'round eyes',\n",
        "  'floppy ears'],\n",
        " 'frog': ['croaking voice',\n",
        "  'large eyes',\n",
        "  'toad-like appearance',\n",
        "  'green',\n",
        "  'eardrums on inner legs',\n",
        "  'short body',\n",
        "  'tadpole stage',\n",
        "  'pointy snout',\n",
        "  'moist skin',\n",
        "  'smooth skin'],\n",
        " 'horse': ['dark-eyes',\n",
        "  'black tail',\n",
        "  'black mane',\n",
        "  'muscular build',\n",
        "  'large, expressive eyes',\n",
        "  'feathered fetlocks',\n",
        "  'white socks',\n",
        "  'white socks on hind legs',\n",
        "  'white socks on hind legs',\n",
        "  'white socks on hind legs, right'],\n",
        " 'ship': ['large sailing vessel',\n",
        "  'lifeboats',\n",
        "  'steel hull',\n",
        "  'grey hull',\n",
        "  'life raft',\n",
        "  'white superstructure',\n",
        "  'blue hull',\n",
        "  'cargo holds',\n",
        "  'balconies on deck',\n",
        "  'navigational lights'],\n",
        " 'truck': ['four wheels',\n",
        "  'powerful engine',\n",
        "  'flatbed',\n",
        "  'air intake',\n",
        "  'cargo area',\n",
        "  'tow hitch',\n",
        "  'running boards',\n",
        "  'spare tire',\n",
        "  'heavy-duty bumper',\n",
        "  'exhaust pipe at the back']}\n",
        "\n",
        "templates1 = {}\n",
        "templates2 = {}\n",
        "templates3 = {}\n",
        "templates4 = {}\n",
        "templates5 = {}\n",
        "templates6 = {}\n",
        "templates7 = {}\n",
        "templates8 = {}\n",
        "templates9 = {}\n",
        "templates10 = {}\n",
        "\n",
        "for i in range(0,10) :\n",
        "  templates1[cifar10.classes[i]] = [f\"a photo of a {cifar10.classes[i]} because of {top_attributes_lists[cifar10.classes[i]][0]}\"]\n",
        "  templates2[cifar10.classes[i]] = [f\"a photo of a {cifar10.classes[i]} because of {top_attributes_lists[cifar10.classes[i]][0]} and {top_attributes_lists[cifar10.classes[i]][1]}\"]\n",
        "  templates3[cifar10.classes[i]] = [f\"a photo of a {cifar10.classes[i]} because of {top_attributes_lists[cifar10.classes[i]][0]}, {top_attributes_lists[cifar10.classes[i]][1]} and {top_attributes_lists[cifar10.classes[i]][2]}\"]\n",
        "  templates4[cifar10.classes[i]] = [f\"a photo of a {cifar10.classes[i]} because of {top_attributes_lists[cifar10.classes[i]][0]}, {top_attributes_lists[cifar10.classes[i]][1]}, {top_attributes_lists[cifar10.classes[i]][2]} and {top_attributes_lists[cifar10.classes[i]][3]}\"]\n",
        "  templates5[cifar10.classes[i]] = [f\"a photo of a {cifar10.classes[i]} because of {top_attributes_lists[cifar10.classes[i]][0]}, {top_attributes_lists[cifar10.classes[i]][1]}, {top_attributes_lists[cifar10.classes[i]][2]}, {top_attributes_lists[cifar10.classes[i]][3]} and {top_attributes_lists[cifar10.classes[i]][4]}\"]\n",
        "  templates6[cifar10.classes[i]] = [f\"a photo of a {cifar10.classes[i]} because of {top_attributes_lists[cifar10.classes[i]][0]}, {top_attributes_lists[cifar10.classes[i]][1]}, {top_attributes_lists[cifar10.classes[i]][2]}, {top_attributes_lists[cifar10.classes[i]][3]}, {top_attributes_lists[cifar10.classes[i]][4]} and {top_attributes_lists[cifar10.classes[i]][5]}\"]\n",
        "  templates7[cifar10.classes[i]] = [f\"a photo of a {cifar10.classes[i]} because of {top_attributes_lists[cifar10.classes[i]][0]}, {top_attributes_lists[cifar10.classes[i]][1]}, {top_attributes_lists[cifar10.classes[i]][2]}, {top_attributes_lists[cifar10.classes[i]][3]}, {top_attributes_lists[cifar10.classes[i]][4]}, {top_attributes_lists[cifar10.classes[i]][5]} and {top_attributes_lists[cifar10.classes[i]][6]}\"]\n",
        "  templates8[cifar10.classes[i]] = [f\"a photo of a {cifar10.classes[i]} because of {top_attributes_lists[cifar10.classes[i]][0]}, {top_attributes_lists[cifar10.classes[i]][1]}, {top_attributes_lists[cifar10.classes[i]][2]}, {top_attributes_lists[cifar10.classes[i]][3]}, {top_attributes_lists[cifar10.classes[i]][4]}, {top_attributes_lists[cifar10.classes[i]][5]}, {top_attributes_lists[cifar10.classes[i]][6]} and {top_attributes_lists[cifar10.classes[i]][7]}\"]\n",
        "  templates9[cifar10.classes[i]] = [f\"a photo of a {cifar10.classes[i]} because of {top_attributes_lists[cifar10.classes[i]][0]}, {top_attributes_lists[cifar10.classes[i]][1]}, {top_attributes_lists[cifar10.classes[i]][2]}, {top_attributes_lists[cifar10.classes[i]][3]}, {top_attributes_lists[cifar10.classes[i]][4]}, {top_attributes_lists[cifar10.classes[i]][5]}, {top_attributes_lists[cifar10.classes[i]][6]}, {top_attributes_lists[cifar10.classes[i]][7]} and {top_attributes_lists[cifar10.classes[i]][8]}\"]\n",
        "  templates10[cifar10.classes[i]] = [f\"a photo of a {cifar10.classes[i]} because of {top_attributes_lists[cifar10.classes[i]][0]}, {top_attributes_lists[cifar10.classes[i]][1]}, {top_attributes_lists[cifar10.classes[i]][2]}, {top_attributes_lists[cifar10.classes[i]][3]}, {top_attributes_lists[cifar10.classes[i]][4]}, {top_attributes_lists[cifar10.classes[i]][5]}, {top_attributes_lists[cifar10.classes[i]][6]}, {top_attributes_lists[cifar10.classes[i]][7]}, {top_attributes_lists[cifar10.classes[i]][8]} and {top_attributes_lists[cifar10.classes[i]][9]}\"]"
      ],
      "metadata": {
        "id": "zNIdSzY6QxEu"
      },
      "execution_count": null,
      "outputs": []
    },
    {
      "cell_type": "code",
      "source": [
        "import tqdm\n",
        "\n",
        "def test_classifier_with_templates(templates):\n",
        "  \"\"\"\n",
        "  Tests the classifier's performance using the provided templates.\n",
        "\n",
        "  Args:\n",
        "    templates: A dictionary mapping class names to lists of templates.\n",
        "  \"\"\"\n",
        "\n",
        "  zeroshot_weights = zeroshot_classifier_with_attributes(cifar10.classes, templates)\n",
        "\n",
        "  with torch.no_grad():\n",
        "    top1, top5, n = 0., 0., 0.\n",
        "    for i, (images, target) in enumerate(tqdm.tqdm(data_loader)):\n",
        "      images = images.cuda()\n",
        "      target = target.cuda()\n",
        "\n",
        "      # Predict\n",
        "      image_features = model.encode_image(images)\n",
        "      image_features /= image_features.norm(dim=-1, keepdim=True)\n",
        "\n",
        "      # Measure accuracy\n",
        "      logits = 100. * image_features @ zeroshot_weights\n",
        "      acc1, acc5 = accuracy(logits, target, topk=(1, 5))\n",
        "      top1 += acc1\n",
        "      top5 += acc5\n",
        "\n",
        "      n += images.size(0)\n",
        "\n",
        "  top1 = (top1 / n) * 100\n",
        "\n",
        "\n",
        "  print()\n",
        "  print(f\"Top-1 accuracy: {top1:.2f}\")\n",
        "\n",
        "\n",
        "# Test with templates1, templates2, ..., templates10\n",
        "test_classifier_with_templates(templates1)\n",
        "test_classifier_with_templates(templates2)\n",
        "test_classifier_with_templates(templates3)\n",
        "test_classifier_with_templates(templates4)\n",
        "test_classifier_with_templates(templates5)\n",
        "test_classifier_with_templates(templates6)\n",
        "test_classifier_with_templates(templates7)\n",
        "test_classifier_with_templates(templates8)\n",
        "test_classifier_with_templates(templates9)\n",
        "test_classifier_with_templates(templates10)\n"
      ],
      "metadata": {
        "colab": {
          "base_uri": "https://localhost:8080/"
        },
        "id": "Pa2644JJRqGR",
        "outputId": "6a5c537e-eb10-4018-dcb7-67895c143e26"
      },
      "execution_count": null,
      "outputs": [
        {
          "output_type": "stream",
          "name": "stderr",
          "text": [
            "100%|██████████| 10/10 [00:00<00:00, 10.22it/s]\n",
            "  0%|          | 0/10000 [00:00<?, ?it/s]<ipython-input-19-3821fb981e91>:4: DeprecationWarning: Conversion of an array with ndim > 0 to a scalar is deprecated, and will error in future. Ensure you extract a single element from your array before performing this operation. (Deprecated NumPy 1.25.)\n",
            "  return [float(correct[:k].reshape(-1).float().sum(0, keepdim=True).cpu().numpy()) for k in topk]\n",
            "100%|██████████| 10000/10000 [01:57<00:00, 84.82it/s]\n"
          ]
        },
        {
          "output_type": "stream",
          "name": "stdout",
          "text": [
            "\n",
            "Top-1 accuracy: 70.59\n"
          ]
        },
        {
          "output_type": "stream",
          "name": "stderr",
          "text": [
            "100%|██████████| 10/10 [00:00<00:00, 99.96it/s]\n",
            "100%|██████████| 10000/10000 [01:52<00:00, 88.67it/s]\n"
          ]
        },
        {
          "output_type": "stream",
          "name": "stdout",
          "text": [
            "\n",
            "Top-1 accuracy: 73.00\n"
          ]
        },
        {
          "output_type": "stream",
          "name": "stderr",
          "text": [
            "100%|██████████| 10/10 [00:00<00:00, 102.59it/s]\n",
            "100%|██████████| 10000/10000 [02:01<00:00, 82.51it/s]\n"
          ]
        },
        {
          "output_type": "stream",
          "name": "stdout",
          "text": [
            "\n",
            "Top-1 accuracy: 67.60\n"
          ]
        },
        {
          "output_type": "stream",
          "name": "stderr",
          "text": [
            "100%|██████████| 10/10 [00:00<00:00, 110.03it/s]\n",
            "100%|██████████| 10000/10000 [01:48<00:00, 92.16it/s]\n"
          ]
        },
        {
          "output_type": "stream",
          "name": "stdout",
          "text": [
            "\n",
            "Top-1 accuracy: 68.69\n"
          ]
        },
        {
          "output_type": "stream",
          "name": "stderr",
          "text": [
            "100%|██████████| 10/10 [00:00<00:00, 107.21it/s]\n",
            "100%|██████████| 10000/10000 [01:47<00:00, 92.85it/s]\n"
          ]
        },
        {
          "output_type": "stream",
          "name": "stdout",
          "text": [
            "\n",
            "Top-1 accuracy: 69.53\n"
          ]
        },
        {
          "output_type": "stream",
          "name": "stderr",
          "text": [
            "100%|██████████| 10/10 [00:00<00:00, 96.34it/s]\n",
            "100%|██████████| 10000/10000 [01:48<00:00, 92.22it/s]\n"
          ]
        },
        {
          "output_type": "stream",
          "name": "stdout",
          "text": [
            "\n",
            "Top-1 accuracy: 65.76\n"
          ]
        },
        {
          "output_type": "stream",
          "name": "stderr",
          "text": [
            "100%|██████████| 10/10 [00:00<00:00, 106.57it/s]\n",
            "100%|██████████| 10000/10000 [01:48<00:00, 92.02it/s]\n"
          ]
        },
        {
          "output_type": "stream",
          "name": "stdout",
          "text": [
            "\n",
            "Top-1 accuracy: 62.37\n"
          ]
        },
        {
          "output_type": "stream",
          "name": "stderr",
          "text": [
            "100%|██████████| 10/10 [00:00<00:00, 84.52it/s]\n",
            "100%|██████████| 10000/10000 [01:47<00:00, 93.01it/s]\n"
          ]
        },
        {
          "output_type": "stream",
          "name": "stdout",
          "text": [
            "\n",
            "Top-1 accuracy: 55.35\n"
          ]
        },
        {
          "output_type": "stream",
          "name": "stderr",
          "text": [
            "100%|██████████| 10/10 [00:00<00:00, 106.01it/s]\n",
            "100%|██████████| 10000/10000 [01:48<00:00, 92.54it/s]\n"
          ]
        },
        {
          "output_type": "stream",
          "name": "stdout",
          "text": [
            "\n",
            "Top-1 accuracy: 64.23\n"
          ]
        },
        {
          "output_type": "stream",
          "name": "stderr",
          "text": [
            "100%|██████████| 10/10 [00:00<00:00, 109.48it/s]\n",
            "100%|██████████| 10000/10000 [01:47<00:00, 93.23it/s]"
          ]
        },
        {
          "output_type": "stream",
          "name": "stdout",
          "text": [
            "\n",
            "Top-1 accuracy: 62.93\n"
          ]
        },
        {
          "output_type": "stream",
          "name": "stderr",
          "text": [
            "\n"
          ]
        }
      ]
    },
    {
      "cell_type": "markdown",
      "source": [
        "## Fine-Tuning"
      ],
      "metadata": {
        "id": "mCx9RSrc5M9z"
      }
    },
    {
      "cell_type": "code",
      "source": [
        "# prompt: on veut un dictionnaire de 10 attributs pour chaque classe en utilisant get_attributes10\n",
        "\n",
        "attributes_dict = {}\n",
        "for classname in cifar10.classes:\n",
        "  attributes_dict[classname] = get_attributes10(classname)\n",
        "\n",
        "attributes_dict\n"
      ],
      "metadata": {
        "id": "S89PzHWI_eMG"
      },
      "execution_count": null,
      "outputs": []
    },
    {
      "cell_type": "code",
      "source": [
        "def select_random_attribute_per_class(attributes_dict):\n",
        "  \"\"\"\n",
        "  Selects a random attribute for each class from the given dictionary.\n",
        "\n",
        "  Args:\n",
        "    attributes_dict: A dictionary where keys are class names and values are lists of attributes.\n",
        "\n",
        "  Returns:\n",
        "    A dictionary with one random attribute per class.\n",
        "  \"\"\"\n",
        "  selected_attributes = {}\n",
        "  for classname, attributes in attributes_dict.items():\n",
        "    random_attribute = random.choice(attributes)\n",
        "    selected_attributes[classname] = random_attribute\n",
        "  return selected_attributes\n",
        "\n"
      ],
      "metadata": {
        "id": "mfPMWO95_9-e"
      },
      "execution_count": null,
      "outputs": []
    },
    {
      "cell_type": "code",
      "source": [
        "def create_templates(selected_attributes):\n",
        "  \"\"\"\n",
        "  Creates templates for each class using the selected attributes.\n",
        "\n",
        "  Args:\n",
        "    selected_attributes: A dictionary with one attribute per class.\n",
        "\n",
        "  Returns:\n",
        "    A dictionary where keys are class names and values are lists of templates.\n",
        "  \"\"\"\n",
        "  templates = {}\n",
        "  for classname, attr1 in selected_attributes.items():\n",
        "    templates[classname] = [f\"a photo of a {classname} because of {attr1}\"]\n",
        "  return templates\n"
      ],
      "metadata": {
        "id": "aIERn9I3AWHQ"
      },
      "execution_count": null,
      "outputs": []
    },
    {
      "cell_type": "code",
      "source": [
        "import torch.optim as optim\n",
        "\n",
        "# 1. Préparer les données\n",
        "train_loader = torch.utils.data.DataLoader(cifar10, batch_size=32, shuffle=True)\n",
        "\n",
        "# 2. Modifier le modèle\n",
        "for param in model.parameters():\n",
        "    param.requires_grad = False  # Geler tous les paramètres\n",
        "\n",
        "# Définir les couches à réentraîner\n",
        "for param in model.visual.layer4[-2:].parameters():\n",
        "    param.requires_grad = True\n",
        "for param in model.transformer.resblocks[-2:].parameters():\n",
        "    param.requires_grad = True\n",
        "\n",
        "# 3. Définir la fonction de perte\n",
        "criterion = torch.nn.CrossEntropyLoss()\n",
        "\n",
        "# 4. Entraîner le modèle\n",
        "optimizer = optim.Adam(filter(lambda p: p.requires_grad, model.parameters()), lr=1e-3)\n",
        "\n",
        "epochs = 10  # Nombre d'epochs d'entraînement\n",
        "for epoch in range(epochs):\n",
        "    for images, targets in tqdm.tqdm(train_loader):\n",
        "        images = images.cuda()\n",
        "        targets = targets.cuda()\n",
        "\n",
        "        # Obtenir les embeddings d'image et de texte\n",
        "        image_features = model.encode_image(images)\n",
        "\n",
        "        # --- Correction ---\n",
        "        # Créer une liste de templates correspondant aux targets du batch\n",
        "        text_templates = [best_templates[cifar10.classes[target.item()]][0] for target in targets]\n",
        "        # Tokeniser les templates et les envoyer au GPU\n",
        "        text_tokens = clip.tokenize(text_templates).cuda()\n",
        "        # Encoder les templates\n",
        "        text_features = model.encode_text(text_tokens)\n",
        "        # --- Fin de la correction ---\n",
        "\n",
        "        # Calculer la perte\n",
        "        logits_per_image = image_features @ text_features.T # Similarité cosinus pour chaque image/template\n",
        "        probs = torch.nn.functional.softmax(logits_per_image, dim=1)  # Appliquer softmax sur la dimension 1 (classes)\n",
        "        loss = criterion(probs, targets)\n",
        "\n",
        "        # Mettre à jour les paramètres du modèle\n",
        "        optimizer.zero_grad()\n",
        "        loss.backward()\n",
        "        optimizer.step()"
      ],
      "metadata": {
        "id": "oofqhKd-5WYm",
        "colab": {
          "base_uri": "https://localhost:8080/"
        },
        "outputId": "60474820-9765-400f-9da7-f32d19c6da65"
      },
      "execution_count": null,
      "outputs": [
        {
          "output_type": "stream",
          "name": "stderr",
          "text": [
            "100%|██████████| 313/313 [00:44<00:00,  7.07it/s]\n",
            "100%|██████████| 313/313 [00:41<00:00,  7.52it/s]\n",
            "100%|██████████| 313/313 [00:50<00:00,  6.25it/s]\n",
            "100%|██████████| 313/313 [00:51<00:00,  6.08it/s]\n",
            "100%|██████████| 313/313 [00:47<00:00,  6.53it/s]\n",
            "100%|██████████| 313/313 [01:02<00:00,  5.00it/s]\n",
            "100%|██████████| 313/313 [00:56<00:00,  5.55it/s]\n",
            "100%|██████████| 313/313 [00:58<00:00,  5.35it/s]\n",
            "100%|██████████| 313/313 [01:00<00:00,  5.16it/s]\n",
            "100%|██████████| 313/313 [00:52<00:00,  5.96it/s]\n"
          ]
        }
      ]
    },
    {
      "cell_type": "code",
      "source": [
        "from torch.utils.data import Subset\n",
        "\n",
        "cifar10_2 = CIFAR10(root=os.path.expanduser(\"~/.cache\"), transform=preprocess, download=True, train=True)\n",
        "cifar10_dim = Subset(cifar10_2, range(5000))\n",
        "data_loader = torch.utils.data.DataLoader(cifar10_dim, batch_size=32, shuffle=True)\n",
        "\n",
        "zeroshot_weights = zeroshot_classifier_with_attributes(cifar10.classes, best_templates)\n",
        "\n",
        "with torch.no_grad():\n",
        "  top1, top5, n = 0., 0., 0.\n",
        "  for i, (images, target) in enumerate(tqdm.tqdm(data_loader)):\n",
        "    images = images.cuda()\n",
        "    target = target.cuda()\n",
        "\n",
        "    # predict\n",
        "    image_features = model.encode_image(images)\n",
        "    image_features /= image_features.norm(dim=-1, keepdim=True)\n",
        "\n",
        "    # measure accuracy\n",
        "    logits = 100. * image_features @ zeroshot_weights\n",
        "    acc1, acc5 = accuracy(logits, target, topk=(1, 5))\n",
        "    top1 += acc1\n",
        "    top5 += acc5\n",
        "\n",
        "    n += images.size(0)\n",
        "\n",
        "top1 = (top1 / n) * 100\n",
        "top5 = (top5 / n) * 100\n",
        "\n",
        "print()\n",
        "print(f\"Top-1 accuracy: {top1:.2f}\")\n",
        "print(f\"Top-5 accuracy: {top5:.2f}\")"
      ],
      "metadata": {
        "id": "ry1lx_NaAz3Q",
        "colab": {
          "base_uri": "https://localhost:8080/"
        },
        "outputId": "4f1c6a42-fa29-4a75-9a38-933a0a41914c"
      },
      "execution_count": null,
      "outputs": [
        {
          "output_type": "stream",
          "name": "stderr",
          "text": [
            "100%|██████████| 10/10 [00:00<00:00, 66.69it/s]\n",
            "  0%|          | 0/157 [00:00<?, ?it/s]<ipython-input-22-07f05e45ae7b>:4: DeprecationWarning: Conversion of an array with ndim > 0 to a scalar is deprecated, and will error in future. Ensure you extract a single element from your array before performing this operation. (Deprecated NumPy 1.25.)\n",
            "  return [float(correct[:k].reshape(-1).float().sum(0, keepdim=True).cpu().numpy()) for k in topk]\n",
            "100%|██████████| 157/157 [00:19<00:00,  8.08it/s]"
          ]
        },
        {
          "output_type": "stream",
          "name": "stdout",
          "text": [
            "\n",
            "Top-1 accuracy: 9.20\n",
            "Top-5 accuracy: 49.78\n"
          ]
        },
        {
          "output_type": "stream",
          "name": "stderr",
          "text": [
            "\n"
          ]
        }
      ]
    },
    {
      "cell_type": "code",
      "source": [],
      "metadata": {
        "id": "sVuPUuzAKd5I"
      },
      "execution_count": null,
      "outputs": []
    }
  ]
}